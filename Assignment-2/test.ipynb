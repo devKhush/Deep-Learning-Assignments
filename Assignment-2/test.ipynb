{
 "cells": [
  {
   "cell_type": "code",
   "execution_count": 1,
   "metadata": {},
   "outputs": [
    {
     "name": "stderr",
     "output_type": "stream",
     "text": [
      "c:\\Users\\khush\\anaconda3\\envs\\dla2_env\\Lib\\site-packages\\torchvision\\io\\image.py:13: UserWarning: Failed to load image Python extension: '[WinError 127] The specified procedure could not be found'If you don't plan on using image functionality from `torchvision.io`, you can ignore this warning. Otherwise, there might be something wrong with your environment. Did you have `libjpeg` or `libpng` installed before building `torchvision` from source?\n",
      "  warn(\n"
     ]
    }
   ],
   "source": [
    "import torch\n",
    "from torchvision.datasets import CIFAR10\n",
    "from torchvision import transforms\n",
    "import matplotlib.pyplot as plt\n",
    "# import os; os.environ[\"KMP_DUPLICATE_LIB_OK\"]=\"TRUE\""
   ]
  },
  {
   "cell_type": "markdown",
   "metadata": {},
   "source": [
    "# CIFAR Test\n"
   ]
  },
  {
   "cell_type": "code",
   "execution_count": 2,
   "metadata": {},
   "outputs": [
    {
     "name": "stdout",
     "output_type": "stream",
     "text": [
      "Files already downloaded and verified\n"
     ]
    }
   ],
   "source": [
    "dataset = CIFAR10(root='data/', download=True, train=True, transform=transforms.ToTensor())"
   ]
  },
  {
   "cell_type": "code",
   "execution_count": 3,
   "metadata": {},
   "outputs": [
    {
     "data": {
      "image/png": "[encoded data removed]",
      "text/plain": [
       "<Figure size 640x480 with 1 Axes>"
      ]
     },
     "metadata": {},
     "output_type": "display_data"
    }
   ],
   "source": [
    "# divide dataset into train and validation\n",
    "from torch.utils.data import random_split\n",
    "seed = 42\n",
    "train_to_val_split = 0.85\n",
    "train_ds_len = int(len(dataset) * train_to_val_split)\n",
    "val_ds_len = len(dataset) - train_ds_len\n",
    "train_ds, val_ds = random_split(dataset, [train_ds_len, val_ds_len], generator=torch.Generator().manual_seed(seed))\n",
    "plt.imshow(val_ds[0][0].permute(1, 2, 0));"
   ]
  },
  {
   "cell_type": "code",
   "execution_count": 4,
   "metadata": {},
   "outputs": [
    {
     "data": {
      "text/plain": [
       "(42500, 7500)"
      ]
     },
     "execution_count": 4,
     "metadata": {},
     "output_type": "execute_result"
    }
   ],
   "source": [
    "len(train_ds), len(val_ds)"
   ]
  },
  {
   "cell_type": "code",
   "execution_count": 5,
   "metadata": {},
   "outputs": [
    {
     "data": {
      "text/plain": [
       "(tensor([0.4906, 0.4812, 0.4448]), tensor([0.2477, 0.2440, 0.2620]))"
      ]
     },
     "execution_count": 5,
     "metadata": {},
     "output_type": "execute_result"
    }
   ],
   "source": [
    "images = torch.stack([img for img, _ in val_ds], dim=3)\n",
    "mean = images.view(3, -1).mean(dim=1)\n",
    "std = images.view(3, -1).std(dim=1)\n",
    "mean, std"
   ]
  },
  {
   "cell_type": "markdown",
   "metadata": {},
   "source": [
    "# Audio data"
   ]
  },
  {
   "cell_type": "code",
   "execution_count": 6,
   "metadata": {},
   "outputs": [],
   "source": [
    "from torch.utils.data import Dataset, DataLoader\n",
    "from torchaudio.datasets import SPEECHCOMMANDS\n",
    "\n",
    "class AudioDataset(Dataset):\n",
    "    def __init__(self, split:str=\"train\") -> None:\n",
    "        super().__init__()\n",
    "        if split not in [\"train\", \"test\", \"val\"]:\n",
    "            raise Exception(\"Data split must be in [train, test, val]\")\n",
    "        \n",
    "        self.datasplit = split\n",
    "        if self.datasplit == 'train':\n",
    "            self.dataset = SPEECHCOMMANDS(root='./data', download=True, subset='training')\n",
    "        elif self.datasplit == 'test':\n",
    "            self.dataset = SPEECHCOMMANDS(root='./data', download=True, subset='testing')\n",
    "        else:\n",
    "            self.dataset = SPEECHCOMMANDS(root='./data', download=True, subset='validation')\n",
    "        \n",
    "    def __len__(self) -> int:\n",
    "        return len(self.dataset)\n",
    "    \n",
    "    def __getitem__(self, index:int) -> tuple:\n",
    "        waveform, sample_rate, label, speaker_id, utterance_number = self.dataset[index]\n",
    "        return waveform, label\n",
    "        \n",
    "train_audio_ds = AudioDataset(split='train')\n",
    "val_audio_ds = AudioDataset(split='val')\n",
    "test_audio_ds = AudioDataset(split='test')"
   ]
  },
  {
   "cell_type": "code",
   "execution_count": 7,
   "metadata": {},
   "outputs": [
    {
     "data": {
      "text/plain": [
       "(84843, 9981, 11005)"
      ]
     },
     "execution_count": 7,
     "metadata": {},
     "output_type": "execute_result"
    }
   ],
   "source": [
    "len(train_audio_ds), len(val_audio_ds), len(test_audio_ds)"
   ]
  },
  {
   "cell_type": "markdown",
   "metadata": {},
   "source": [
    "# Resnet Testing\n"
   ]
  },
  {
   "cell_type": "code",
   "execution_count": 3,
   "metadata": {},
   "outputs": [
    {
     "name": "stdout",
     "output_type": "stream",
     "text": [
      "Files already downloaded and verified\n"
     ]
    }
   ],
   "source": [
    "import torch \n",
    "from torch import nn\n",
    "from torch.utils.data import DataLoader\n",
    "import matplotlib.pyplot as plt\n",
    "from Pipeline._2020211A2 import ImageDataset, AudioDataset, trainer, VGG_Q2, Resnet_Q1\n",
    "\n",
    "data = ImageDataset(split='train')\n",
    "loader = DataLoader(data, batch_size=128, shuffle=True)\n",
    "model = Resnet_Q1()\n",
    "criterion = nn.CrossEntropyLoss()\n",
    "optimizer = torch.optim.Adam(params=model.parameters(),lr=0.01)"
   ]
  },
  {
   "cell_type": "code",
   "execution_count": 4,
   "metadata": {},
   "outputs": [
    {
     "name": "stdout",
     "output_type": "stream",
     "text": [
      "torch.Size([128, 3, 32, 32])\n",
      "torch.Size([128, 10])\n"
     ]
    }
   ],
   "source": [
    "for img, label in loader:\n",
    "    print(img.shape)\n",
    "    out = model.forward_image(img)\n",
    "    print(out.shape)\n",
    "    break"
   ]
  }
 ],
 "metadata": {
  "kernelspec": {
   "display_name": "Python 3",
   "language": "python",
   "name": "python3"
  },
  "language_info": {
   "codemirror_mode": {
    "name": "ipython",
    "version": 3
   },
   "file_extension": ".py",
   "mimetype": "text/x-python",
   "name": "python",
   "nbconvert_exporter": "python",
   "pygments_lexer": "ipython3",
   "version": "3.11.7"
  }
 },
 "nbformat": 4,
 "nbformat_minor": 2
}
