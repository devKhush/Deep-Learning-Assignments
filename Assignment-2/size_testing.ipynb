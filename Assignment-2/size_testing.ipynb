{
 "cells": [
  {
   "cell_type": "markdown",
   "metadata": {},
   "source": [
    "# RESNET"
   ]
  },
  {
   "cell_type": "code",
   "execution_count": 206,
   "metadata": {},
   "outputs": [
    {
     "name": "stdout",
     "output_type": "stream",
     "text": [
      "Files already downloaded and verified\n"
     ]
    }
   ],
   "source": [
    "import torch, math\n",
    "import torch.nn as nn\n",
    "from Pipeline._2020211A2 import ImageDataset, VGG_Q2\n",
    "from torch.utils.data import DataLoader\n",
    "\n",
    "dataset = ImageDataset(split=\"train\")\n",
    "loader = DataLoader(dataset=dataset, batch_size=128, shuffle=True)"
   ]
  },
  {
   "cell_type": "code",
   "execution_count": 210,
   "metadata": {},
   "outputs": [
    {
     "name": "stdout",
     "output_type": "stream",
     "text": [
      "torch.Size([128, 3, 32, 32])\n",
      "torch.Size([128, 64, 16, 16])\n",
      "torch.Size([128, 64, 16, 16])\n",
      "torch.Size([128, 64, 16, 16])\n"
     ]
    }
   ],
   "source": [
    "def get_resnet_image_block(in_channel, out_channel, keep_size_same=True):\n",
    "    if not keep_size_same:\n",
    "        resnet_block = nn.Sequential(\n",
    "            nn.Conv2d(in_channels=in_channel, out_channels=out_channel, kernel_size=3, stride=2, padding=1),\n",
    "            nn.BatchNorm2d(num_features=out_channel),\n",
    "            nn.ReLU(),\n",
    "            nn.Conv2d(in_channels=out_channel, out_channels=out_channel, kernel_size=3, stride=1, padding=1),\n",
    "            nn.BatchNorm2d(num_features=out_channel)\n",
    "        )\n",
    "        skip_connection = nn.Sequential(\n",
    "            nn.Conv2d(in_channels=in_channel, out_channels=out_channel, kernel_size=1, stride=2),\n",
    "        )\n",
    "    else:\n",
    "        resnet_block = nn.Sequential(\n",
    "            nn.Conv2d(in_channels=in_channel, out_channels=out_channel, kernel_size=3, padding='same'),\n",
    "            nn.BatchNorm2d(num_features=out_channel),\n",
    "            nn.ReLU(),\n",
    "            nn.Conv2d(in_channels=out_channel, out_channels=out_channel, kernel_size=3, padding='same'),\n",
    "            nn.BatchNorm2d(num_features=out_channel)\n",
    "        )\n",
    "        skip_connection = nn.Sequential(\n",
    "            nn.Conv2d(in_channels=in_channel, out_channels=out_channel, kernel_size=1, padding='same')\n",
    "        )\n",
    "    return resnet_block, skip_connection\n",
    "\n",
    "dropout = nn.Dropout(p=0.5)\n",
    "block, signal = get_resnet_image_block(3, 64, keep_size_same=False)\n",
    "\n",
    "for image, label in loader:\n",
    "    print(image.shape)\n",
    "    b_out = block(image)\n",
    "    s_out = signal(image)\n",
    "    print(b_out.shape)\n",
    "    print(s_out.shape)\n",
    "    out = b_out + s_out\n",
    "    print(out.shape)\n",
    "    drop_out = dropout(out)\n",
    "    break"
   ]
  },
  {
   "cell_type": "markdown",
   "metadata": {},
   "source": [
    "# VGG"
   ]
  },
  {
   "cell_type": "code",
   "execution_count": 1,
   "metadata": {},
   "outputs": [
    {
     "name": "stderr",
     "output_type": "stream",
     "text": [
      "/mnt/disk1/sumdev/MSA_BTP/env/lib/python3.9/site-packages/torchvision/io/image.py:13: UserWarning: Failed to load image Python extension: '/mnt/disk1/sumdev/MSA_BTP/env/lib/python3.9/site-packages/torchvision/image.so: undefined symbol: _ZN3c1017RegisterOperatorsD1Ev'If you don't plan on using image functionality from `torchvision.io`, you can ignore this warning. Otherwise, there might be something wrong with your environment. Did you have `libjpeg` or `libpng` installed before building `torchvision` from source?\n",
      "  warn(\n"
     ]
    },
    {
     "name": "stdout",
     "output_type": "stream",
     "text": [
      "Files already downloaded and verified\n",
      "Files already downloaded and verified\n"
     ]
    }
   ],
   "source": [
    "import torch, math\n",
    "import torch.nn as nn\n",
    "from Pipeline._2020211A2 import ImageDataset, VGG_Q2\n",
    "from torch.utils.data import DataLoader\n",
    "\n",
    "dataset = ImageDataset(split=\"train\")\n",
    "loader = DataLoader(dataset=dataset, batch_size=128, shuffle=True)"
   ]
  },
  {
   "cell_type": "code",
   "execution_count": 4,
   "metadata": {},
   "outputs": [
    {
     "name": "stdout",
     "output_type": "stream",
     "text": [
      "[3, 14, 10, 7, 5, 4] [1, 3, 5, 7, 9]\n",
      "torch.Size([128, 3, 32, 32])\n",
      "torch.Size([128, 14, 20, 20])\n",
      "torch.Size([128, 10, 14, 14])\n",
      "torch.Size([128, 7, 10, 10])\n",
      "torch.Size([128, 5, 8, 8])\n",
      "torch.Size([128, 4, 4, 4])\n"
     ]
    }
   ],
   "source": [
    "def get_vgg_image_block(prev_channel, channel, kernel_size, num_conv, padding=0):\n",
    "    if num_conv == 2:\n",
    "        return nn.Sequential(\n",
    "            nn.Conv2d(in_channels=prev_channel, out_channels=channel, kernel_size=kernel_size, padding=padding),\n",
    "            nn.Conv2d(in_channels=channel, out_channels=channel, kernel_size=kernel_size, padding=padding),\n",
    "            nn.MaxPool2d(kernel_size=2)\n",
    "        )\n",
    "    elif num_conv == 3:\n",
    "        return nn.Sequential(\n",
    "            nn.Conv2d(in_channels=prev_channel, out_channels=channel, kernel_size=kernel_size, padding=padding),\n",
    "            nn.Conv2d(in_channels=channel, out_channels=channel, kernel_size=kernel_size, padding=padding),\n",
    "            nn.Conv2d(in_channels=channel, out_channels=channel, kernel_size=kernel_size, padding=padding),\n",
    "            nn.MaxPool2d(kernel_size=2)\n",
    "        )\n",
    "    return None\n",
    "\n",
    "channel, kernel_size = [3, 14], [1]\n",
    "for i in range(4):\n",
    "    channel.append(math.ceil(channel[-1] - 0.35*channel[-1]))\n",
    "    new_kernel = math.ceil(kernel_size[-1] + 0.25*kernel_size[-1])\n",
    "    kernel_size.append(new_kernel if new_kernel % 2 == 1 else new_kernel + 1)\n",
    "print(channel, kernel_size)\n",
    "im_block1 = get_vgg_image_block(channel[0], channel[1], kernel_size[0], num_conv=2, padding=2)\n",
    "im_block2 = get_vgg_image_block(channel[1], channel[2], kernel_size[1], num_conv=2, padding=3)\n",
    "im_block3 = get_vgg_image_block(channel[2], channel[3], kernel_size[2], num_conv=3, padding=3)\n",
    "im_block4 = get_vgg_image_block(channel[3], channel[4], kernel_size[3], num_conv=3, padding=4)\n",
    "im_block5 = get_vgg_image_block(channel[4], channel[5], kernel_size[4], num_conv=3, padding=4)\n",
    "\n",
    "for image, label in loader:\n",
    "    print(image.shape)\n",
    "    image = im_block1(image)\n",
    "    print(image.shape)\n",
    "    image = im_block2(image)\n",
    "    print(image.shape)\n",
    "    image = im_block3(image)\n",
    "    print(image.shape)\n",
    "    image = im_block4(image)\n",
    "    print(image.shape)\n",
    "    image = im_block5(image)\n",
    "    print(image.shape)\n",
    "    break"
   ]
  },
  {
   "cell_type": "code",
   "execution_count": 14,
   "metadata": {},
   "outputs": [],
   "source": [
    "import torch, math\n",
    "import torch.nn as nn\n",
    "from Pipeline._2020211A2 import AudioDataset, VGG_Q2\n",
    "from torch.utils.data import DataLoader\n",
    "\n",
    "dataset = AudioDataset(split=\"train\")\n",
    "loader = DataLoader(dataset=dataset, batch_size=128, shuffle=True)"
   ]
  },
  {
   "cell_type": "code",
   "execution_count": 27,
   "metadata": {},
   "outputs": [
    {
     "name": "stdout",
     "output_type": "stream",
     "text": [
      "[1, 8, 6, 4, 3, 2] [3, 4, 5, 7, 9]\n",
      "torch.Size([128, 1, 16000])\n",
      "torch.Size([128, 1, 16000])\n",
      "torch.Size([128, 8, 5332])\n",
      "torch.Size([128, 6, 1775])\n",
      "torch.Size([128, 4, 587])\n",
      "torch.Size([128, 3, 189])\n",
      "torch.Size([128, 2, 55])\n"
     ]
    }
   ],
   "source": [
    "def get_vgg_audio_block(prev_channel, channel, kernel_size, num_conv):\n",
    "    if num_conv == 2:\n",
    "        return nn.Sequential(\n",
    "            nn.Conv1d(in_channels=prev_channel, out_channels=channel, kernel_size=kernel_size),\n",
    "            nn.Conv1d(in_channels=channel, out_channels=channel, kernel_size=kernel_size),\n",
    "            nn.MaxPool1d(kernel_size=3)\n",
    "        )\n",
    "    elif num_conv == 3:\n",
    "        return nn.Sequential(\n",
    "            nn.Conv1d(in_channels=prev_channel, out_channels=channel, kernel_size=kernel_size),\n",
    "            nn.Conv1d(in_channels=channel, out_channels=channel, kernel_size=kernel_size),\n",
    "            nn.Conv1d(in_channels=channel, out_channels=channel, kernel_size=kernel_size),\n",
    "            nn.MaxPool1d(kernel_size=3)\n",
    "        )\n",
    "    return None\n",
    "\n",
    "channel, kernel_size = [1, 8], [3]\n",
    "for i in range(4):\n",
    "    channel.append(math.ceil(channel[-1] - 0.35*channel[-1]))\n",
    "    kernel_size.append(math.ceil(kernel_size[-1] + 0.25*kernel_size[-1]))\n",
    "print(channel, kernel_size)\n",
    "au_block1 = get_vgg_audio_block(channel[0], channel[1], kernel_size[0], 2)\n",
    "au_block2 = get_vgg_audio_block(channel[1], channel[2], kernel_size[1], 2)\n",
    "au_block3 = get_vgg_audio_block(channel[2], channel[3], kernel_size[2], 3)\n",
    "au_block4 = get_vgg_audio_block(channel[3], channel[4], kernel_size[3], 3)\n",
    "au_block5 = get_vgg_audio_block(channel[4], channel[5], kernel_size[4], 3)\n",
    "\n",
    "\n",
    "for audio, label in loader:\n",
    "    print(audio.shape)\n",
    "    print(audio.shape)\n",
    "    audio = au_block1(audio)\n",
    "    print(audio.shape)\n",
    "    audio = au_block2(audio)\n",
    "    print(audio.shape)\n",
    "    audio = au_block3(audio)\n",
    "    print(audio.shape)\n",
    "    audio = au_block4(audio)\n",
    "    print(audio.shape)\n",
    "    audio = au_block5(audio)\n",
    "    print(audio.shape)\n",
    "    break"
   ]
  },
  {
   "cell_type": "markdown",
   "metadata": {},
   "source": [
    "# Inception"
   ]
  },
  {
   "cell_type": "code",
   "execution_count": 6,
   "metadata": {},
   "outputs": [
    {
     "name": "stdout",
     "output_type": "stream",
     "text": [
      "Files already downloaded and verified\n"
     ]
    }
   ],
   "source": [
    "import torch, math\n",
    "import torch.nn as nn\n",
    "from Pipeline._2020211A2 import ImageDataset, VGG_Q2\n",
    "from torch.utils.data import DataLoader\n",
    "\n",
    "dataset = ImageDataset(split=\"train\")\n",
    "loader = DataLoader(dataset=dataset, batch_size=128, shuffle=True)"
   ]
  },
  {
   "cell_type": "code",
   "execution_count": 15,
   "metadata": {},
   "outputs": [
    {
     "name": "stdout",
     "output_type": "stream",
     "text": [
      "torch.Size([128, 8, 2, 2]) torch.Size([128, 8, 2, 2]) torch.Size([128, 8, 2, 2]) torch.Size([128, 8, 2, 2])\n",
      "torch.Size([128, 8, 2, 2])\n"
     ]
    }
   ],
   "source": [
    "def get_inception_image_block(in_channel, out_channel, keep_size_same=True):\n",
    "    if keep_size_same:\n",
    "        return nn.Sequential(\n",
    "            nn.Conv2d(in_channels=in_channel, out_channels=out_channel, kernel_size=1),\n",
    "            nn.BatchNorm2d(num_features=out_channel),\n",
    "            nn.ReLU(),\n",
    "        ), nn.Sequential(\n",
    "            nn.Conv2d(in_channels=in_channel, out_channels=out_channel, kernel_size=3, padding='same'),\n",
    "            nn.BatchNorm2d(num_features=out_channel),\n",
    "            nn.ReLU(),\n",
    "            nn.Conv2d(in_channels=out_channel, out_channels=out_channel, kernel_size=5, padding='same'),\n",
    "            nn.BatchNorm2d(num_features=out_channel),\n",
    "            nn.ReLU()\n",
    "        ), nn.Sequential(\n",
    "            nn.Conv2d(in_channels=in_channel, out_channels=out_channel, kernel_size=3, padding='same'),\n",
    "            nn.BatchNorm2d(num_features=out_channel),\n",
    "            nn.ReLU(),\n",
    "            nn.Conv2d(in_channels=out_channel, out_channels=out_channel, kernel_size=5, padding='same'),\n",
    "            nn.BatchNorm2d(num_features=out_channel),\n",
    "            nn.ReLU()\n",
    "        ), nn.Sequential(\n",
    "            nn.MaxPool2d(kernel_size=3, stride=1, padding=1),\n",
    "            nn.Conv2d(in_channels=in_channel, out_channels=out_channel, kernel_size=1)\n",
    "        )\n",
    "    else:\n",
    "        return nn.Sequential(\n",
    "            nn.Conv2d(in_channels=in_channel, out_channels=out_channel, kernel_size=1, stride=2),\n",
    "            nn.BatchNorm2d(num_features=out_channel),\n",
    "            nn.ReLU(),\n",
    "        ), nn.Sequential(\n",
    "            nn.Conv2d(in_channels=in_channel, out_channels=out_channel, kernel_size=3, stride=1, padding=2),\n",
    "            nn.BatchNorm2d(num_features=out_channel),\n",
    "            nn.ReLU(),\n",
    "            nn.Conv2d(in_channels=out_channel, out_channels=out_channel, kernel_size=5, stride=2, padding=1),\n",
    "            nn.BatchNorm2d(num_features=out_channel),\n",
    "            nn.ReLU()\n",
    "        ), nn.Sequential(\n",
    "            nn.Conv2d(in_channels=in_channel, out_channels=out_channel, kernel_size=3, stride=2, padding=1),\n",
    "            nn.BatchNorm2d(num_features=out_channel),\n",
    "            nn.ReLU(),\n",
    "            nn.Conv2d(in_channels=out_channel, out_channels=out_channel, kernel_size=5, stride=1, padding=2),\n",
    "            nn.BatchNorm2d(num_features=out_channel),\n",
    "            nn.ReLU()\n",
    "        ), nn.Sequential(\n",
    "            nn.MaxPool2d(kernel_size=3, stride=2, padding=1),\n",
    "            nn.Conv2d(in_channels=in_channel, out_channels=out_channel, kernel_size=1)\n",
    "        )\n",
    "        \n",
    "\n",
    "channel = [3, 8, 16, 32, 64]\n",
    "im_b1_path1, im_b1_path2, im_b1_path3, im_b1_path4 = get_inception_image_block(channel[0], channel[1], keep_size_same=False)\n",
    "im_b2_path1, im_b2_path2, im_b2_path3, im_b2_path4 = get_inception_image_block(channel[1], channel[2])\n",
    "im_b3_path1, im_b3_path2, im_b3_path3, im_b3_path4 = get_inception_image_block(channel[2], channel[3])\n",
    "im_b4_path1, im_b4_path2, im_b4_path3, im_b4_path4 = get_inception_image_block(channel[3], channel[4])\n",
    "\n",
    "image = torch.randn(128, 3, 4, 4)\n",
    "p1_out = im_b1_path1(image)\n",
    "p2_out = im_b1_path2(image)\n",
    "p3_out = im_b1_path3(image)\n",
    "p4_out = im_b1_path4(image)\n",
    "print(p1_out.shape, p2_out.shape, p3_out.shape, p4_out.shape)\n",
    "out = p1_out + p2_out + p3_out + p4_out\n",
    "print(out.shape)"
   ]
  },
  {
   "cell_type": "code",
   "execution_count": 2,
   "metadata": {},
   "outputs": [
    {
     "name": "stderr",
     "output_type": "stream",
     "text": [
      "/mnt/disk1/sumdev/MSA_BTP/env/lib/python3.9/site-packages/torchvision/io/image.py:13: UserWarning: Failed to load image Python extension: '/mnt/disk1/sumdev/MSA_BTP/env/lib/python3.9/site-packages/torchvision/image.so: undefined symbol: _ZN3c1017RegisterOperatorsD1Ev'If you don't plan on using image functionality from `torchvision.io`, you can ignore this warning. Otherwise, there might be something wrong with your environment. Did you have `libjpeg` or `libpng` installed before building `torchvision` from source?\n",
      "  warn(\n"
     ]
    },
    {
     "name": "stdout",
     "output_type": "stream",
     "text": [
      "Files already downloaded and verified\n"
     ]
    }
   ],
   "source": [
    "import torch, math\n",
    "import torch.nn as nn\n",
    "from Pipeline._2020211A2 import AudioDataset, VGG_Q2\n",
    "from torch.utils.data import DataLoader\n",
    "\n",
    "dataset = AudioDataset(split=\"train\")\n",
    "loader = DataLoader(dataset=dataset, batch_size=128, shuffle=True)"
   ]
  },
  {
   "cell_type": "code",
   "execution_count": 5,
   "metadata": {},
   "outputs": [
    {
     "name": "stdout",
     "output_type": "stream",
     "text": [
      "torch.Size([128, 5, 8000]) torch.Size([128, 5, 8000]) torch.Size([128, 5, 8000]) torch.Size([128, 5, 8000])\n",
      "torch.Size([128, 5, 8000])\n"
     ]
    }
   ],
   "source": [
    "def get_inception_audio_block(in_channel, out_channel, keep_size_same=False):\n",
    "    if keep_size_same:\n",
    "        return nn.Sequential(\n",
    "            nn.Conv1d(in_channels=in_channel, out_channels=out_channel, kernel_size=1),\n",
    "            nn.BatchNorm1d(num_features=out_channel),\n",
    "            nn.ReLU(),\n",
    "        ), nn.Sequential(\n",
    "            nn.Conv1d(in_channels=in_channel, out_channels=out_channel, kernel_size=3, padding='same'),\n",
    "            nn.BatchNorm1d(num_features=out_channel),\n",
    "            nn.ReLU(),\n",
    "            nn.Conv1d(in_channels=out_channel, out_channels=out_channel, kernel_size=5, padding='same'),\n",
    "            nn.BatchNorm1d(num_features=out_channel),\n",
    "            nn.ReLU()\n",
    "        ), nn.Sequential(\n",
    "            nn.Conv1d(in_channels=in_channel, out_channels=out_channel, kernel_size=3, padding='same'),\n",
    "            nn.BatchNorm1d(num_features=out_channel),\n",
    "            nn.ReLU(),\n",
    "            nn.Conv1d(in_channels=out_channel, out_channels=out_channel, kernel_size=5, padding='same'),\n",
    "            nn.BatchNorm1d(num_features=out_channel),\n",
    "            nn.ReLU()\n",
    "        ), nn.Sequential(\n",
    "            nn.MaxPool1d(kernel_size=3, stride=1, padding=1),\n",
    "            nn.Conv1d(in_channels=in_channel, out_channels=out_channel, kernel_size=1)\n",
    "        )\n",
    "    else:\n",
    "        return nn.Sequential(\n",
    "            nn.Conv1d(in_channels=in_channel, out_channels=out_channel, kernel_size=1, stride=2),\n",
    "            nn.BatchNorm1d(num_features=out_channel),\n",
    "            nn.ReLU(),\n",
    "        ), nn.Sequential(\n",
    "            nn.Conv1d(in_channels=in_channel, out_channels=out_channel, kernel_size=3, stride=2, padding=1),\n",
    "            nn.BatchNorm1d(num_features=out_channel),\n",
    "            nn.ReLU(),\n",
    "            nn.Conv1d(in_channels=out_channel, out_channels=out_channel, kernel_size=5, stride=1, padding=2),\n",
    "            nn.BatchNorm1d(num_features=out_channel),\n",
    "            nn.ReLU()\n",
    "        ), nn.Sequential(\n",
    "            nn.Conv1d(in_channels=in_channel, out_channels=out_channel, kernel_size=3, stride=1, padding=2),\n",
    "            nn.BatchNorm1d(num_features=out_channel),\n",
    "            nn.ReLU(),\n",
    "            nn.Conv1d(in_channels=out_channel, out_channels=out_channel, kernel_size=5, stride=2, padding=1),\n",
    "            nn.BatchNorm1d(num_features=out_channel),\n",
    "            nn.ReLU()\n",
    "        ), nn.Sequential(\n",
    "            nn.MaxPool1d(kernel_size=3, stride=2, padding=1),\n",
    "            nn.Conv1d(in_channels=in_channel, out_channels=out_channel, kernel_size=1)\n",
    "        )\n",
    "    \n",
    "channel = [1, 5, 10, 15, 20]\n",
    "au_b1_path1, au_b1_path2, au_b1_path3, au_b1_path4 = get_inception_audio_block(channel[0], channel[1], keep_size_same=False)\n",
    "au_b2_path1, au_b2_path2, au_b2_path3, au_b2_path4 = get_inception_audio_block(channel[1], channel[2])\n",
    "au_b3_path1, au_b3_path2, au_b3_path3, au_b3_path4 = get_inception_audio_block(channel[2], channel[3])\n",
    "au_b4_path1, au_b4_path2, au_b4_path3, au_b4_path4 = get_inception_audio_block(channel[3], channel[4])\n",
    "\n",
    "x = torch.randn(128, 1, 16000)\n",
    "p1_out = au_b1_path1(x)\n",
    "p2_out = au_b1_path2(x)\n",
    "p3_out = au_b1_path3(x)\n",
    "p4_out = au_b1_path4(x)\n",
    "print(p1_out.shape, p2_out.shape, p3_out.shape, p4_out.shape)\n",
    "out = p1_out + p2_out + p3_out + p4_out\n",
    "print(out.shape)"
   ]
  },
  {
   "cell_type": "code",
   "execution_count": 53,
   "metadata": {},
   "outputs": [
    {
     "name": "stdout",
     "output_type": "stream",
     "text": [
      "torch.Size([128, 5, 4000])\n",
      "torch.Size([128, 10, 1000])\n",
      "torch.Size([128, 15, 250])\n",
      "torch.Size([128, 20, 63])\n"
     ]
    }
   ],
   "source": [
    "def get_inception_audio_block(in_channel, out_channel, path1, path2, path3, path4):\n",
    "    return nn.Sequential(\n",
    "        nn.Conv1d(in_channels=in_channel, out_channels=out_channel, kernel_size=1, stride=path1['s'], padding=path1['p'], dilation=path1['d']),\n",
    "        nn.BatchNorm1d(num_features=out_channel),\n",
    "        nn.ReLU(),\n",
    "    ), nn.Sequential(\n",
    "        nn.Conv1d(in_channels=in_channel, out_channels=out_channel, kernel_size=3, stride=path2['s1'], padding=path2['p1'], dilation=path2['d1']),\n",
    "        nn.BatchNorm1d(num_features=out_channel),\n",
    "        nn.ReLU(),\n",
    "        nn.Conv1d(in_channels=out_channel, out_channels=out_channel, kernel_size=5, stride=path2['s2'], padding=path2['p2'], dilation=path2['d2']),\n",
    "        nn.BatchNorm1d(num_features=out_channel),\n",
    "        nn.ReLU()\n",
    "    ), nn.Sequential(\n",
    "        nn.Conv1d(in_channels=in_channel, out_channels=out_channel, kernel_size=3, stride=path3['s1'], padding=path3['p1'], dilation=path3['d1']),\n",
    "        nn.BatchNorm1d(num_features=out_channel),\n",
    "        nn.ReLU(),\n",
    "        nn.Conv1d(in_channels=out_channel, out_channels=out_channel, kernel_size=5, stride=path3['s2'], padding=path3['p2'], dilation=path3['d2']),\n",
    "        nn.BatchNorm1d(num_features=out_channel),\n",
    "        nn.ReLU()\n",
    "    ), nn.Sequential(\n",
    "        nn.MaxPool1d(kernel_size=3, stride=path4['s'], padding=path4['p'], dilation=path4['d']),\n",
    "        nn.Conv1d(in_channels=in_channel, out_channels=out_channel, kernel_size=1)\n",
    "    )\n",
    "\n",
    "channels = [1, 5, 10, 15, 20]\n",
    "x = torch.randn(128, 1, 16000)\n",
    "\n",
    "path1 = {'s': 4, 'p': 0, 'd': 1}\n",
    "path2 = {'s1': 2, 'p1': 2, 'd1': 1, 's2': 2, 'p2': 1, 'd2': 1}\n",
    "path3 = {'s1': 2, 'p1': 2, 'd1': 1, 's2': 2, 'p2': 1, 'd2': 1}\n",
    "path4 = {'s': 4, 'p': 0, 'd': 1}\n",
    "au_b1_path1, au_b1_path2, au_b1_path3, au_b1_path4 = get_inception_audio_block(channels[0], channels[1], path1, path2, path3, path4)\n",
    "x = au_b1_path1(x) + au_b1_path2(x) + au_b1_path3(x) + au_b1_path4(x)\n",
    "print(x.shape)\n",
    "\n",
    "path1 = {'s': 4, 'p': 0, 'd': 1}\n",
    "path2 = {'s1': 2, 'p1': 2, 'd1': 1, 's2': 2, 'p2': 1, 'd2': 1}\n",
    "path3 = {'s1': 2, 'p1': 2, 'd1': 1, 's2': 2, 'p2': 1, 'd2': 1}\n",
    "path4 = {'s': 4, 'p': 0, 'd': 1}\n",
    "au_b2_path1, au_b2_path2, au_b2_path3, au_b2_path4 = get_inception_audio_block(channels[1], channels[2], path1, path2, path3, path4)\n",
    "x = au_b2_path1(x) + au_b2_path2(x) + au_b2_path3(x) + au_b2_path4(x)\n",
    "print(x.shape)\n",
    "\n",
    "path1 = {'s': 4, 'p': 0, 'd': 1}\n",
    "path2 = {'s1': 2, 'p1': 2, 'd1': 1, 's2': 2, 'p2': 1, 'd2': 1}\n",
    "path3 = {'s1': 2, 'p1': 2, 'd1': 1, 's2': 2, 'p2': 1, 'd2': 1}\n",
    "path4 = {'s': 4, 'p': 0, 'd': 1}\n",
    "au_b3_path1, au_b3_path2, au_b3_path3, au_b3_path4 = get_inception_audio_block(channels[2], channels[3], path1, path2, path3, path4)\n",
    "x = au_b3_path1(x) + au_b3_path2(x) + au_b3_path3(x) + au_b3_path4(x)\n",
    "print(x.shape)\n",
    "\n",
    "path1 = {'s': 4, 'p': 0, 'd': 1}\n",
    "path2 = {'s1': 2, 'p1': 2, 'd1': 1, 's2': 2, 'p2': 2, 'd2': 1}\n",
    "path3 = {'s1': 2, 'p1': 2, 'd1': 1, 's2': 2, 'p2': 2, 'd2': 1}\n",
    "path4 = {'s': 4, 'p': 1, 'd': 1}\n",
    "au_b4_path1, au_b4_path2, au_b4_path3, au_b4_path4 = get_inception_audio_block(channels[3], channels[4], path1, path2, path3, path4)\n",
    "x = au_b4_path1(x) + au_b4_path2(x) + au_b4_path3(x) + au_b4_path4(x)\n",
    "print(x.shape)"
   ]
  },
  {
   "cell_type": "markdown",
   "metadata": {},
   "source": [
    "# CustomNet"
   ]
  },
  {
   "cell_type": "code",
   "execution_count": 4,
   "metadata": {},
   "outputs": [
    {
     "name": "stderr",
     "output_type": "stream",
     "text": [
      "/mnt/disk1/sumdev/MSA_BTP/env/lib/python3.9/site-packages/torchvision/io/image.py:13: UserWarning: Failed to load image Python extension: '/mnt/disk1/sumdev/MSA_BTP/env/lib/python3.9/site-packages/torchvision/image.so: undefined symbol: _ZN3c1017RegisterOperatorsD1Ev'If you don't plan on using image functionality from `torchvision.io`, you can ignore this warning. Otherwise, there might be something wrong with your environment. Did you have `libjpeg` or `libpng` installed before building `torchvision` from source?\n",
      "  warn(\n"
     ]
    },
    {
     "name": "stdout",
     "output_type": "stream",
     "text": [
      "Files already downloaded and verified\n",
      "Files already downloaded and verified\n",
      "42500 333\n"
     ]
    }
   ],
   "source": [
    "\n",
    "import torch, math\n",
    "import torch.nn as nn\n",
    "from Pipeline._2020211A2 import ImageDataset, VGG_Q2\n",
    "from torch.utils.data import DataLoader\n",
    "\n",
    "dataset = ImageDataset(split=\"train\")\n",
    "loader = DataLoader(dataset=dataset, batch_size=128, shuffle=True)\n",
    "print(len(dataset), len(loader))"
   ]
  },
  {
   "cell_type": "code",
   "execution_count": 36,
   "metadata": {},
   "outputs": [
    {
     "name": "stdout",
     "output_type": "stream",
     "text": [
      "[3, 64, 42, 28, 19, 13, 9, 6, 4, 3, 2] [3, 5, 7, 9, 13, 17, 23, 29, 37, 47]\n",
      "11 10\n"
     ]
    }
   ],
   "source": [
    "import math\n",
    "channel, kernel_size = [3, 64], [3]\n",
    "for i in range(9):\n",
    "    channel.append(math.ceil(channel[-1] - 0.35*channel[-1]))\n",
    "    new_kernel = math.ceil(kernel_size[-1] + 0.25*kernel_size[-1])\n",
    "    kernel_size.append(new_kernel if new_kernel % 2 == 1 else new_kernel + 1)\n",
    "print(channel, kernel_size)\n",
    "print(len(channel), len(kernel_size))"
   ]
  },
  {
   "cell_type": "code",
   "execution_count": 38,
   "metadata": {},
   "outputs": [
    {
     "name": "stdout",
     "output_type": "stream",
     "text": [
      "[3, 5, 7, 9, 13, 17, 23, 29, 37, 47] 10\n",
      "torch.Size([128, 8, 32, 32])\n",
      "torch.Size([128, 8, 32, 32])\n",
      "torch.Size([128, 8, 32, 32])\n",
      "torch.Size([128, 8, 30, 30])\n",
      "torch.Size([128, 8, 30, 30])\n",
      "torch.Size([128, 8, 28, 28])\n",
      "torch.Size([128, 8, 20, 20])\n",
      "torch.Size([128, 8, 20, 20])\n",
      "torch.Size([128, 8, 4, 4])\n"
     ]
    }
   ],
   "source": [
    "def get_resnet_image_block(in_channel, out_channel, kernel_size, block, skip):\n",
    "    return nn.Sequential(\n",
    "        nn.Conv2d(in_channels=in_channel, out_channels=out_channel, kernel_size=kernel_size, stride=block['s1'], padding=block['p1'], dilation=block['d1']),\n",
    "        nn.BatchNorm2d(num_features=out_channel),\n",
    "        nn.ReLU(),\n",
    "        nn.Conv2d(in_channels=out_channel, out_channels=out_channel, kernel_size=kernel_size, stride=block['s2'], padding=block['p2'], dilation=block['d2']),\n",
    "        nn.BatchNorm2d(num_features=out_channel)\n",
    "    ), nn.Sequential(\n",
    "        nn.Conv2d(in_channels=in_channel, out_channels=out_channel, kernel_size=1, stride=skip['s'], padding=skip['p'], dilation=skip['d']),\n",
    "    )\n",
    "\n",
    "def get_inception_image_block(in_channel, out_channel, kernel_size, path1, path2, path3, path4):\n",
    "    return nn.Sequential(\n",
    "        nn.Conv2d(in_channels=in_channel, out_channels=out_channel, kernel_size=kernel_size, stride=path1['s'], padding=path1['p'], dilation=path1['d']),\n",
    "        nn.BatchNorm2d(num_features=out_channel),\n",
    "        nn.ReLU(),\n",
    "    ), nn.Sequential(\n",
    "        nn.Conv2d(in_channels=in_channel, out_channels=out_channel, kernel_size=kernel_size, stride=path2['s1'], padding=path2['p1'], dilation=path2['d1']),\n",
    "        nn.BatchNorm2d(num_features=out_channel),\n",
    "        nn.ReLU(),\n",
    "        nn.Conv2d(in_channels=out_channel, out_channels=out_channel, kernel_size=kernel_size, stride=path2['s2'], padding=path2['p2'], dilation=path2['d2']),\n",
    "        nn.BatchNorm2d(num_features=out_channel),\n",
    "        nn.ReLU()\n",
    "    ), nn.Sequential(\n",
    "        nn.Conv2d(in_channels=in_channel, out_channels=out_channel, kernel_size=kernel_size, stride=path3['s1'], padding=path3['p1'], dilation=path3['d1']),\n",
    "        nn.BatchNorm2d(num_features=out_channel),\n",
    "        nn.ReLU(),\n",
    "        nn.Conv2d(in_channels=out_channel, out_channels=out_channel, kernel_size=kernel_size, stride=path3['s2'], padding=path3['p2'], dilation=path3['d2']),\n",
    "        nn.BatchNorm2d(num_features=out_channel),\n",
    "        nn.ReLU()\n",
    "    ), nn.Sequential(\n",
    "        nn.MaxPool2d(kernel_size=kernel_size, stride=path4['s'], padding=path4['p']),\n",
    "        nn.Conv2d(in_channels=in_channel, out_channels=out_channel, kernel_size=1)\n",
    "    )\n",
    "\n",
    "        \n",
    "x = torch.randn(128, 3, 32, 32)\n",
    "print(kernel_size, len(kernel_size))\n",
    "\n",
    "res_b1, res_s1 = get_resnet_image_block(3, 8, kernel_size[0], block={'p1': 1, 'p2': 1, 's1': 1, 's2': 1, 'd1': 1, 'd2': 1}, skip={'s': 1, 'p': 0, 'd': 1})\n",
    "x = res_b1(x) + res_s1(x)\n",
    "print(x.shape)\n",
    "\n",
    "res_b2, res_s2 = get_resnet_image_block(8, 8, kernel_size[1], block={'p1': 2, 'p2': 2, 's1': 1, 's2': 1, 'd1': 1, 'd2': 1}, skip={'s': 1, 'p': 0, 'd': 1})\n",
    "x = res_b2(x) + res_s2(x)\n",
    "print(x.shape)\n",
    "\n",
    "path1 = {'s': 1, 'p': 3, 'd': 1}\n",
    "path2 = {'s1': 1, 's2': 1, 'p1': 3, 'p2': 3, 'd1': 1, 'd2': 1}\n",
    "path3 = {'s1': 1, 's2': 1, 'p1': 3, 'p2': 3, 'd1': 1, 'd2': 1}\n",
    "path4 = {'s': 1, 'p': 3}\n",
    "incep_b1_p1, incep_b1_p2, incep_b1_p3, incep_b1_p4 = get_inception_image_block(8, 8, kernel_size[2], path1, path2, path3, path4)\n",
    "x = incep_b1_p1(x) + incep_b1_p2(x) + incep_b1_p3(x) + incep_b1_p4(x)\n",
    "print(x.shape)\n",
    "\n",
    "path1 = {'s': 1, 'p': 3, 'd': 1}\n",
    "path2 = {'s1': 1, 's2': 1, 'p1': 3, 'p2': 4, 'd1': 1, 'd2': 1}\n",
    "path3 = {'s1': 1, 's2': 1, 'p1': 3, 'p2': 4, 'd1': 1, 'd2': 1}\n",
    "path4 = {'s': 1, 'p': 3}\n",
    "incep_b2_p1, incep_b2_p2, incep_b2_p3, incep_b2_p4 = get_inception_image_block(8, 8, kernel_size[3], path1, path2, path3, path4)\n",
    "x =incep_b2_p1(x) + incep_b2_p2(x) + incep_b2_p3(x) + incep_b2_p4(x)\n",
    "print(x.shape)\n",
    "\n",
    "res_b3, res_s3 = get_resnet_image_block(8, 8, kernel_size[4], block={'p1': 6, 'p2': 6, 's1': 1, 's2': 1, 'd1': 1, 'd2': 1}, skip={'s': 1, 'p': 0, 'd': 1})\n",
    "x = res_b3(x) + res_s3(x)\n",
    "print(x.shape)\n",
    "\n",
    "path1 = {'s': 1, 'p': 7, 'd': 1}\n",
    "path2 = {'s1': 1, 's2': 1, 'p1': 8, 'p2': 7, 'd1': 1, 'd2': 1}\n",
    "path3 = {'s1': 1, 's2': 1, 'p1': 8, 'p2': 7, 'd1': 1, 'd2': 1}\n",
    "path4 = {'s': 1, 'p': 7}\n",
    "incep_b3_p1, incep_b3_p2, incep_b3_p3, incep_b3_p4 = get_inception_image_block(8, 8, kernel_size[5], path1, path2, path3, path4)\n",
    "x = incep_b3_p1(x) + incep_b3_p2(x) + incep_b3_p3(x) + incep_b3_p4(x)\n",
    "\n",
    "res_b4, res_s4 = get_resnet_image_block(8, 8, kernel_size[6], block={'p1': 11, 'p2': 11, 's1': 1, 's2': 1, 'd1': 1, 'd2': 1}, skip={'s': 1, 'p': 0, 'd': 1})\n",
    "x = res_b4(x) + res_s4(x)\n",
    "print(x.shape)\n",
    "\n",
    "path1 = {'s': 1, 'p': 10, 'd': 1}\n",
    "path2 = {'s1': 1, 's2': 1, 'p1': 12, 'p2': 12, 'd1': 1, 'd2': 1}\n",
    "path3 = {'s1': 1, 's2': 1, 'p1': 12, 'p2': 12, 'd1': 1, 'd2': 1}\n",
    "path4 = {'s': 1, 'p': 10}\n",
    "incep_b4_p1, incep_b4_p2, incep_b4_p3, incep_b4_p4 = get_inception_image_block(8, 8, kernel_size[7], path1, path2, path3, path4)\n",
    "x = incep_b4_p1(x) + incep_b4_p2(x) + incep_b4_p3(x) + incep_b4_p4(x)\n",
    "print(x.shape)\n",
    "\n",
    "res_b5, res_s5 = get_resnet_image_block(8, 8, kernel_size[8], block={'p1': 18, 'p2': 18, 's1': 1, 's2': 1, 'd1': 1, 'd2': 1}, skip={'s': 1, 'p': 0, 'd': 1})\n",
    "x = res_b5(x) + res_s5(x)\n",
    "print(x.shape)\n",
    "\n",
    "path1 = {'s': 1, 'p': 15, 'd': 1}\n",
    "path2 = {'s1': 1, 's2': 1, 'p1': 19, 'p2': 19, 'd1': 1, 'd2': 1}\n",
    "path3 = {'s1': 1, 's2': 1, 'p1': 19, 'p2': 19, 'd1': 1, 'd2': 1}\n",
    "path4 = {'s': 1, 'p': 15}\n",
    "incep_b5_p1, incep_b5_p2, incep_b5_p3, incep_b5_p4 = get_inception_image_block(8, 8, kernel_size[9], path1, path2, path3, path4)\n",
    "x = incep_b5_p1(x) + incep_b5_p2(x) + incep_b5_p3(x) + incep_b5_p4(x)\n",
    "print(x.shape)"
   ]
  },
  {
   "cell_type": "code",
   "execution_count": 5,
   "metadata": {},
   "outputs": [
    {
     "name": "stdout",
     "output_type": "stream",
     "text": [
      "[1, 64, 42, 28, 19, 13, 9, 6, 4, 3, 2] [3, 5, 7, 9, 13, 17, 23, 29, 37, 47]\n",
      "11 10\n"
     ]
    }
   ],
   "source": [
    "import math\n",
    "channel, kernel_size = [1, 64], [3]\n",
    "for i in range(9):\n",
    "    channel.append(math.ceil(channel[-1] - 0.35*channel[-1]))\n",
    "    new_kernel = math.ceil(kernel_size[-1] + 0.25*kernel_size[-1])\n",
    "    kernel_size.append(new_kernel if new_kernel % 2 == 1 else new_kernel + 1)\n",
    "print(channel, kernel_size)\n",
    "print(len(channel), len(kernel_size))"
   ]
  },
  {
   "cell_type": "code",
   "execution_count": 10,
   "metadata": {},
   "outputs": [
    {
     "name": "stdout",
     "output_type": "stream",
     "text": [
      "torch.Size([128, 64, 8000])\n",
      "torch.Size([128, 42, 8000])\n",
      "torch.Size([128, 28, 8000])\n",
      "torch.Size([128, 19, 3998])\n",
      "torch.Size([128, 13, 2000])\n",
      "torch.Size([128, 9, 1000])\n",
      "torch.Size([128, 6, 500])\n",
      "torch.Size([128, 4, 246])\n",
      "torch.Size([128, 3, 123])\n",
      "torch.Size([128, 2, 50])\n"
     ]
    }
   ],
   "source": [
    "def get_resnet_audio_block(in_channel, out_channel, kernel_size, block, skip):\n",
    "    return nn.Sequential(\n",
    "        nn.Conv1d(in_channels=in_channel, out_channels=out_channel, kernel_size=kernel_size, stride=block['s1'], padding=block['p1'], dilation=block['d1']),\n",
    "        nn.BatchNorm1d(num_features=out_channel),\n",
    "        nn.ReLU(),\n",
    "        nn.Conv1d(in_channels=out_channel, out_channels=out_channel, kernel_size=kernel_size, stride=block['s2'], padding=block['p2'], dilation=block['d2']),\n",
    "        nn.BatchNorm1d(num_features=out_channel)\n",
    "    ), nn.Sequential(nn.Conv1d(in_channel, out_channel, kernel_size=1, stride=skip['s'], padding=skip['p'], dilation=skip['d']))\n",
    "    \n",
    "    \n",
    "def get_inception_audio_block(in_channel, out_channel, kernel_size, path1, path2, path3, path4):\n",
    "    return nn.Sequential(\n",
    "        nn.Conv1d(in_channels=in_channel, out_channels=out_channel, kernel_size=kernel_size, stride=path1['s'], padding=path1['p'], dilation=path1['d']),\n",
    "        nn.BatchNorm1d(num_features=out_channel),\n",
    "        nn.ReLU(),\n",
    "    ), nn.Sequential(\n",
    "        nn.Conv1d(in_channels=in_channel, out_channels=out_channel, kernel_size=kernel_size, stride=path2['s1'], padding=path2['p1'], dilation=path2['d1']),\n",
    "        nn.BatchNorm1d(num_features=out_channel),\n",
    "        nn.ReLU(),\n",
    "        nn.Conv1d(in_channels=out_channel, out_channels=out_channel, kernel_size=kernel_size, stride=path2['s2'], padding=path2['p2'], dilation=path2['d2']),\n",
    "        nn.BatchNorm1d(num_features=out_channel),\n",
    "        nn.ReLU()\n",
    "    ), nn.Sequential(\n",
    "        nn.Conv1d(in_channels=in_channel, out_channels=out_channel, kernel_size=kernel_size, stride=path3['s1'], padding=path3['p1'], dilation=path3['d1']),\n",
    "        nn.BatchNorm1d(num_features=out_channel),\n",
    "        nn.ReLU(),\n",
    "        nn.Conv1d(in_channels=out_channel, out_channels=out_channel, kernel_size=kernel_size, stride=path3['s2'], padding=path3['p2'], dilation=path3['d2']),\n",
    "        nn.BatchNorm1d(num_features=out_channel),\n",
    "        nn.ReLU()\n",
    "    ), nn.Sequential(\n",
    "        nn.MaxPool1d(kernel_size=kernel_size, stride=path4['s'], padding=path4['p'], dilation=path4['d']),\n",
    "        nn.Conv1d(in_channels=in_channel, out_channels=out_channel, kernel_size=1)\n",
    "    )\n",
    "\n",
    "x = torch.randn(128, 1, 16000)\n",
    "\n",
    "resnet_block1, resnet_skip1 = get_resnet_audio_block(channel[0], channel[1], kernel_size[0], block={'p1': 1, 'p2': 1, 's1': 1, 's2': 2, 'd1': 1, 'd2': 1}, skip={'s': 2, 'p': 0, 'd': 1})\n",
    "x = resnet_block1(x) + resnet_skip1(x)\n",
    "print(x.shape)\n",
    "\n",
    "resnet_block2, resnet_skip2 = get_resnet_audio_block(channel[1], channel[2], kernel_size[1], block={'p1': 2, 'p2': 2, 's1': 1, 's2': 1, 'd1': 1, 'd2': 1}, skip={'s': 1, 'p': 0, 'd': 1})\n",
    "x = resnet_block2(x) + resnet_skip2(x)\n",
    "print(x.shape)\n",
    "\n",
    "path1 = {'s': 1, 'p': 3, 'd': 1}\n",
    "path2 = {'s1': 1, 's2': 1, 'p1': 3, 'p2': 3, 'd1': 1, 'd2': 1}\n",
    "path3 = {'s1': 1, 's2': 1, 'p1': 3, 'p2': 3, 'd1': 1, 'd2': 1}\n",
    "path4 = {'s': 1, 'p': 3, 'd' : 1}\n",
    "inception_block1_path1, inception_block1_path2, inception_block1_path3, inception_block1_path4 = get_inception_audio_block(channel[2], channel[3], kernel_size[2], path1, path2, path3, path4)\n",
    "x = inception_block1_path1(x) + inception_block1_path2(x) + inception_block1_path3(x) + inception_block1_path4(x)\n",
    "print(x.shape)\n",
    "\n",
    "path1 = {'s': 2, 'p': 2, 'd': 1}\n",
    "path2 = {'s1': 2, 's2': 1, 'p1': 4, 'p2': 3, 'd1': 1, 'd2': 1}\n",
    "path3 = {'s1': 1, 's2': 2, 'p1': 3, 'p2': 3, 'd1': 1, 'd2': 1}\n",
    "path4 = {'s': 2, 'p': 2, 'd' : 1}\n",
    "inception_block2_path1, inception_block2_path2, inception_block2_path3, inception_block2_path4 = get_inception_audio_block(channel[3], channel[4], kernel_size[3], path1, path2, path3, path4)\n",
    "x = inception_block2_path1(x) + inception_block2_path2(x) + inception_block2_path3(x) + inception_block2_path4(x)\n",
    "print(x.shape)\n",
    "\n",
    "resnet_block3, resnet_skip3 = get_resnet_audio_block(channel[4], channel[5], kernel_size[4], block={'p1': 7, 'p2': 6, 's1': 1, 's2': 2, 'd1': 1, 'd2': 1}, skip={'s': 2, 'p': 1, 'd': 1})\n",
    "x = resnet_block3(x) + resnet_skip3(x)\n",
    "print(x.shape)\n",
    "\n",
    "path1 = {'s': 2, 'p': 8, 'd': 1}\n",
    "path2 = {'s1': 2, 's2': 1, 'p1': 8, 'p2': 8, 'd1': 1, 'd2': 1}\n",
    "path3 = {'s1': 1, 's2': 2, 'p1': 8, 'p2': 8, 'd1': 1, 'd2': 1}\n",
    "path4 = {'s': 2, 'p': 8, 'd' : 1}\n",
    "inception_block3_path1, inception_block3_path2, inception_block3_path3, inception_block3_path4 = get_inception_audio_block(channel[5], channel[6], kernel_size[5], path1, path2, path3, path4)\n",
    "x = inception_block3_path1(x) + inception_block3_path2(x) + inception_block3_path3(x) + inception_block3_path4(x)\n",
    "print(x.shape)\n",
    "\n",
    "resnet_block4, resnet_skip4 = get_resnet_audio_block(channel[6], channel[7], kernel_size[6], block={'p1': 11, 'p2': 11, 's1': 1, 's2': 2, 'd1': 1, 'd2': 1}, skip={'s': 2, 'p': 0, 'd': 1})\n",
    "x = resnet_block4(x) + resnet_skip4(x)\n",
    "print(x.shape)\n",
    "\n",
    "path1 = {'s': 2, 'p': 10, 'd': 1}\n",
    "path2 = {'s1': 2, 's2': 1, 'p1': 12, 'p2': 13, 'd1': 1, 'd2': 1}\n",
    "path3 = {'s1': 1, 's2': 2, 'p1': 12, 'p2': 12, 'd1': 1, 'd2': 1}\n",
    "path4 = {'s': 2, 'p': 10, 'd' : 1}\n",
    "inception_block4_path1, inception_block4_path2, inception_block4_path3, inception_block4_path4 = get_inception_audio_block(channel[7], channel[8], kernel_size[7], path1, path2, path3, path4)\n",
    "x = inception_block4_path1(x) + inception_block4_path2(x) + inception_block4_path3(x) + inception_block4_path4(x)\n",
    "print(x.shape)\n",
    "\n",
    "resnet_block5, resnet_skip5 = get_resnet_audio_block(channel[8], channel[9], kernel_size[8], block={'p1': 18, 'p2': 18, 's1': 1, 's2': 2, 'd1': 1, 'd2': 1}, skip={'s': 2, 'p': 0, 'd': 1})\n",
    "x = resnet_block5(x) + resnet_skip5(x)\n",
    "print(x.shape)\n",
    "\n",
    "path1 = {'s': 2, 'p': 11, 'd': 1}\n",
    "path2 = {'s1': 2, 's2': 1, 'p1': 19, 'p2': 19, 'd1': 1, 'd2': 1}\n",
    "path3 = {'s1': 1, 's2': 2, 'p1': 19, 'p2': 15, 'd1': 1, 'd2': 1}\n",
    "path4 = {'s': 2, 'p': 11, 'd' : 1}\n",
    "inception_block5_path1, inception_block5_path2, inception_block5_path3, inception_block5_path4 = get_inception_audio_block(channel[9], channel[10], kernel_size[9], path1, path2, path3, path4)\n",
    "x = inception_block5_path1(x) + inception_block5_path2(x) + inception_block5_path3(x) + inception_block5_path4(x)\n",
    "print(x.shape)\n"
   ]
  },
  {
   "cell_type": "code",
   "execution_count": 59,
   "metadata": {},
   "outputs": [
    {
     "name": "stdout",
     "output_type": "stream",
     "text": [
      "torch.Size([128, 64, 8000])\n",
      "torch.Size([128, 42, 4000])\n",
      "torch.Size([128, 28, 4000])\n",
      "torch.Size([128, 19, 1998])\n",
      "torch.Size([128, 13, 1000])\n",
      "torch.Size([128, 9, 500])\n",
      "torch.Size([128, 6, 250])\n",
      "torch.Size([128, 4, 125])\n",
      "torch.Size([128, 3, 67])\n",
      "torch.Size([128, 2, 41])\n"
     ]
    },
    {
     "data": {
      "text/plain": [
       "[1, 64, 42, 28, 19, 13, 9, 6, 4, 3, 2]"
      ]
     },
     "execution_count": 59,
     "metadata": {},
     "output_type": "execute_result"
    }
   ],
   "source": [
    "def get_resnet_audio_block(in_channel, out_channel, kernel_size, block, skip):\n",
    "    return nn.Sequential(\n",
    "        nn.Conv1d(in_channels=in_channel, out_channels=out_channel, kernel_size=kernel_size, stride=block['s1'], padding=block['p1'], dilation=block['d1']),\n",
    "        nn.BatchNorm1d(num_features=out_channel),\n",
    "        nn.ReLU(),\n",
    "        nn.Conv1d(in_channels=out_channel, out_channels=out_channel, kernel_size=kernel_size, stride=block['s2'], padding=block['p2'], dilation=block['d2']),\n",
    "        nn.BatchNorm1d(num_features=out_channel)\n",
    "    ), nn.Sequential(nn.Conv1d(in_channel, out_channel, kernel_size=1, stride=skip['s'], padding=skip['p'], dilation=skip['d']))\n",
    "    \n",
    "    \n",
    "def get_inception_audio_block(in_channel, out_channel, kernel_size, path1, path2, path3, path4):\n",
    "    return nn.Sequential(\n",
    "        nn.Conv1d(in_channels=in_channel, out_channels=out_channel, kernel_size=kernel_size, stride=path1['s'], padding=path1['p'], dilation=path1['d']),\n",
    "        nn.BatchNorm1d(num_features=out_channel),\n",
    "        nn.ReLU(),\n",
    "    ), nn.Sequential(\n",
    "        nn.Conv1d(in_channels=in_channel, out_channels=out_channel, kernel_size=kernel_size, stride=path2['s1'], padding=path2['p1'], dilation=path2['d1']),\n",
    "        nn.BatchNorm1d(num_features=out_channel),\n",
    "        nn.ReLU(),\n",
    "        nn.Conv1d(in_channels=out_channel, out_channels=out_channel, kernel_size=kernel_size, stride=path2['s2'], padding=path2['p2'], dilation=path2['d2']),\n",
    "        nn.BatchNorm1d(num_features=out_channel),\n",
    "        nn.ReLU()\n",
    "    ), nn.Sequential(\n",
    "        nn.Conv1d(in_channels=in_channel, out_channels=out_channel, kernel_size=kernel_size, stride=path3['s1'], padding=path3['p1'], dilation=path3['d1']),\n",
    "        nn.BatchNorm1d(num_features=out_channel),\n",
    "        nn.ReLU(),\n",
    "        nn.Conv1d(in_channels=out_channel, out_channels=out_channel, kernel_size=kernel_size, stride=path3['s2'], padding=path3['p2'], dilation=path3['d2']),\n",
    "        nn.BatchNorm1d(num_features=out_channel),\n",
    "        nn.ReLU()\n",
    "    ), nn.Sequential(\n",
    "        nn.MaxPool1d(kernel_size=kernel_size, stride=path4['s'], padding=path4['p'], dilation=path4['d']),\n",
    "        nn.Conv1d(in_channels=in_channel, out_channels=out_channel, kernel_size=1)\n",
    "    )\n",
    "\n",
    "x = torch.randn(128, 1, 16000)\n",
    "\n",
    "resnet_block1, resnet_skip1 = get_resnet_audio_block(channel[0], channel[1], kernel_size[0], block={'p1': 1, 'p2': 1, 's1': 1, 's2': 2, 'd1': 1, 'd2': 1}, skip={'s': 2, 'p': 0, 'd': 1})\n",
    "x = resnet_block1(x) + resnet_skip1(x)\n",
    "print(x.shape)\n",
    "\n",
    "resnet_block2, resnet_skip2 = get_resnet_audio_block(channel[1], channel[2], kernel_size[1], block={'p1': 2, 'p2': 2, 's1': 2, 's2': 1, 'd1': 1, 'd2': 1}, skip={'s': 2, 'p': 0, 'd': 1})\n",
    "x = resnet_block2(x) + resnet_skip2(x)\n",
    "print(x.shape)\n",
    "\n",
    "path1 = {'s': 1, 'p': 3, 'd': 1}\n",
    "path2 = {'s1': 1, 's2': 1, 'p1': 3, 'p2': 3, 'd1': 1, 'd2': 1}\n",
    "path3 = {'s1': 1, 's2': 1, 'p1': 3, 'p2': 3, 'd1': 1, 'd2': 1}\n",
    "path4 = {'s': 1, 'p': 3, 'd' : 1}\n",
    "inception_block1_path1, inception_block1_path2, inception_block1_path3, inception_block1_path4 = get_inception_audio_block(channel[2], channel[3], kernel_size[2], path1, path2, path3, path4)\n",
    "x = inception_block1_path1(x) + inception_block1_path2(x) + inception_block1_path3(x) + inception_block1_path4(x)\n",
    "print(x.shape)\n",
    "\n",
    "path1 = {'s': 2, 'p': 2, 'd': 1}\n",
    "path2 = {'s1': 2, 's2': 1, 'p1': 4, 'p2': 3, 'd1': 1, 'd2': 1}\n",
    "path3 = {'s1': 1, 's2': 2, 'p1': 3, 'p2': 3, 'd1': 1, 'd2': 1}\n",
    "path4 = {'s': 2, 'p': 2, 'd' : 1}\n",
    "inception_block2_path1, inception_block2_path2, inception_block2_path3, inception_block2_path4 = get_inception_audio_block(channel[3], channel[4], kernel_size[3], path1, path2, path3, path4)\n",
    "x = inception_block2_path1(x) + inception_block2_path2(x) + inception_block2_path3(x) + inception_block2_path4(x)\n",
    "print(x.shape)\n",
    "\n",
    "resnet_block3, resnet_skip3 = get_resnet_audio_block(channel[4], channel[5], kernel_size[4], block={'p1': 7, 'p2': 6, 's1': 1, 's2': 2, 'd1': 1, 'd2': 1}, skip={'s': 2, 'p': 1, 'd': 1})\n",
    "x = resnet_block3(x) + resnet_skip3(x)\n",
    "print(x.shape)\n",
    "\n",
    "path1 = {'s': 2, 'p': 8, 'd': 1}\n",
    "path2 = {'s1': 2, 's2': 1, 'p1': 8, 'p2': 8, 'd1': 1, 'd2': 1}\n",
    "path3 = {'s1': 1, 's2': 2, 'p1': 8, 'p2': 8, 'd1': 1, 'd2': 1}\n",
    "path4 = {'s': 2, 'p': 8, 'd' : 1}\n",
    "inception_block3_path1, inception_block3_path2, inception_block3_path3, inception_block3_path4 = get_inception_audio_block(channel[5], channel[6], kernel_size[5], path1, path2, path3, path4)\n",
    "x = inception_block3_path1(x) + inception_block3_path2(x) + inception_block3_path3(x) + inception_block3_path4(x)\n",
    "print(x.shape)\n",
    "\n",
    "resnet_block4, resnet_skip4 = get_resnet_audio_block(channel[6], channel[7], kernel_size[6], block={'p1': 11, 'p2': 11, 's1': 1, 's2': 2, 'd1': 1, 'd2': 1}, skip={'s': 2, 'p': 0, 'd': 1})\n",
    "x = resnet_block4(x) + resnet_skip4(x)\n",
    "print(x.shape)\n",
    "\n",
    "path1 = {'s': 2, 'p': 14, 'd': 1}\n",
    "path2 = {'s1': 2, 's2': 1, 'p1': 16, 'p2': 13, 'd1': 1, 'd2': 1}\n",
    "path3 = {'s1': 1, 's2': 2, 'p1': 15, 'p2': 13, 'd1': 1, 'd2': 1}\n",
    "path4 = {'s': 2, 'p': 14, 'd' : 1}\n",
    "inception_block4_path1, inception_block4_path2, inception_block4_path3, inception_block4_path4 = get_inception_audio_block(channel[7], channel[8], kernel_size[7], path1, path2, path3, path4)\n",
    "x = inception_block4_path1(x) + inception_block4_path2(x) + inception_block4_path3(x) + inception_block4_path4(x)\n",
    "print(x.shape)\n",
    "\n",
    "resnet_block5, resnet_skip5 = get_resnet_audio_block(channel[8], channel[9], kernel_size[8], block={'p1': 20, 'p2': 20, 's1': 1, 's2': 2, 'd1': 1, 'd2': 1}, skip={'s': 2, 'p': 4, 'd': 1})\n",
    "x = resnet_block5(x) + resnet_skip5(x)\n",
    "print(x.shape)\n",
    "\n",
    "path1 = {'s': 1, 'p': 10, 'd': 1}\n",
    "path2 = {'s1': 1, 's2': 1, 'p1': 16, 'p2': 17, 'd1': 1, 'd2': 1}\n",
    "path3 = {'s1': 1, 's2': 1, 'p1': 17, 'p2': 16, 'd1': 1, 'd2': 1}\n",
    "path4 = {'s': 1, 'p': 10, 'd' : 1}\n",
    "inception_block5_path1, inception_block5_path2, inception_block5_path3, inception_block5_path4 = get_inception_audio_block(channel[9], channel[10], kernel_size[9], path1, path2, path3, path4)\n",
    "x = inception_block5_path1(x) + inception_block5_path2(x) + inception_block5_path3(x) + inception_block5_path4(x)\n",
    "print(x.shape)"
   ]
  },
  {
   "cell_type": "markdown",
   "metadata": {},
   "source": [
    "# Done"
   ]
  },
  {
   "cell_type": "code",
   "execution_count": 1,
   "metadata": {},
   "outputs": [
    {
     "name": "stdout",
     "output_type": "stream",
     "text": [
      "Done\n"
     ]
    }
   ],
   "source": [
    "print('Done')"
   ]
  }
 ],
 "metadata": {
  "kernelspec": {
   "display_name": "env",
   "language": "python",
   "name": "python3"
  },
  "language_info": {
   "codemirror_mode": {
    "name": "ipython",
    "version": 3
   },
   "file_extension": ".py",
   "mimetype": "text/x-python",
   "name": "python",
   "nbconvert_exporter": "python",
   "pygments_lexer": "ipython3",
   "version": "3.9.12"
  }
 },
 "nbformat": 4,
 "nbformat_minor": 2
}
