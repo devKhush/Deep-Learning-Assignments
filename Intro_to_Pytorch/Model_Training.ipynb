{
  "nbformat": 4,
  "nbformat_minor": 0,
  "metadata": {
    "colab": {
      "provenance": [],
      "gpuType": "T4"
    },
    "kernelspec": {
      "name": "python3",
      "display_name": "Python 3"
    },
    "language_info": {
      "name": "python"
    },
    "accelerator": "GPU",
    "widgets": {
      "application/vnd.jupyter.widget-state+json": {
        "9ca48eefdb4443a2aacf57dcd3e93cc5": {
          "model_module": "@jupyter-widgets/controls",
          "model_name": "VBoxModel",
          "model_module_version": "1.5.0",
          "state": {
            "_dom_classes": [],
            "_model_module": "@jupyter-widgets/controls",
            "_model_module_version": "1.5.0",
            "_model_name": "VBoxModel",
            "_view_count": null,
            "_view_module": "@jupyter-widgets/controls",
            "_view_module_version": "1.5.0",
            "_view_name": "VBoxView",
            "box_style": "",
            "children": [
              "IPY_MODEL_58f24b58081e41db8b33165b2d54743b",
              "IPY_MODEL_98450ad85b6a4656a09b0893ef96e057"
            ],
            "layout": "IPY_MODEL_4983c2afc19f4137bc9d46465ffcc43c"
          }
        },
        "58f24b58081e41db8b33165b2d54743b": {
          "model_module": "@jupyter-widgets/controls",
          "model_name": "LabelModel",
          "model_module_version": "1.5.0",
          "state": {
            "_dom_classes": [],
            "_model_module": "@jupyter-widgets/controls",
            "_model_module_version": "1.5.0",
            "_model_name": "LabelModel",
            "_view_count": null,
            "_view_module": "@jupyter-widgets/controls",
            "_view_module_version": "1.5.0",
            "_view_name": "LabelView",
            "description": "",
            "description_tooltip": null,
            "layout": "IPY_MODEL_9d2b37669d7b4a00890c92183f73ac31",
            "placeholder": "​",
            "style": "IPY_MODEL_7e96186a97e44c62bcae4cd29e629281",
            "value": "0.803 MB of 0.803 MB uploaded (0.008 MB deduped)\r"
          }
        },
        "98450ad85b6a4656a09b0893ef96e057": {
          "model_module": "@jupyter-widgets/controls",
          "model_name": "FloatProgressModel",
          "model_module_version": "1.5.0",
          "state": {
            "_dom_classes": [],
            "_model_module": "@jupyter-widgets/controls",
            "_model_module_version": "1.5.0",
            "_model_name": "FloatProgressModel",
            "_view_count": null,
            "_view_module": "@jupyter-widgets/controls",
            "_view_module_version": "1.5.0",
            "_view_name": "ProgressView",
            "bar_style": "",
            "description": "",
            "description_tooltip": null,
            "layout": "IPY_MODEL_9bf07012fc00433780f62c365acac01b",
            "max": 1,
            "min": 0,
            "orientation": "horizontal",
            "style": "IPY_MODEL_7f1ec62cbc184904aef2bded400033fd",
            "value": 1
          }
        },
        "4983c2afc19f4137bc9d46465ffcc43c": {
          "model_module": "@jupyter-widgets/base",
          "model_name": "LayoutModel",
          "model_module_version": "1.2.0",
          "state": {
            "_model_module": "@jupyter-widgets/base",
            "_model_module_version": "1.2.0",
            "_model_name": "LayoutModel",
            "_view_count": null,
            "_view_module": "@jupyter-widgets/base",
            "_view_module_version": "1.2.0",
            "_view_name": "LayoutView",
            "align_content": null,
            "align_items": null,
            "align_self": null,
            "border": null,
            "bottom": null,
            "display": null,
            "flex": null,
            "flex_flow": null,
            "grid_area": null,
            "grid_auto_columns": null,
            "grid_auto_flow": null,
            "grid_auto_rows": null,
            "grid_column": null,
            "grid_gap": null,
            "grid_row": null,
            "grid_template_areas": null,
            "grid_template_columns": null,
            "grid_template_rows": null,
            "height": null,
            "justify_content": null,
            "justify_items": null,
            "left": null,
            "margin": null,
            "max_height": null,
            "max_width": null,
            "min_height": null,
            "min_width": null,
            "object_fit": null,
            "object_position": null,
            "order": null,
            "overflow": null,
            "overflow_x": null,
            "overflow_y": null,
            "padding": null,
            "right": null,
            "top": null,
            "visibility": null,
            "width": null
          }
        },
        "9d2b37669d7b4a00890c92183f73ac31": {
          "model_module": "@jupyter-widgets/base",
          "model_name": "LayoutModel",
          "model_module_version": "1.2.0",
          "state": {
            "_model_module": "@jupyter-widgets/base",
            "_model_module_version": "1.2.0",
            "_model_name": "LayoutModel",
            "_view_count": null,
            "_view_module": "@jupyter-widgets/base",
            "_view_module_version": "1.2.0",
            "_view_name": "LayoutView",
            "align_content": null,
            "align_items": null,
            "align_self": null,
            "border": null,
            "bottom": null,
            "display": null,
            "flex": null,
            "flex_flow": null,
            "grid_area": null,
            "grid_auto_columns": null,
            "grid_auto_flow": null,
            "grid_auto_rows": null,
            "grid_column": null,
            "grid_gap": null,
            "grid_row": null,
            "grid_template_areas": null,
            "grid_template_columns": null,
            "grid_template_rows": null,
            "height": null,
            "justify_content": null,
            "justify_items": null,
            "left": null,
            "margin": null,
            "max_height": null,
            "max_width": null,
            "min_height": null,
            "min_width": null,
            "object_fit": null,
            "object_position": null,
            "order": null,
            "overflow": null,
            "overflow_x": null,
            "overflow_y": null,
            "padding": null,
            "right": null,
            "top": null,
            "visibility": null,
            "width": null
          }
        },
        "7e96186a97e44c62bcae4cd29e629281": {
          "model_module": "@jupyter-widgets/controls",
          "model_name": "DescriptionStyleModel",
          "model_module_version": "1.5.0",
          "state": {
            "_model_module": "@jupyter-widgets/controls",
            "_model_module_version": "1.5.0",
            "_model_name": "DescriptionStyleModel",
            "_view_count": null,
            "_view_module": "@jupyter-widgets/base",
            "_view_module_version": "1.2.0",
            "_view_name": "StyleView",
            "description_width": ""
          }
        },
        "9bf07012fc00433780f62c365acac01b": {
          "model_module": "@jupyter-widgets/base",
          "model_name": "LayoutModel",
          "model_module_version": "1.2.0",
          "state": {
            "_model_module": "@jupyter-widgets/base",
            "_model_module_version": "1.2.0",
            "_model_name": "LayoutModel",
            "_view_count": null,
            "_view_module": "@jupyter-widgets/base",
            "_view_module_version": "1.2.0",
            "_view_name": "LayoutView",
            "align_content": null,
            "align_items": null,
            "align_self": null,
            "border": null,
            "bottom": null,
            "display": null,
            "flex": null,
            "flex_flow": null,
            "grid_area": null,
            "grid_auto_columns": null,
            "grid_auto_flow": null,
            "grid_auto_rows": null,
            "grid_column": null,
            "grid_gap": null,
            "grid_row": null,
            "grid_template_areas": null,
            "grid_template_columns": null,
            "grid_template_rows": null,
            "height": null,
            "justify_content": null,
            "justify_items": null,
            "left": null,
            "margin": null,
            "max_height": null,
            "max_width": null,
            "min_height": null,
            "min_width": null,
            "object_fit": null,
            "object_position": null,
            "order": null,
            "overflow": null,
            "overflow_x": null,
            "overflow_y": null,
            "padding": null,
            "right": null,
            "top": null,
            "visibility": null,
            "width": null
          }
        },
        "7f1ec62cbc184904aef2bded400033fd": {
          "model_module": "@jupyter-widgets/controls",
          "model_name": "ProgressStyleModel",
          "model_module_version": "1.5.0",
          "state": {
            "_model_module": "@jupyter-widgets/controls",
            "_model_module_version": "1.5.0",
            "_model_name": "ProgressStyleModel",
            "_view_count": null,
            "_view_module": "@jupyter-widgets/base",
            "_view_module_version": "1.2.0",
            "_view_name": "StyleView",
            "bar_color": null,
            "description_width": ""
          }
        },
        "25756e0510ae47caab978485d239c1ef": {
          "model_module": "@jupyter-widgets/controls",
          "model_name": "VBoxModel",
          "model_module_version": "1.5.0",
          "state": {
            "_dom_classes": [],
            "_model_module": "@jupyter-widgets/controls",
            "_model_module_version": "1.5.0",
            "_model_name": "VBoxModel",
            "_view_count": null,
            "_view_module": "@jupyter-widgets/controls",
            "_view_module_version": "1.5.0",
            "_view_name": "VBoxView",
            "box_style": "",
            "children": [
              "IPY_MODEL_1be5b10c5e1949369c57c01bc81da54a",
              "IPY_MODEL_1a1b77bea01e4b51b835de0e4dc80b6c"
            ],
            "layout": "IPY_MODEL_c275ca5b98e74c48a29ee81a256ff994"
          }
        },
        "1be5b10c5e1949369c57c01bc81da54a": {
          "model_module": "@jupyter-widgets/controls",
          "model_name": "LabelModel",
          "model_module_version": "1.5.0",
          "state": {
            "_dom_classes": [],
            "_model_module": "@jupyter-widgets/controls",
            "_model_module_version": "1.5.0",
            "_model_name": "LabelModel",
            "_view_count": null,
            "_view_module": "@jupyter-widgets/controls",
            "_view_module_version": "1.5.0",
            "_view_name": "LabelView",
            "description": "",
            "description_tooltip": null,
            "layout": "IPY_MODEL_a4a71214ddd94d38a42affa7d1e6a979",
            "placeholder": "​",
            "style": "IPY_MODEL_ef0c5f16b0344bf9bec19f5360a220aa",
            "value": "0.797 MB of 0.797 MB uploaded (0.008 MB deduped)\r"
          }
        },
        "1a1b77bea01e4b51b835de0e4dc80b6c": {
          "model_module": "@jupyter-widgets/controls",
          "model_name": "FloatProgressModel",
          "model_module_version": "1.5.0",
          "state": {
            "_dom_classes": [],
            "_model_module": "@jupyter-widgets/controls",
            "_model_module_version": "1.5.0",
            "_model_name": "FloatProgressModel",
            "_view_count": null,
            "_view_module": "@jupyter-widgets/controls",
            "_view_module_version": "1.5.0",
            "_view_name": "ProgressView",
            "bar_style": "",
            "description": "",
            "description_tooltip": null,
            "layout": "IPY_MODEL_ed1fed2ae1844a2b90a9ac426fb402a7",
            "max": 1,
            "min": 0,
            "orientation": "horizontal",
            "style": "IPY_MODEL_979acbe0cb32464bb392a361895305e0",
            "value": 1
          }
        },
        "c275ca5b98e74c48a29ee81a256ff994": {
          "model_module": "@jupyter-widgets/base",
          "model_name": "LayoutModel",
          "model_module_version": "1.2.0",
          "state": {
            "_model_module": "@jupyter-widgets/base",
            "_model_module_version": "1.2.0",
            "_model_name": "LayoutModel",
            "_view_count": null,
            "_view_module": "@jupyter-widgets/base",
            "_view_module_version": "1.2.0",
            "_view_name": "LayoutView",
            "align_content": null,
            "align_items": null,
            "align_self": null,
            "border": null,
            "bottom": null,
            "display": null,
            "flex": null,
            "flex_flow": null,
            "grid_area": null,
            "grid_auto_columns": null,
            "grid_auto_flow": null,
            "grid_auto_rows": null,
            "grid_column": null,
            "grid_gap": null,
            "grid_row": null,
            "grid_template_areas": null,
            "grid_template_columns": null,
            "grid_template_rows": null,
            "height": null,
            "justify_content": null,
            "justify_items": null,
            "left": null,
            "margin": null,
            "max_height": null,
            "max_width": null,
            "min_height": null,
            "min_width": null,
            "object_fit": null,
            "object_position": null,
            "order": null,
            "overflow": null,
            "overflow_x": null,
            "overflow_y": null,
            "padding": null,
            "right": null,
            "top": null,
            "visibility": null,
            "width": null
          }
        },
        "a4a71214ddd94d38a42affa7d1e6a979": {
          "model_module": "@jupyter-widgets/base",
          "model_name": "LayoutModel",
          "model_module_version": "1.2.0",
          "state": {
            "_model_module": "@jupyter-widgets/base",
            "_model_module_version": "1.2.0",
            "_model_name": "LayoutModel",
            "_view_count": null,
            "_view_module": "@jupyter-widgets/base",
            "_view_module_version": "1.2.0",
            "_view_name": "LayoutView",
            "align_content": null,
            "align_items": null,
            "align_self": null,
            "border": null,
            "bottom": null,
            "display": null,
            "flex": null,
            "flex_flow": null,
            "grid_area": null,
            "grid_auto_columns": null,
            "grid_auto_flow": null,
            "grid_auto_rows": null,
            "grid_column": null,
            "grid_gap": null,
            "grid_row": null,
            "grid_template_areas": null,
            "grid_template_columns": null,
            "grid_template_rows": null,
            "height": null,
            "justify_content": null,
            "justify_items": null,
            "left": null,
            "margin": null,
            "max_height": null,
            "max_width": null,
            "min_height": null,
            "min_width": null,
            "object_fit": null,
            "object_position": null,
            "order": null,
            "overflow": null,
            "overflow_x": null,
            "overflow_y": null,
            "padding": null,
            "right": null,
            "top": null,
            "visibility": null,
            "width": null
          }
        },
        "ef0c5f16b0344bf9bec19f5360a220aa": {
          "model_module": "@jupyter-widgets/controls",
          "model_name": "DescriptionStyleModel",
          "model_module_version": "1.5.0",
          "state": {
            "_model_module": "@jupyter-widgets/controls",
            "_model_module_version": "1.5.0",
            "_model_name": "DescriptionStyleModel",
            "_view_count": null,
            "_view_module": "@jupyter-widgets/base",
            "_view_module_version": "1.2.0",
            "_view_name": "StyleView",
            "description_width": ""
          }
        },
        "ed1fed2ae1844a2b90a9ac426fb402a7": {
          "model_module": "@jupyter-widgets/base",
          "model_name": "LayoutModel",
          "model_module_version": "1.2.0",
          "state": {
            "_model_module": "@jupyter-widgets/base",
            "_model_module_version": "1.2.0",
            "_model_name": "LayoutModel",
            "_view_count": null,
            "_view_module": "@jupyter-widgets/base",
            "_view_module_version": "1.2.0",
            "_view_name": "LayoutView",
            "align_content": null,
            "align_items": null,
            "align_self": null,
            "border": null,
            "bottom": null,
            "display": null,
            "flex": null,
            "flex_flow": null,
            "grid_area": null,
            "grid_auto_columns": null,
            "grid_auto_flow": null,
            "grid_auto_rows": null,
            "grid_column": null,
            "grid_gap": null,
            "grid_row": null,
            "grid_template_areas": null,
            "grid_template_columns": null,
            "grid_template_rows": null,
            "height": null,
            "justify_content": null,
            "justify_items": null,
            "left": null,
            "margin": null,
            "max_height": null,
            "max_width": null,
            "min_height": null,
            "min_width": null,
            "object_fit": null,
            "object_position": null,
            "order": null,
            "overflow": null,
            "overflow_x": null,
            "overflow_y": null,
            "padding": null,
            "right": null,
            "top": null,
            "visibility": null,
            "width": null
          }
        },
        "979acbe0cb32464bb392a361895305e0": {
          "model_module": "@jupyter-widgets/controls",
          "model_name": "ProgressStyleModel",
          "model_module_version": "1.5.0",
          "state": {
            "_model_module": "@jupyter-widgets/controls",
            "_model_module_version": "1.5.0",
            "_model_name": "ProgressStyleModel",
            "_view_count": null,
            "_view_module": "@jupyter-widgets/base",
            "_view_module_version": "1.2.0",
            "_view_name": "StyleView",
            "bar_color": null,
            "description_width": ""
          }
        }
      }
    }
  },
  "cells": [
    {
      "cell_type": "code",
      "execution_count": null,
      "metadata": {
        "id": "WKSUo1m4U8dZ",
        "colab": {
          "base_uri": "https://localhost:8080/"
        },
        "outputId": "72109a0d-ed03-47b4-ca21-936f1e024bd2"
      },
      "outputs": [
        {
          "output_type": "stream",
          "name": "stdout",
          "text": [
            "Downloading http://fashion-mnist.s3-website.eu-central-1.amazonaws.com/train-images-idx3-ubyte.gz\n",
            "Downloading http://fashion-mnist.s3-website.eu-central-1.amazonaws.com/train-images-idx3-ubyte.gz to data/FashionMNIST/raw/train-images-idx3-ubyte.gz\n"
          ]
        },
        {
          "output_type": "stream",
          "name": "stderr",
          "text": [
            "100%|██████████| 26421880/26421880 [00:00<00:00, 118583518.33it/s]\n"
          ]
        },
        {
          "output_type": "stream",
          "name": "stdout",
          "text": [
            "Extracting data/FashionMNIST/raw/train-images-idx3-ubyte.gz to data/FashionMNIST/raw\n",
            "\n",
            "Downloading http://fashion-mnist.s3-website.eu-central-1.amazonaws.com/train-labels-idx1-ubyte.gz\n",
            "Downloading http://fashion-mnist.s3-website.eu-central-1.amazonaws.com/train-labels-idx1-ubyte.gz to data/FashionMNIST/raw/train-labels-idx1-ubyte.gz\n"
          ]
        },
        {
          "output_type": "stream",
          "name": "stderr",
          "text": [
            "100%|██████████| 29515/29515 [00:00<00:00, 4970284.76it/s]"
          ]
        },
        {
          "output_type": "stream",
          "name": "stdout",
          "text": [
            "Extracting data/FashionMNIST/raw/train-labels-idx1-ubyte.gz to data/FashionMNIST/raw\n",
            "\n",
            "Downloading http://fashion-mnist.s3-website.eu-central-1.amazonaws.com/t10k-images-idx3-ubyte.gz\n",
            "Downloading http://fashion-mnist.s3-website.eu-central-1.amazonaws.com/t10k-images-idx3-ubyte.gz to data/FashionMNIST/raw/t10k-images-idx3-ubyte.gz\n"
          ]
        },
        {
          "output_type": "stream",
          "name": "stderr",
          "text": [
            "\n",
            "100%|██████████| 4422102/4422102 [00:00<00:00, 59947317.56it/s]\n"
          ]
        },
        {
          "output_type": "stream",
          "name": "stdout",
          "text": [
            "Extracting data/FashionMNIST/raw/t10k-images-idx3-ubyte.gz to data/FashionMNIST/raw\n",
            "\n",
            "Downloading http://fashion-mnist.s3-website.eu-central-1.amazonaws.com/t10k-labels-idx1-ubyte.gz\n",
            "Downloading http://fashion-mnist.s3-website.eu-central-1.amazonaws.com/t10k-labels-idx1-ubyte.gz to data/FashionMNIST/raw/t10k-labels-idx1-ubyte.gz\n"
          ]
        },
        {
          "output_type": "stream",
          "name": "stderr",
          "text": [
            "100%|██████████| 5148/5148 [00:00<00:00, 10763846.96it/s]\n"
          ]
        },
        {
          "output_type": "stream",
          "name": "stdout",
          "text": [
            "Extracting data/FashionMNIST/raw/t10k-labels-idx1-ubyte.gz to data/FashionMNIST/raw\n",
            "\n"
          ]
        }
      ],
      "source": [
        "import torch\n",
        "from torch import nn\n",
        "from torch.utils.data import Dataset\n",
        "import torchvision.transforms as transforms\n",
        "from torchvision import datasets\n",
        "from torch.autograd import Variable\n",
        "import torch.nn.functional as F\n",
        "import os\n",
        "\n",
        "normalize = transforms.Normalize(mean=[x/255.0 for x in [125.3, 123.0, 113.9]],\n",
        "                                    std=[x/255.0 for x in [63.0, 62.1, 66.7]])  #change pixel intensity range\n",
        "\n",
        "transform = transforms.Compose([transforms.ToTensor(),\n",
        "                              transforms.Normalize((0.1307,), (0.3081,))])\n",
        "\n",
        "training_data = datasets.FashionMNIST(\n",
        "    root=\"data\",\n",
        "    train=True,\n",
        "    download=True,\n",
        "    transform=transform\n",
        ")\n",
        "\n",
        "test_data = datasets.FashionMNIST(\n",
        "    root=\"data\",\n",
        "    train=False,\n",
        "    download=True,\n",
        "    transform=transform\n",
        ")"
      ]
    },
    {
      "cell_type": "code",
      "source": [
        "from torch.utils.data import random_split\n",
        "\n",
        "val_size = len(test_data) // 2\n",
        "test_size = len(test_data) - val_size\n",
        "test_data, val_data = random_split(test_data, [test_size, val_size])\n",
        "\n",
        "len(val_data), len(test_data)"
      ],
      "metadata": {
        "colab": {
          "base_uri": "https://localhost:8080/"
        },
        "id": "C6zjUb5jVTR3",
        "outputId": "d2f095f5-fa0f-4041-9202-1f89087b6e41"
      },
      "execution_count": null,
      "outputs": [
        {
          "output_type": "execute_result",
          "data": {
            "text/plain": [
              "(5000, 5000)"
            ]
          },
          "metadata": {},
          "execution_count": 2
        }
      ]
    },
    {
      "cell_type": "code",
      "source": [
        "!pip install wandb"
      ],
      "metadata": {
        "colab": {
          "base_uri": "https://localhost:8080/"
        },
        "id": "-8m6qBqmV0gt",
        "outputId": "331577a9-0499-4321-cc7d-4e102cb54fbc"
      },
      "execution_count": null,
      "outputs": [
        {
          "output_type": "stream",
          "name": "stdout",
          "text": [
            "Collecting wandb\n",
            "  Downloading wandb-0.16.2-py3-none-any.whl (2.2 MB)\n",
            "\u001b[2K     \u001b[90m━━━━━━━━━━━━━━━━━━━━━━━━━━━━━━━━━━━━━━━━\u001b[0m \u001b[32m2.2/2.2 MB\u001b[0m \u001b[31m14.2 MB/s\u001b[0m eta \u001b[36m0:00:00\u001b[0m\n",
            "\u001b[?25hRequirement already satisfied: Click!=8.0.0,>=7.1 in /usr/local/lib/python3.10/dist-packages (from wandb) (8.1.7)\n",
            "Collecting GitPython!=3.1.29,>=1.0.0 (from wandb)\n",
            "  Downloading GitPython-3.1.41-py3-none-any.whl (196 kB)\n",
            "\u001b[2K     \u001b[90m━━━━━━━━━━━━━━━━━━━━━━━━━━━━━━━━━━━━━━━━\u001b[0m \u001b[32m196.4/196.4 kB\u001b[0m \u001b[31m16.3 MB/s\u001b[0m eta \u001b[36m0:00:00\u001b[0m\n",
            "\u001b[?25hRequirement already satisfied: requests<3,>=2.0.0 in /usr/local/lib/python3.10/dist-packages (from wandb) (2.31.0)\n",
            "Requirement already satisfied: psutil>=5.0.0 in /usr/local/lib/python3.10/dist-packages (from wandb) (5.9.5)\n",
            "Collecting sentry-sdk>=1.0.0 (from wandb)\n",
            "  Downloading sentry_sdk-1.39.2-py2.py3-none-any.whl (254 kB)\n",
            "\u001b[2K     \u001b[90m━━━━━━━━━━━━━━━━━━━━━━━━━━━━━━━━━━━━━━━━\u001b[0m \u001b[32m254.1/254.1 kB\u001b[0m \u001b[31m21.2 MB/s\u001b[0m eta \u001b[36m0:00:00\u001b[0m\n",
            "\u001b[?25hCollecting docker-pycreds>=0.4.0 (from wandb)\n",
            "  Downloading docker_pycreds-0.4.0-py2.py3-none-any.whl (9.0 kB)\n",
            "Requirement already satisfied: PyYAML in /usr/local/lib/python3.10/dist-packages (from wandb) (6.0.1)\n",
            "Collecting setproctitle (from wandb)\n",
            "  Downloading setproctitle-1.3.3-cp310-cp310-manylinux_2_5_x86_64.manylinux1_x86_64.manylinux_2_17_x86_64.manylinux2014_x86_64.whl (30 kB)\n",
            "Requirement already satisfied: setuptools in /usr/local/lib/python3.10/dist-packages (from wandb) (67.7.2)\n",
            "Requirement already satisfied: appdirs>=1.4.3 in /usr/local/lib/python3.10/dist-packages (from wandb) (1.4.4)\n",
            "Requirement already satisfied: protobuf!=4.21.0,<5,>=3.19.0 in /usr/local/lib/python3.10/dist-packages (from wandb) (3.20.3)\n",
            "Requirement already satisfied: six>=1.4.0 in /usr/local/lib/python3.10/dist-packages (from docker-pycreds>=0.4.0->wandb) (1.16.0)\n",
            "Collecting gitdb<5,>=4.0.1 (from GitPython!=3.1.29,>=1.0.0->wandb)\n",
            "  Downloading gitdb-4.0.11-py3-none-any.whl (62 kB)\n",
            "\u001b[2K     \u001b[90m━━━━━━━━━━━━━━━━━━━━━━━━━━━━━━━━━━━━━━━━\u001b[0m \u001b[32m62.7/62.7 kB\u001b[0m \u001b[31m8.8 MB/s\u001b[0m eta \u001b[36m0:00:00\u001b[0m\n",
            "\u001b[?25hRequirement already satisfied: charset-normalizer<4,>=2 in /usr/local/lib/python3.10/dist-packages (from requests<3,>=2.0.0->wandb) (3.3.2)\n",
            "Requirement already satisfied: idna<4,>=2.5 in /usr/local/lib/python3.10/dist-packages (from requests<3,>=2.0.0->wandb) (3.6)\n",
            "Requirement already satisfied: urllib3<3,>=1.21.1 in /usr/local/lib/python3.10/dist-packages (from requests<3,>=2.0.0->wandb) (2.0.7)\n",
            "Requirement already satisfied: certifi>=2017.4.17 in /usr/local/lib/python3.10/dist-packages (from requests<3,>=2.0.0->wandb) (2023.11.17)\n",
            "Collecting smmap<6,>=3.0.1 (from gitdb<5,>=4.0.1->GitPython!=3.1.29,>=1.0.0->wandb)\n",
            "  Downloading smmap-5.0.1-py3-none-any.whl (24 kB)\n",
            "Installing collected packages: smmap, setproctitle, sentry-sdk, docker-pycreds, gitdb, GitPython, wandb\n",
            "Successfully installed GitPython-3.1.41 docker-pycreds-0.4.0 gitdb-4.0.11 sentry-sdk-1.39.2 setproctitle-1.3.3 smmap-5.0.1 wandb-0.16.2\n"
          ]
        }
      ]
    },
    {
      "cell_type": "code",
      "source": [
        "import wandb\n",
        "\n",
        "hyperparameter_defaults = dict(\n",
        "    dropout = 0.5,\n",
        "    channels_one = 16,\n",
        "    channels_two = 32,\n",
        "    batch_size = 100,\n",
        "    learning_rate = 0.001,\n",
        "    epochs = 2,\n",
        "    )\n",
        "\n",
        "wandb.init(config=hyperparameter_defaults, project=\"pytorch-wandb-tutorial\", name = \"fashion-mnist\")\n"
      ],
      "metadata": {
        "colab": {
          "base_uri": "https://localhost:8080/",
          "height": 205
        },
        "id": "m9l-QL2FWHKy",
        "outputId": "edc7f0bb-9327-4870-fd78-18a90ff863da"
      },
      "execution_count": null,
      "outputs": [
        {
          "output_type": "display_data",
          "data": {
            "text/plain": [
              "<IPython.core.display.Javascript object>"
            ],
            "application/javascript": [
              "\n",
              "        window._wandbApiKey = new Promise((resolve, reject) => {\n",
              "            function loadScript(url) {\n",
              "            return new Promise(function(resolve, reject) {\n",
              "                let newScript = document.createElement(\"script\");\n",
              "                newScript.onerror = reject;\n",
              "                newScript.onload = resolve;\n",
              "                document.body.appendChild(newScript);\n",
              "                newScript.src = url;\n",
              "            });\n",
              "            }\n",
              "            loadScript(\"https://cdn.jsdelivr.net/npm/postmate/build/postmate.min.js\").then(() => {\n",
              "            const iframe = document.createElement('iframe')\n",
              "            iframe.style.cssText = \"width:0;height:0;border:none\"\n",
              "            document.body.appendChild(iframe)\n",
              "            const handshake = new Postmate({\n",
              "                container: iframe,\n",
              "                url: 'https://wandb.ai/authorize'\n",
              "            });\n",
              "            const timeout = setTimeout(() => reject(\"Couldn't auto authenticate\"), 5000)\n",
              "            handshake.then(function(child) {\n",
              "                child.on('authorize', data => {\n",
              "                    clearTimeout(timeout)\n",
              "                    resolve(data)\n",
              "                });\n",
              "            });\n",
              "            })\n",
              "        });\n",
              "    "
            ]
          },
          "metadata": {}
        },
        {
          "output_type": "stream",
          "name": "stderr",
          "text": [
            "\u001b[34m\u001b[1mwandb\u001b[0m: Logging into wandb.ai. (Learn how to deploy a W&B server locally: https://wandb.me/wandb-server)\n",
            "\u001b[34m\u001b[1mwandb\u001b[0m: You can find your API key in your browser here: https://wandb.ai/authorize\n",
            "wandb: Paste an API key from your profile and hit enter, or press ctrl+c to quit:"
          ]
        },
        {
          "name": "stdout",
          "output_type": "stream",
          "text": [
            " ··········\n"
          ]
        },
        {
          "output_type": "stream",
          "name": "stderr",
          "text": [
            "\u001b[34m\u001b[1mwandb\u001b[0m: Appending key for api.wandb.ai to your netrc file: /root/.netrc\n"
          ]
        },
        {
          "output_type": "display_data",
          "data": {
            "text/plain": [
              "<IPython.core.display.HTML object>"
            ],
            "text/html": [
              "Tracking run with wandb version 0.16.2"
            ]
          },
          "metadata": {}
        },
        {
          "output_type": "display_data",
          "data": {
            "text/plain": [
              "<IPython.core.display.HTML object>"
            ],
            "text/html": [
              "Run data is saved locally in <code>/content/wandb/run-20240124_135735-nzb51jrb</code>"
            ]
          },
          "metadata": {}
        },
        {
          "output_type": "display_data",
          "data": {
            "text/plain": [
              "<IPython.core.display.HTML object>"
            ],
            "text/html": [
              "Syncing run <strong><a href='https://wandb.ai/saurabhyd/pytorch-wandb-tutorial/runs/nzb51jrb' target=\"_blank\">fashion-mnist</a></strong> to <a href='https://wandb.ai/saurabhyd/pytorch-wandb-tutorial' target=\"_blank\">Weights & Biases</a> (<a href='https://wandb.me/run' target=\"_blank\">docs</a>)<br/>"
            ]
          },
          "metadata": {}
        },
        {
          "output_type": "display_data",
          "data": {
            "text/plain": [
              "<IPython.core.display.HTML object>"
            ],
            "text/html": [
              " View project at <a href='https://wandb.ai/saurabhyd/pytorch-wandb-tutorial' target=\"_blank\">https://wandb.ai/saurabhyd/pytorch-wandb-tutorial</a>"
            ]
          },
          "metadata": {}
        },
        {
          "output_type": "display_data",
          "data": {
            "text/plain": [
              "<IPython.core.display.HTML object>"
            ],
            "text/html": [
              " View run at <a href='https://wandb.ai/saurabhyd/pytorch-wandb-tutorial/runs/nzb51jrb' target=\"_blank\">https://wandb.ai/saurabhyd/pytorch-wandb-tutorial/runs/nzb51jrb</a>"
            ]
          },
          "metadata": {}
        },
        {
          "output_type": "execute_result",
          "data": {
            "text/html": [
              "<button onClick=\"this.nextSibling.style.display='block';this.style.display='none';\">Display W&B run</button><iframe src='https://wandb.ai/saurabhyd/pytorch-wandb-tutorial/runs/nzb51jrb?jupyter=true' style='border:none;width:100%;height:420px;display:none;'></iframe>"
            ],
            "text/plain": [
              "<wandb.sdk.wandb_run.Run at 0x7f33eba06f20>"
            ]
          },
          "metadata": {},
          "execution_count": 4
        }
      ]
    },
    {
      "cell_type": "code",
      "source": [
        "\n",
        "# access all HPs through wandb.config\n",
        "config = wandb.config\n",
        "\n",
        "#create model class\n",
        "class CNNModel(nn.Module):\n",
        "    def __init__(self):\n",
        "        super(CNNModel, self).__init__()\n",
        "\n",
        "        # Convolution 1\n",
        "        self.cnn1 = nn.Conv2d(in_channels=1, out_channels=config.channels_one, kernel_size=5, stride=1, padding=0)\n",
        "        self.relu1 = nn.ReLU()\n",
        "        # Max pool 1\n",
        "        self.maxpool1 = nn.MaxPool2d(kernel_size=2)\n",
        "\n",
        "        # Convolution 2\n",
        "        self.cnn2 = nn.Conv2d(in_channels=config.channels_one, out_channels=config.channels_two, kernel_size=5, stride=1, padding=0)\n",
        "        self.relu2 = nn.ReLU()\n",
        "\n",
        "        # Max pool 2\n",
        "        self.maxpool2 = nn.MaxPool2d(kernel_size=2)\n",
        "\n",
        "        self.dropout = nn.Dropout(p=config.dropout)\n",
        "\n",
        "        # Fully connected 1 (readout)\n",
        "        self.fc1 = nn.Linear(config.channels_two*4*4, 10)\n",
        "\n",
        "\n",
        "\n",
        "    def forward(self, x):\n",
        "        # Convolution 1\n",
        "        out = self.cnn1(x)\n",
        "        out = self.relu1(out)\n",
        "\n",
        "        # Max pool 1\n",
        "        out = self.maxpool1(out)\n",
        "\n",
        "        # Convolution 2\n",
        "        out = self.cnn2(out)\n",
        "        out = self.relu2(out)\n",
        "\n",
        "        # Max pool 2\n",
        "        out = self.maxpool2(out)\n",
        "\n",
        "        # Resize\n",
        "        # Original size: (100, 32, 7, 7)\n",
        "        # out.size(0): 100\n",
        "        # New out size: (100, 32*7*7)\n",
        "        out = out.view(out.size(0), -1)\n",
        "        out = self.dropout(out)\n",
        "        # Linear function (readout)\n",
        "        out = self.fc1(out)\n",
        "\n",
        "        return out\n"
      ],
      "metadata": {
        "id": "mtqdhtbxVsOL"
      },
      "execution_count": null,
      "outputs": []
    },
    {
      "cell_type": "code",
      "source": [
        "label_names = [\n",
        "  \"T-shirt or top\",\n",
        "  \"Trouser\",\n",
        "  \"Pullover\",\n",
        "  \"Dress\",\n",
        "  \"Coat\",\n",
        "  \"Sandal\",\n",
        "  \"Shirt\",\n",
        "  \"Sneaker\",\n",
        "  \"Bag\",\n",
        "  \"Boot\"]\n",
        "\n",
        "train_loader = torch.utils.data.DataLoader(dataset=training_data,\n",
        "                                          batch_size=config.batch_size,\n",
        "                                          shuffle=True)\n",
        "\n",
        "val_loader = torch.utils.data.DataLoader(dataset=val_data,\n",
        "                                        batch_size=config.batch_size,\n",
        "                                        shuffle=False)\n",
        "\n",
        "test_loader = torch.utils.data.DataLoader(dataset=test_data,\n",
        "                                        batch_size=config.batch_size,\n",
        "                                        shuffle=False)"
      ],
      "metadata": {
        "id": "8S6AZ-6FWOy_"
      },
      "execution_count": null,
      "outputs": []
    },
    {
      "cell_type": "code",
      "source": [
        "device = \"cuda:0\" if torch.cuda.is_available() else \"cpu\"\n",
        "model = CNNModel()\n",
        "model = model.to(device)\n",
        "#track gradients\n",
        "# wandb.watch(model)\n",
        "#loss\n",
        "criterion = nn.CrossEntropyLoss()\n",
        "# Tell wandb to watch what the model gets up to: gradients, weights, and more!\n",
        "wandb.watch(model, criterion, log=\"all\", log_freq=10)\n",
        "\n",
        "#optimizer\n",
        "optimizer = torch.optim.Adam(model.parameters(), lr=config.learning_rate)\n",
        "\n",
        "print(model)"
      ],
      "metadata": {
        "colab": {
          "base_uri": "https://localhost:8080/"
        },
        "id": "B0VrfpTvWcrg",
        "outputId": "13ebee39-2981-4a24-b30c-a32ac44ce90b"
      },
      "execution_count": null,
      "outputs": [
        {
          "output_type": "stream",
          "name": "stdout",
          "text": [
            "CNNModel(\n",
            "  (cnn1): Conv2d(1, 16, kernel_size=(5, 5), stride=(1, 1))\n",
            "  (relu1): ReLU()\n",
            "  (maxpool1): MaxPool2d(kernel_size=2, stride=2, padding=0, dilation=1, ceil_mode=False)\n",
            "  (cnn2): Conv2d(16, 32, kernel_size=(5, 5), stride=(1, 1))\n",
            "  (relu2): ReLU()\n",
            "  (maxpool2): MaxPool2d(kernel_size=2, stride=2, padding=0, dilation=1, ceil_mode=False)\n",
            "  (dropout): Dropout(p=0.5, inplace=False)\n",
            "  (fc1): Linear(in_features=512, out_features=10, bias=True)\n",
            ")\n"
          ]
        }
      ]
    },
    {
      "cell_type": "code",
      "source": [
        "!pip install prettytable"
      ],
      "metadata": {
        "colab": {
          "base_uri": "https://localhost:8080/"
        },
        "id": "JMugauxraaTq",
        "outputId": "714e2211-1928-42cf-af99-e9c5d97becbd"
      },
      "execution_count": null,
      "outputs": [
        {
          "output_type": "stream",
          "name": "stdout",
          "text": [
            "Requirement already satisfied: prettytable in /usr/local/lib/python3.10/dist-packages (3.9.0)\n",
            "Requirement already satisfied: wcwidth in /usr/local/lib/python3.10/dist-packages (from prettytable) (0.2.13)\n"
          ]
        }
      ]
    },
    {
      "cell_type": "code",
      "source": [
        "from prettytable import PrettyTable\n",
        "def model_parameters_table(model):\n",
        "    table = PrettyTable([\"Layer\", \"Parameter Count\"])\n",
        "\n",
        "    total_params = 0\n",
        "    for name, param in model.named_parameters():\n",
        "        if param.requires_grad:\n",
        "            num_params = param.numel()\n",
        "            total_params += num_params\n",
        "            table.add_row([name, num_params])\n",
        "\n",
        "    table.add_row([\"Total\", total_params])\n",
        "    return table"
      ],
      "metadata": {
        "id": "1lHFRHOiaYzK"
      },
      "execution_count": null,
      "outputs": []
    },
    {
      "cell_type": "code",
      "source": [
        "print(model_parameters_table(model))"
      ],
      "metadata": {
        "colab": {
          "base_uri": "https://localhost:8080/"
        },
        "id": "sFa6OuIfaen8",
        "outputId": "a9df4eea-4980-4452-908d-bff60af9aaa6"
      },
      "execution_count": null,
      "outputs": [
        {
          "output_type": "stream",
          "name": "stdout",
          "text": [
            "+-------------+-----------------+\n",
            "|    Layer    | Parameter Count |\n",
            "+-------------+-----------------+\n",
            "| cnn1.weight |       400       |\n",
            "|  cnn1.bias  |        16       |\n",
            "| cnn2.weight |      12800      |\n",
            "|  cnn2.bias  |        32       |\n",
            "|  fc1.weight |       5120      |\n",
            "|   fc1.bias  |        10       |\n",
            "|    Total    |      18378      |\n",
            "+-------------+-----------------+\n"
          ]
        }
      ]
    },
    {
      "cell_type": "code",
      "source": [
        "!pip install onnx"
      ],
      "metadata": {
        "colab": {
          "base_uri": "https://localhost:8080/"
        },
        "id": "ZH3PBrqaf_H8",
        "outputId": "d1c6ad48-293e-4328-9343-c929969b7792"
      },
      "execution_count": null,
      "outputs": [
        {
          "output_type": "stream",
          "name": "stdout",
          "text": [
            "Collecting onnx\n",
            "  Downloading onnx-1.15.0-cp310-cp310-manylinux_2_17_x86_64.manylinux2014_x86_64.whl (15.7 MB)\n",
            "\u001b[2K     \u001b[90m━━━━━━━━━━━━━━━━━━━━━━━━━━━━━━━━━━━━━━━━\u001b[0m \u001b[32m15.7/15.7 MB\u001b[0m \u001b[31m50.9 MB/s\u001b[0m eta \u001b[36m0:00:00\u001b[0m\n",
            "\u001b[?25hRequirement already satisfied: numpy in /usr/local/lib/python3.10/dist-packages (from onnx) (1.23.5)\n",
            "Requirement already satisfied: protobuf>=3.20.2 in /usr/local/lib/python3.10/dist-packages (from onnx) (3.20.3)\n",
            "Installing collected packages: onnx\n",
            "Successfully installed onnx-1.15.0\n"
          ]
        }
      ]
    },
    {
      "cell_type": "code",
      "source": [
        "\n",
        "def Train_model(model):\n",
        "  iter = 0\n",
        "  total_loss_train = []\n",
        "  total_loss_validation = []\n",
        "  # tell wandb to get started\n",
        "  for epoch in range(config.epochs):\n",
        "    for i, (images, labels) in enumerate(train_loader):\n",
        "\n",
        "        batch_loss_train=0\n",
        "        batch_loss_val=0\n",
        "        num_batches = 0\n",
        "        images, labels= images.to(device), labels.to(device)\n",
        "\n",
        "        # Clear gradients w.r.t. parameters\n",
        "        optimizer.zero_grad()\n",
        "\n",
        "        # Forward pass to get output/logits\n",
        "        outputs = model(images)\n",
        "\n",
        "        # Calculate Loss: softmax --> cross entropy loss\n",
        "        loss = criterion(outputs, labels)\n",
        "\n",
        "        # Getting gradients w.r.t. parameters\n",
        "        loss.backward()\n",
        "\n",
        "        # Updating parameters\n",
        "        optimizer.step()\n",
        "\n",
        "        batch_loss_train+=loss.item()\n",
        "\n",
        "        iter += 1\n",
        "        num_batches+=1\n",
        "\n",
        "        if iter % 100 == 0:\n",
        "            # Calculate Accuracy\n",
        "            correct = 0.0\n",
        "            correct_arr = [0.0] * 10\n",
        "            total = 0.0\n",
        "            total_arr = [0.0] * 10\n",
        "\n",
        "            # Iterate through test dataset\n",
        "            for images, labels in test_loader:\n",
        "                images = Variable(images)\n",
        "                images, labels = images.to(device), labels.to(device)\n",
        "\n",
        "                # Forward pass only to get logits/output\n",
        "                outputs = model(images)\n",
        "\n",
        "                # Get predictions from the maximum value\n",
        "                _, predicted = torch.max(outputs.data, 1)\n",
        "\n",
        "                # Total number of labels\n",
        "                total += labels.size(0)\n",
        "                correct += (predicted == labels).sum()\n",
        "                loss_test = criterion(outputs, labels)\n",
        "                for label in range(10):\n",
        "                    correct_arr[label] += (((predicted == labels) & (labels==label)).sum())\n",
        "                    total_arr[label] += (labels == label).sum()\n",
        "\n",
        "            accuracy = correct / total\n",
        "\n",
        "            metrics = {'accuracy': accuracy, 'loss_train': loss, 'loss_test': loss_test}\n",
        "            for label in range(10):\n",
        "                metrics['Accuracy ' + label_names[label]] = correct_arr[label] / total_arr[label]   #tells wand to log the metrics defined earlier\n",
        "            wandb.log(metrics)\n",
        "\n",
        "            # Print Loss\n",
        "            print('Iteration: {0} Loss_train: {1:.2f} Loss_test: {1:.2f} Accuracy: {2:.2f}'.format(iter, loss,loss_test, accuracy))\n",
        "\n",
        "    batch_loss_train/=num_batches\n",
        "    total_loss_train.append(batch_loss_train)\n",
        "\n",
        "    correct = 0\n",
        "    total = 0\n",
        "    count = 0\n",
        "    with torch.no_grad():\n",
        "\n",
        "      for data in val_loader:\n",
        "          # print(\"s\")\n",
        "          images, labels = data\n",
        "          images, labels = images.to(device), labels.to(device)\n",
        "          outputs = model(images)\n",
        "          total += labels.size(0)\n",
        "          loss_val = criterion(outputs, labels)\n",
        "\n",
        "          batch_loss_val += loss_val.item()\n",
        "          count+= 1\n",
        "\n",
        "      total_loss_validation += [batch_loss_val/count]\n",
        "      print(\"Validation loss is \",batch_loss_val/count)\n",
        "\n",
        "  torch.save(model.state_dict(), os.path.join(wandb.run.dir, \"model.pt\"))\n",
        "  path_onnx=\"model.pt\"\n",
        "  dummy_input = torch.randn(4, 1, 28, 28, device=device)\n",
        "  torch.onnx.export(model, dummy_input, path_onnx)\n",
        "  wandb.save(path_onnx)\n",
        "  wandb.save(path_onnx)\n",
        "  wandb.save(os.path.join(os.path.join(wandb.run.dir, \"model.pth\"), \"scratch nodel\", \"saved_model.pth\"))\n",
        "  wandb.finish()\n",
        "\n"
      ],
      "metadata": {
        "id": "x0jmv06iWjPn"
      },
      "execution_count": null,
      "outputs": []
    },
    {
      "cell_type": "code",
      "source": [
        "Train_model(model)"
      ],
      "metadata": {
        "colab": {
          "base_uri": "https://localhost:8080/",
          "height": 893,
          "referenced_widgets": [
            "9ca48eefdb4443a2aacf57dcd3e93cc5",
            "58f24b58081e41db8b33165b2d54743b",
            "98450ad85b6a4656a09b0893ef96e057",
            "4983c2afc19f4137bc9d46465ffcc43c",
            "9d2b37669d7b4a00890c92183f73ac31",
            "7e96186a97e44c62bcae4cd29e629281",
            "9bf07012fc00433780f62c365acac01b",
            "7f1ec62cbc184904aef2bded400033fd"
          ]
        },
        "id": "scVq2fymW8yT",
        "outputId": "63cbc48b-6f4c-462c-b6e4-5279f9541223"
      },
      "execution_count": null,
      "outputs": [
        {
          "output_type": "stream",
          "name": "stdout",
          "text": [
            "Iteration: 100 Loss_train: 0.79 Loss_test: 0.79 Accuracy: 0.77\n",
            "Iteration: 200 Loss_train: 0.72 Loss_test: 0.72 Accuracy: 0.68\n",
            "Iteration: 300 Loss_train: 0.66 Loss_test: 0.66 Accuracy: 0.63\n",
            "Iteration: 400 Loss_train: 0.58 Loss_test: 0.58 Accuracy: 0.59\n",
            "Iteration: 500 Loss_train: 0.45 Loss_test: 0.45 Accuracy: 0.55\n",
            "Iteration: 600 Loss_train: 0.61 Loss_test: 0.61 Accuracy: 0.51\n",
            "Validation loss is  0.47454928278923036\n",
            "Iteration: 700 Loss_train: 0.60 Loss_test: 0.60 Accuracy: 0.50\n",
            "Iteration: 800 Loss_train: 0.46 Loss_test: 0.46 Accuracy: 0.53\n",
            "Iteration: 900 Loss_train: 0.41 Loss_test: 0.41 Accuracy: 0.53\n",
            "Iteration: 1000 Loss_train: 0.37 Loss_test: 0.37 Accuracy: 0.57\n",
            "Iteration: 1100 Loss_train: 0.40 Loss_test: 0.40 Accuracy: 0.47\n",
            "Iteration: 1200 Loss_train: 0.37 Loss_test: 0.37 Accuracy: 0.49\n",
            "Validation loss is  0.43461878061294557\n"
          ]
        },
        {
          "output_type": "stream",
          "name": "stderr",
          "text": [
            "\u001b[34m\u001b[1mwandb\u001b[0m: \u001b[33mWARNING\u001b[0m Saving files without folders. If you want to preserve sub directories pass base_path to wandb.save, i.e. wandb.save(\"/mnt/folder/file.h5\", base_path=\"/mnt\")\n"
          ]
        },
        {
          "output_type": "display_data",
          "data": {
            "text/plain": [
              "VBox(children=(Label(value='0.732 MB of 0.732 MB uploaded\\r'), FloatProgress(value=1.0, max=1.0)))"
            ],
            "application/vnd.jupyter.widget-view+json": {
              "version_major": 2,
              "version_minor": 0,
              "model_id": "9ca48eefdb4443a2aacf57dcd3e93cc5"
            }
          },
          "metadata": {}
        },
        {
          "output_type": "display_data",
          "data": {
            "text/plain": [
              "<IPython.core.display.HTML object>"
            ],
            "text/html": [
              "W&B sync reduced upload amount by 1.0%             "
            ]
          },
          "metadata": {}
        },
        {
          "output_type": "display_data",
          "data": {
            "text/plain": [
              "<IPython.core.display.HTML object>"
            ],
            "text/html": [
              "<style>\n",
              "    table.wandb td:nth-child(1) { padding: 0 10px; text-align: left ; width: auto;} td:nth-child(2) {text-align: left ; width: 100%}\n",
              "    .wandb-row { display: flex; flex-direction: row; flex-wrap: wrap; justify-content: flex-start; width: 100% }\n",
              "    .wandb-col { display: flex; flex-direction: column; flex-basis: 100%; flex: 1; padding: 10px; }\n",
              "    </style>\n",
              "<div class=\"wandb-row\"><div class=\"wandb-col\"><h3>Run history:</h3><br/><table class=\"wandb\"><tr><td>Accuracy Bag</td><td>▂▁▇▅█▇▆█▇▆█▇</td></tr><tr><td>Accuracy Boot</td><td>▃▁▄▆▇▆▅▇██▇▇</td></tr><tr><td>Accuracy Coat</td><td>▁▄▆▄▄▄▄▄▄▅▄█</td></tr><tr><td>Accuracy Dress</td><td>▁▅▅█▇▇▇▆▅▇▇█</td></tr><tr><td>Accuracy Pullover</td><td>▅▅▁▄▆▆▇▆██▆▅</td></tr><tr><td>Accuracy Sandal</td><td>▁▆▆▆▇▆▇▆█▆█▇</td></tr><tr><td>Accuracy Shirt</td><td>▁▂▃▆▅▆▆█▆▅▇▆</td></tr><tr><td>Accuracy Sneaker</td><td>▃▂▄▆▁▇▇█▆▆▇█</td></tr><tr><td>Accuracy T-shirt or top</td><td>▃▄▆▁▆▅▃▄▇█▇▆</td></tr><tr><td>Accuracy Trouser</td><td>▁▃▄▆▅▆▅▇█▇▆█</td></tr><tr><td>accuracy</td><td>▁▃▄▆▆▆▇▇▇▇██</td></tr><tr><td>loss_test</td><td>█▆▅▄▃▂▂▃▃▃▁▂</td></tr><tr><td>loss_train</td><td>█▇▆▅▂▅▅▃▂▁▁▁</td></tr></table><br/></div><div class=\"wandb-col\"><h3>Run summary:</h3><br/><table class=\"wandb\"><tr><td>Accuracy Bag</td><td>0.95777</td></tr><tr><td>Accuracy Boot</td><td>0.94479</td></tr><tr><td>Accuracy Coat</td><td>0.84762</td></tr><tr><td>Accuracy Dress</td><td>0.8497</td></tr><tr><td>Accuracy Pullover</td><td>0.70563</td></tr><tr><td>Accuracy Sandal</td><td>0.93168</td></tr><tr><td>Accuracy Shirt</td><td>0.54134</td></tr><tr><td>Accuracy Sneaker</td><td>0.94456</td></tr><tr><td>Accuracy T-shirt or top</td><td>0.79434</td></tr><tr><td>Accuracy Trouser</td><td>0.96573</td></tr><tr><td>accuracy</td><td>0.8482</td></tr><tr><td>loss_test</td><td>0.48848</td></tr><tr><td>loss_train</td><td>0.37009</td></tr></table><br/></div></div>"
            ]
          },
          "metadata": {}
        },
        {
          "output_type": "display_data",
          "data": {
            "text/plain": [
              "<IPython.core.display.HTML object>"
            ],
            "text/html": [
              " View run <strong style=\"color:#cdcd00\">fashion-mnist</strong> at: <a href='https://wandb.ai/saurabhyd/pytorch-wandb-tutorial/runs/nzb51jrb' target=\"_blank\">https://wandb.ai/saurabhyd/pytorch-wandb-tutorial/runs/nzb51jrb</a><br/> View job at <a href='https://wandb.ai/saurabhyd/pytorch-wandb-tutorial/jobs/QXJ0aWZhY3RDb2xsZWN0aW9uOjEzMTgwNjYyMQ==/version_details/v7' target=\"_blank\">https://wandb.ai/saurabhyd/pytorch-wandb-tutorial/jobs/QXJ0aWZhY3RDb2xsZWN0aW9uOjEzMTgwNjYyMQ==/version_details/v7</a><br/>Synced 5 W&B file(s), 0 media file(s), 11 artifact file(s) and 2 other file(s)"
            ]
          },
          "metadata": {}
        },
        {
          "output_type": "display_data",
          "data": {
            "text/plain": [
              "<IPython.core.display.HTML object>"
            ],
            "text/html": [
              "Find logs at: <code>./wandb/run-20240124_135735-nzb51jrb/logs</code>"
            ]
          },
          "metadata": {}
        }
      ]
    },
    {
      "cell_type": "code",
      "source": [
        "\n",
        "normalize = transforms.Normalize(mean=[x/255.0 for x in [125.3, 123.0, 113.9]],\n",
        "                                    std=[x/255.0 for x in [63.0, 62.1, 66.7]])  #change pixel intensity range\n",
        "\n",
        "transform = transforms.Compose([transforms.ToTensor(),\n",
        "                                transforms.Resize(96),\n",
        "                              transforms.Normalize((0.1307,), (0.3081,))])\n",
        "\n",
        "training_data = datasets.CIFAR10(\n",
        "    root=\"data\",\n",
        "    train=True,\n",
        "    download=True,\n",
        "    transform=transform\n",
        ")\n",
        "\n",
        "test_data = datasets.CIFAR10(\n",
        "    root=\"data\",\n",
        "    train=False,\n",
        "    download=True,\n",
        "    transform=transform\n",
        ")\n"
      ],
      "metadata": {
        "colab": {
          "base_uri": "https://localhost:8080/"
        },
        "id": "kQ6vhtKqh6BL",
        "outputId": "9ba9e797-72e0-483f-de36-6d615009963b"
      },
      "execution_count": null,
      "outputs": [
        {
          "output_type": "stream",
          "name": "stdout",
          "text": [
            "Downloading https://www.cs.toronto.edu/~kriz/cifar-10-python.tar.gz to data/cifar-10-python.tar.gz\n"
          ]
        },
        {
          "output_type": "stream",
          "name": "stderr",
          "text": [
            "100%|██████████| 170498071/170498071 [00:05<00:00, 28836073.04it/s]\n"
          ]
        },
        {
          "output_type": "stream",
          "name": "stdout",
          "text": [
            "Extracting data/cifar-10-python.tar.gz to data\n",
            "Files already downloaded and verified\n"
          ]
        }
      ]
    },
    {
      "cell_type": "code",
      "source": [
        "\n",
        "wandb.init(config=hyperparameter_defaults, project=\"pytorch-wandb-tutorial\", name = \"pretrained model\")"
      ],
      "metadata": {
        "colab": {
          "base_uri": "https://localhost:8080/",
          "height": 137
        },
        "id": "fW-KqpcCXXmG",
        "outputId": "f8deaa26-b8d8-48ce-9815-224f7867d311"
      },
      "execution_count": null,
      "outputs": [
        {
          "output_type": "stream",
          "name": "stderr",
          "text": [
            "\u001b[34m\u001b[1mwandb\u001b[0m: Currently logged in as: \u001b[33msaurabhyd\u001b[0m. Use \u001b[1m`wandb login --relogin`\u001b[0m to force relogin\n"
          ]
        },
        {
          "output_type": "display_data",
          "data": {
            "text/plain": [
              "<IPython.core.display.HTML object>"
            ],
            "text/html": [
              "Tracking run with wandb version 0.16.2"
            ]
          },
          "metadata": {}
        },
        {
          "output_type": "display_data",
          "data": {
            "text/plain": [
              "<IPython.core.display.HTML object>"
            ],
            "text/html": [
              "Run data is saved locally in <code>/content/wandb/run-20240124_141613-qs8tjx4p</code>"
            ]
          },
          "metadata": {}
        },
        {
          "output_type": "display_data",
          "data": {
            "text/plain": [
              "<IPython.core.display.HTML object>"
            ],
            "text/html": [
              "Syncing run <strong><a href='https://wandb.ai/saurabhyd/pytorch-wandb-tutorial/runs/qs8tjx4p' target=\"_blank\">pretrained model</a></strong> to <a href='https://wandb.ai/saurabhyd/pytorch-wandb-tutorial' target=\"_blank\">Weights & Biases</a> (<a href='https://wandb.me/run' target=\"_blank\">docs</a>)<br/>"
            ]
          },
          "metadata": {}
        },
        {
          "output_type": "display_data",
          "data": {
            "text/plain": [
              "<IPython.core.display.HTML object>"
            ],
            "text/html": [
              " View project at <a href='https://wandb.ai/saurabhyd/pytorch-wandb-tutorial' target=\"_blank\">https://wandb.ai/saurabhyd/pytorch-wandb-tutorial</a>"
            ]
          },
          "metadata": {}
        },
        {
          "output_type": "display_data",
          "data": {
            "text/plain": [
              "<IPython.core.display.HTML object>"
            ],
            "text/html": [
              " View run at <a href='https://wandb.ai/saurabhyd/pytorch-wandb-tutorial/runs/qs8tjx4p' target=\"_blank\">https://wandb.ai/saurabhyd/pytorch-wandb-tutorial/runs/qs8tjx4p</a>"
            ]
          },
          "metadata": {}
        },
        {
          "output_type": "execute_result",
          "data": {
            "text/html": [
              "<button onClick=\"this.nextSibling.style.display='block';this.style.display='none';\">Display W&B run</button><iframe src='https://wandb.ai/saurabhyd/pytorch-wandb-tutorial/runs/qs8tjx4p?jupyter=true' style='border:none;width:100%;height:420px;display:none;'></iframe>"
            ],
            "text/plain": [
              "<wandb.sdk.wandb_run.Run at 0x7f33e2c364d0>"
            ]
          },
          "metadata": {},
          "execution_count": 15
        }
      ]
    },
    {
      "cell_type": "code",
      "source": [
        "from torch.utils.data import random_split\n",
        "\n",
        "val_size = len(test_data) // 2\n",
        "test_size = len(test_data) - val_size\n",
        "test_data, val_data = random_split(test_data, [test_size, val_size])\n",
        "\n",
        "len(val_data), len(test_data)"
      ],
      "metadata": {
        "colab": {
          "base_uri": "https://localhost:8080/"
        },
        "id": "nRqTbo7miVz6",
        "outputId": "e321b14b-dd9c-4ef0-e8f0-d0298ca983d9"
      },
      "execution_count": null,
      "outputs": [
        {
          "output_type": "execute_result",
          "data": {
            "text/plain": [
              "(5000, 5000)"
            ]
          },
          "metadata": {},
          "execution_count": 16
        }
      ]
    },
    {
      "cell_type": "code",
      "source": [
        "label_names =[\"Airplane\",\"Automobile\"\n",
        ",\"Bird\"\n",
        ",\"Cat\"\n",
        ",\"Deer\"\n",
        ",\"Dog\"\n",
        ",\"Frog\"\n",
        ",\"Horse\"\n",
        ",\"Ship\"\n",
        ",\"Truck\"]\n",
        "\n",
        "train_loader = torch.utils.data.DataLoader(dataset=training_data,\n",
        "                                          batch_size=config.batch_size,\n",
        "                                          shuffle=True)\n",
        "\n",
        "val_loader = torch.utils.data.DataLoader(dataset=val_data,\n",
        "                                        batch_size=config.batch_size,\n",
        "                                        shuffle=False)\n",
        "\n",
        "test_loader = torch.utils.data.DataLoader(dataset=test_data,\n",
        "                                        batch_size=config.batch_size,\n",
        "                                        shuffle=False)"
      ],
      "metadata": {
        "id": "qrtNKNuGiE8H"
      },
      "execution_count": null,
      "outputs": []
    },
    {
      "cell_type": "code",
      "source": [
        "import torchvision\n",
        "pretrained_model = torchvision.models.alexnet(weights='DEFAULT').to(device)"
      ],
      "metadata": {
        "id": "jgjtB9ffXxpI",
        "colab": {
          "base_uri": "https://localhost:8080/"
        },
        "outputId": "ada8332d-08c6-42e7-8ff8-f528a8acb375"
      },
      "execution_count": null,
      "outputs": [
        {
          "output_type": "stream",
          "name": "stderr",
          "text": [
            "Downloading: \"https://download.pytorch.org/models/alexnet-owt-7be5be79.pth\" to /root/.cache/torch/hub/checkpoints/alexnet-owt-7be5be79.pth\n",
            "100%|██████████| 233M/233M [00:01<00:00, 127MB/s]\n"
          ]
        }
      ]
    },
    {
      "cell_type": "code",
      "source": [
        "print(pretrained_model)"
      ],
      "metadata": {
        "colab": {
          "base_uri": "https://localhost:8080/"
        },
        "id": "6MLgYDRFisif",
        "outputId": "c6db00e5-4e58-41b8-ba3d-1a418d65aa1f"
      },
      "execution_count": null,
      "outputs": [
        {
          "output_type": "stream",
          "name": "stdout",
          "text": [
            "AlexNet(\n",
            "  (features): Sequential(\n",
            "    (0): Conv2d(3, 64, kernel_size=(11, 11), stride=(4, 4), padding=(2, 2))\n",
            "    (1): ReLU(inplace=True)\n",
            "    (2): MaxPool2d(kernel_size=3, stride=2, padding=0, dilation=1, ceil_mode=False)\n",
            "    (3): Conv2d(64, 192, kernel_size=(5, 5), stride=(1, 1), padding=(2, 2))\n",
            "    (4): ReLU(inplace=True)\n",
            "    (5): MaxPool2d(kernel_size=3, stride=2, padding=0, dilation=1, ceil_mode=False)\n",
            "    (6): Conv2d(192, 384, kernel_size=(3, 3), stride=(1, 1), padding=(1, 1))\n",
            "    (7): ReLU(inplace=True)\n",
            "    (8): Conv2d(384, 256, kernel_size=(3, 3), stride=(1, 1), padding=(1, 1))\n",
            "    (9): ReLU(inplace=True)\n",
            "    (10): Conv2d(256, 256, kernel_size=(3, 3), stride=(1, 1), padding=(1, 1))\n",
            "    (11): ReLU(inplace=True)\n",
            "    (12): MaxPool2d(kernel_size=3, stride=2, padding=0, dilation=1, ceil_mode=False)\n",
            "  )\n",
            "  (avgpool): AdaptiveAvgPool2d(output_size=(6, 6))\n",
            "  (classifier): Sequential(\n",
            "    (0): Dropout(p=0.5, inplace=False)\n",
            "    (1): Linear(in_features=9216, out_features=4096, bias=True)\n",
            "    (2): ReLU(inplace=True)\n",
            "    (3): Dropout(p=0.5, inplace=False)\n",
            "    (4): Linear(in_features=4096, out_features=4096, bias=True)\n",
            "    (5): ReLU(inplace=True)\n",
            "    (6): Linear(in_features=4096, out_features=1000, bias=True)\n",
            "  )\n",
            ")\n"
          ]
        }
      ]
    },
    {
      "cell_type": "code",
      "source": [
        "print(model_parameters_table(pretrained_model))"
      ],
      "metadata": {
        "colab": {
          "base_uri": "https://localhost:8080/"
        },
        "id": "ocwI6DOFa7Qr",
        "outputId": "a7a5061d-f865-4dbf-a45d-b40a90a0b1e3"
      },
      "execution_count": null,
      "outputs": [
        {
          "output_type": "stream",
          "name": "stdout",
          "text": [
            "+---------------------+-----------------+\n",
            "|        Layer        | Parameter Count |\n",
            "+---------------------+-----------------+\n",
            "|  features.0.weight  |      23232      |\n",
            "|   features.0.bias   |        64       |\n",
            "|  features.3.weight  |      307200     |\n",
            "|   features.3.bias   |       192       |\n",
            "|  features.6.weight  |      663552     |\n",
            "|   features.6.bias   |       384       |\n",
            "|  features.8.weight  |      884736     |\n",
            "|   features.8.bias   |       256       |\n",
            "|  features.10.weight |      589824     |\n",
            "|   features.10.bias  |       256       |\n",
            "| classifier.1.weight |     37748736    |\n",
            "|  classifier.1.bias  |       4096      |\n",
            "| classifier.4.weight |     16777216    |\n",
            "|  classifier.4.bias  |       4096      |\n",
            "| classifier.6.weight |     4096000     |\n",
            "|  classifier.6.bias  |       1000      |\n",
            "|        Total        |     61100840    |\n",
            "+---------------------+-----------------+\n"
          ]
        }
      ]
    },
    {
      "cell_type": "code",
      "source": [
        "pretrained_model.classifier = nn.Sequential(\n",
        "    nn.Linear(in_features=9216, out_features=4096),\n",
        "    nn.ReLU(),\n",
        "    nn.Linear(in_features=4096, out_features=10)\n",
        ")\n",
        "\n",
        "print(pretrained_model)"
      ],
      "metadata": {
        "colab": {
          "base_uri": "https://localhost:8080/"
        },
        "id": "rqJd1DzXiqZ_",
        "outputId": "f0caa286-770e-464a-b162-86c13a5c0916"
      },
      "execution_count": null,
      "outputs": [
        {
          "output_type": "stream",
          "name": "stdout",
          "text": [
            "AlexNet(\n",
            "  (features): Sequential(\n",
            "    (0): Conv2d(3, 64, kernel_size=(11, 11), stride=(4, 4), padding=(2, 2))\n",
            "    (1): ReLU(inplace=True)\n",
            "    (2): MaxPool2d(kernel_size=3, stride=2, padding=0, dilation=1, ceil_mode=False)\n",
            "    (3): Conv2d(64, 192, kernel_size=(5, 5), stride=(1, 1), padding=(2, 2))\n",
            "    (4): ReLU(inplace=True)\n",
            "    (5): MaxPool2d(kernel_size=3, stride=2, padding=0, dilation=1, ceil_mode=False)\n",
            "    (6): Conv2d(192, 384, kernel_size=(3, 3), stride=(1, 1), padding=(1, 1))\n",
            "    (7): ReLU(inplace=True)\n",
            "    (8): Conv2d(384, 256, kernel_size=(3, 3), stride=(1, 1), padding=(1, 1))\n",
            "    (9): ReLU(inplace=True)\n",
            "    (10): Conv2d(256, 256, kernel_size=(3, 3), stride=(1, 1), padding=(1, 1))\n",
            "    (11): ReLU(inplace=True)\n",
            "    (12): MaxPool2d(kernel_size=3, stride=2, padding=0, dilation=1, ceil_mode=False)\n",
            "  )\n",
            "  (avgpool): AdaptiveAvgPool2d(output_size=(6, 6))\n",
            "  (classifier): Sequential(\n",
            "    (0): Linear(in_features=9216, out_features=4096, bias=True)\n",
            "    (1): ReLU()\n",
            "    (2): Linear(in_features=4096, out_features=10, bias=True)\n",
            "  )\n",
            ")\n"
          ]
        }
      ]
    },
    {
      "cell_type": "code",
      "source": [
        "print(model_parameters_table(pretrained_model))\n"
      ],
      "metadata": {
        "colab": {
          "base_uri": "https://localhost:8080/"
        },
        "id": "elOvLiOZjIrF",
        "outputId": "aaef1d52-545a-4235-b379-817e1dc2fc50"
      },
      "execution_count": null,
      "outputs": [
        {
          "output_type": "stream",
          "name": "stdout",
          "text": [
            "+---------------------+-----------------+\n",
            "|        Layer        | Parameter Count |\n",
            "+---------------------+-----------------+\n",
            "|  features.0.weight  |      23232      |\n",
            "|   features.0.bias   |        64       |\n",
            "|  features.3.weight  |      307200     |\n",
            "|   features.3.bias   |       192       |\n",
            "|  features.6.weight  |      663552     |\n",
            "|   features.6.bias   |       384       |\n",
            "|  features.8.weight  |      884736     |\n",
            "|   features.8.bias   |       256       |\n",
            "|  features.10.weight |      589824     |\n",
            "|   features.10.bias  |       256       |\n",
            "| classifier.0.weight |     37748736    |\n",
            "|  classifier.0.bias  |       4096      |\n",
            "| classifier.2.weight |      40960      |\n",
            "|  classifier.2.bias  |        10       |\n",
            "|        Total        |     40263498    |\n",
            "+---------------------+-----------------+\n"
          ]
        }
      ]
    },
    {
      "cell_type": "code",
      "source": [
        "for name, params in pretrained_model.features.named_parameters():\n",
        "  params.requires_grad = False\n",
        "\n",
        "print(model_parameters_table(pretrained_model))"
      ],
      "metadata": {
        "colab": {
          "base_uri": "https://localhost:8080/"
        },
        "id": "1kyQGAlrdIfw",
        "outputId": "ffb05e18-9c95-4d7e-d0f6-b9278a51301a"
      },
      "execution_count": null,
      "outputs": [
        {
          "output_type": "stream",
          "name": "stdout",
          "text": [
            "+---------------------+-----------------+\n",
            "|        Layer        | Parameter Count |\n",
            "+---------------------+-----------------+\n",
            "| classifier.0.weight |     37748736    |\n",
            "|  classifier.0.bias  |       4096      |\n",
            "| classifier.2.weight |      40960      |\n",
            "|  classifier.2.bias  |        10       |\n",
            "|        Total        |     37793802    |\n",
            "+---------------------+-----------------+\n"
          ]
        }
      ]
    },
    {
      "cell_type": "code",
      "source": [
        "def Train_model(model):\n",
        "  iter = 0\n",
        "  total_loss_train = []\n",
        "  total_loss_validation = []\n",
        "\n",
        "  for epoch in range(config.epochs):\n",
        "    for i, (images, labels) in enumerate(train_loader):\n",
        "\n",
        "        batch_loss_train=0\n",
        "        batch_loss_val=0\n",
        "        num_batches = 0\n",
        "        images, labels= images.to(device), labels.to(device)\n",
        "\n",
        "        # Clear gradients w.r.t. parameters\n",
        "        optimizer.zero_grad()\n",
        "\n",
        "        # Forward pass to get output/logits\n",
        "        outputs = model(images)\n",
        "\n",
        "        # Calculate Loss: softmax --> cross entropy loss\n",
        "        loss = criterion(outputs, labels)\n",
        "\n",
        "        # Getting gradients w.r.t. parameters\n",
        "        loss.backward()\n",
        "\n",
        "        # Updating parameters\n",
        "        optimizer.step()\n",
        "\n",
        "        batch_loss_train+=loss.item()\n",
        "\n",
        "        iter += 1\n",
        "        num_batches+=1\n",
        "\n",
        "        if iter % 100 == 0:\n",
        "            # Calculate Accuracy\n",
        "            correct = 0.0\n",
        "            correct_arr = [0.0] * 10\n",
        "            total = 0.0\n",
        "            total_arr = [0.0] * 10\n",
        "\n",
        "            # Iterate through test dataset\n",
        "            for images, labels in test_loader:\n",
        "                images = Variable(images)\n",
        "                images, labels = images.to(device), labels.to(device)\n",
        "\n",
        "                # Forward pass only to get logits/output\n",
        "                outputs = model(images)\n",
        "\n",
        "                # Get predictions from the maximum value\n",
        "                _, predicted = torch.max(outputs.data, 1)\n",
        "\n",
        "                # Total number of labels\n",
        "                total += labels.size(0)\n",
        "                correct += (predicted == labels).sum()\n",
        "                loss_test = criterion(outputs, labels)\n",
        "                for label in range(10):\n",
        "                    correct_arr[label] += (((predicted == labels) & (labels==label)).sum())\n",
        "                    total_arr[label] += (labels == label).sum()\n",
        "\n",
        "            accuracy = correct / total\n",
        "\n",
        "            metrics = {'accuracy': accuracy, 'loss_train': loss, 'loss_test': loss_test}\n",
        "            for label in range(10):\n",
        "                metrics['Accuracy ' + label_names[label]] = correct_arr[label] / total_arr[label]   #tells wand to log the metrics defined earlier\n",
        "            wandb.log(metrics)\n",
        "\n",
        "            # Print Loss\n",
        "            print('Iteration: {0} Loss_train: {1:.2f} Loss_test: {1:.2f} Accuracy: {2:.2f}'.format(iter, loss,loss_test, accuracy))\n",
        "\n",
        "    batch_loss_train/=num_batches\n",
        "    total_loss_train.append(batch_loss_train)\n",
        "\n",
        "    correct = 0\n",
        "    total = 0\n",
        "    count = 0\n",
        "    with torch.no_grad():\n",
        "\n",
        "      for data in val_loader:\n",
        "          images, labels = data\n",
        "          images, labels = images.to(device), labels.to(device)\n",
        "          outputs = model(images)\n",
        "          total += labels.size(0)\n",
        "          loss_val = criterion(outputs, labels)\n",
        "\n",
        "          batch_loss_val += loss_val.item()\n",
        "          count+= 1\n",
        "\n",
        "      total_loss_validation += [batch_loss_val/count]\n",
        "      print(\"Validation loss is \",batch_loss_val/count)\n",
        "\n",
        "  torch.save(model.state_dict(), os.path.join(wandb.run.dir, \"model.pt\"))\n",
        "  # path_onnx=\"model.pt\"\n",
        "  # dummy_input = torch.randn(4, 3, 96, 96, device=device)\n",
        "  # torch.onnx.export(model, dummy_input, path_onnx)\n",
        "  # wandb.save(path_onnx)\n",
        "  wandb.save(os.path.join(os.path.join(wandb.run.dir, \"model.pth\"), \"pretrained model\", \"saved_model.pth\"))\n",
        "  wandb.finish()\n",
        "\n",
        "\n"
      ],
      "metadata": {
        "id": "cxVt82_YijAF"
      },
      "execution_count": null,
      "outputs": []
    },
    {
      "cell_type": "code",
      "source": [
        "Train_model(pretrained_model)"
      ],
      "metadata": {
        "colab": {
          "base_uri": "https://localhost:8080/",
          "height": 317
        },
        "id": "DwkvF-VCbuGF",
        "outputId": "fd5f80b9-dda8-424b-b960-7f505467f4a9"
      },
      "execution_count": null,
      "outputs": [
        {
          "output_type": "error",
          "ename": "Error",
          "evalue": "You must call wandb.init() before wandb.log()",
          "traceback": [
            "\u001b[0;31m---------------------------------------------------------------------------\u001b[0m",
            "\u001b[0;31mError\u001b[0m                                     Traceback (most recent call last)",
            "\u001b[0;32m<ipython-input-27-194d804501ec>\u001b[0m in \u001b[0;36m<cell line: 1>\u001b[0;34m()\u001b[0m\n\u001b[0;32m----> 1\u001b[0;31m \u001b[0mTrain_model\u001b[0m\u001b[0;34m(\u001b[0m\u001b[0mpretrained_model\u001b[0m\u001b[0;34m)\u001b[0m\u001b[0;34m\u001b[0m\u001b[0;34m\u001b[0m\u001b[0m\n\u001b[0m",
            "\u001b[0;32m<ipython-input-24-624a5236e30a>\u001b[0m in \u001b[0;36mTrain_model\u001b[0;34m(model)\u001b[0m\n\u001b[1;32m     63\u001b[0m             \u001b[0;32mfor\u001b[0m \u001b[0mlabel\u001b[0m \u001b[0;32min\u001b[0m \u001b[0mrange\u001b[0m\u001b[0;34m(\u001b[0m\u001b[0;36m10\u001b[0m\u001b[0;34m)\u001b[0m\u001b[0;34m:\u001b[0m\u001b[0;34m\u001b[0m\u001b[0;34m\u001b[0m\u001b[0m\n\u001b[1;32m     64\u001b[0m                 \u001b[0mmetrics\u001b[0m\u001b[0;34m[\u001b[0m\u001b[0;34m'Accuracy '\u001b[0m \u001b[0;34m+\u001b[0m \u001b[0mlabel_names\u001b[0m\u001b[0;34m[\u001b[0m\u001b[0mlabel\u001b[0m\u001b[0;34m]\u001b[0m\u001b[0;34m]\u001b[0m \u001b[0;34m=\u001b[0m \u001b[0mcorrect_arr\u001b[0m\u001b[0;34m[\u001b[0m\u001b[0mlabel\u001b[0m\u001b[0;34m]\u001b[0m \u001b[0;34m/\u001b[0m \u001b[0mtotal_arr\u001b[0m\u001b[0;34m[\u001b[0m\u001b[0mlabel\u001b[0m\u001b[0;34m]\u001b[0m   \u001b[0;31m#tells wand to log the metrics defined earlier\u001b[0m\u001b[0;34m\u001b[0m\u001b[0;34m\u001b[0m\u001b[0m\n\u001b[0;32m---> 65\u001b[0;31m             \u001b[0mwandb\u001b[0m\u001b[0;34m.\u001b[0m\u001b[0mlog\u001b[0m\u001b[0;34m(\u001b[0m\u001b[0mmetrics\u001b[0m\u001b[0;34m)\u001b[0m\u001b[0;34m\u001b[0m\u001b[0;34m\u001b[0m\u001b[0m\n\u001b[0m\u001b[1;32m     66\u001b[0m \u001b[0;34m\u001b[0m\u001b[0m\n\u001b[1;32m     67\u001b[0m             \u001b[0;31m# Print Loss\u001b[0m\u001b[0;34m\u001b[0m\u001b[0;34m\u001b[0m\u001b[0m\n",
            "\u001b[0;32m/usr/local/lib/python3.10/dist-packages/wandb/sdk/lib/preinit.py\u001b[0m in \u001b[0;36mpreinit_wrapper\u001b[0;34m(*args, **kwargs)\u001b[0m\n\u001b[1;32m     34\u001b[0m ) -> Callable:\n\u001b[1;32m     35\u001b[0m     \u001b[0;32mdef\u001b[0m \u001b[0mpreinit_wrapper\u001b[0m\u001b[0;34m(\u001b[0m\u001b[0;34m*\u001b[0m\u001b[0margs\u001b[0m\u001b[0;34m:\u001b[0m \u001b[0mAny\u001b[0m\u001b[0;34m,\u001b[0m \u001b[0;34m**\u001b[0m\u001b[0mkwargs\u001b[0m\u001b[0;34m:\u001b[0m \u001b[0mAny\u001b[0m\u001b[0;34m)\u001b[0m \u001b[0;34m->\u001b[0m \u001b[0mAny\u001b[0m\u001b[0;34m:\u001b[0m\u001b[0;34m\u001b[0m\u001b[0;34m\u001b[0m\u001b[0m\n\u001b[0;32m---> 36\u001b[0;31m         \u001b[0;32mraise\u001b[0m \u001b[0mwandb\u001b[0m\u001b[0;34m.\u001b[0m\u001b[0mError\u001b[0m\u001b[0;34m(\u001b[0m\u001b[0;34mf\"You must call wandb.init() before {name}()\"\u001b[0m\u001b[0;34m)\u001b[0m\u001b[0;34m\u001b[0m\u001b[0;34m\u001b[0m\u001b[0m\n\u001b[0m\u001b[1;32m     37\u001b[0m \u001b[0;34m\u001b[0m\u001b[0m\n\u001b[1;32m     38\u001b[0m     \u001b[0mpreinit_wrapper\u001b[0m\u001b[0;34m.\u001b[0m\u001b[0m__name__\u001b[0m \u001b[0;34m=\u001b[0m \u001b[0mstr\u001b[0m\u001b[0;34m(\u001b[0m\u001b[0mname\u001b[0m\u001b[0;34m)\u001b[0m\u001b[0;34m\u001b[0m\u001b[0;34m\u001b[0m\u001b[0m\n",
            "\u001b[0;31mError\u001b[0m: You must call wandb.init() before wandb.log()"
          ]
        }
      ]
    },
    {
      "cell_type": "code",
      "source": [
        "wandb.finish()"
      ],
      "metadata": {
        "id": "1xXGYObahlh1",
        "colab": {
          "base_uri": "https://localhost:8080/",
          "height": 621,
          "referenced_widgets": [
            "25756e0510ae47caab978485d239c1ef",
            "1be5b10c5e1949369c57c01bc81da54a",
            "1a1b77bea01e4b51b835de0e4dc80b6c",
            "c275ca5b98e74c48a29ee81a256ff994",
            "a4a71214ddd94d38a42affa7d1e6a979",
            "ef0c5f16b0344bf9bec19f5360a220aa",
            "ed1fed2ae1844a2b90a9ac426fb402a7",
            "979acbe0cb32464bb392a361895305e0"
          ]
        },
        "outputId": "e289570b-1c7f-4fb3-a266-f21abb3b6e47"
      },
      "execution_count": null,
      "outputs": [
        {
          "output_type": "display_data",
          "data": {
            "text/plain": [
              "VBox(children=(Label(value='0.749 MB of 0.749 MB uploaded\\r'), FloatProgress(value=1.0, max=1.0)))"
            ],
            "application/vnd.jupyter.widget-view+json": {
              "version_major": 2,
              "version_minor": 0,
              "model_id": "25756e0510ae47caab978485d239c1ef"
            }
          },
          "metadata": {}
        },
        {
          "output_type": "display_data",
          "data": {
            "text/plain": [
              "<IPython.core.display.HTML object>"
            ],
            "text/html": [
              "W&B sync reduced upload amount by 1.1%             "
            ]
          },
          "metadata": {}
        },
        {
          "output_type": "display_data",
          "data": {
            "text/plain": [
              "<IPython.core.display.HTML object>"
            ],
            "text/html": [
              "<style>\n",
              "    table.wandb td:nth-child(1) { padding: 0 10px; text-align: left ; width: auto;} td:nth-child(2) {text-align: left ; width: 100%}\n",
              "    .wandb-row { display: flex; flex-direction: row; flex-wrap: wrap; justify-content: flex-start; width: 100% }\n",
              "    .wandb-col { display: flex; flex-direction: column; flex-basis: 100%; flex: 1; padding: 10px; }\n",
              "    </style>\n",
              "<div class=\"wandb-row\"><div class=\"wandb-col\"><h3>Run history:</h3><br/><table class=\"wandb\"><tr><td>Accuracy Airplane</td><td>▁▁▁▁</td></tr><tr><td>Accuracy Automobile</td><td>▁▁▁▁</td></tr><tr><td>Accuracy Bird</td><td>▁▁▁▁</td></tr><tr><td>Accuracy Cat</td><td>▁▁▁▁</td></tr><tr><td>Accuracy Deer</td><td>▁▁▁▁</td></tr><tr><td>Accuracy Dog</td><td>▁▁▁▁</td></tr><tr><td>Accuracy Frog</td><td>▁▁▁▁</td></tr><tr><td>Accuracy Horse</td><td>▁▁▁▁</td></tr><tr><td>Accuracy Ship</td><td>▁▁▁▁</td></tr><tr><td>Accuracy Truck</td><td>▁▁▁▁</td></tr><tr><td>accuracy</td><td>▁▁▁▁</td></tr><tr><td>loss_test</td><td>▁▁▁▁</td></tr><tr><td>loss_train</td><td>▄▅█▁</td></tr></table><br/></div><div class=\"wandb-col\"><h3>Run summary:</h3><br/><table class=\"wandb\"><tr><td>Accuracy Airplane</td><td>0.03893</td></tr><tr><td>Accuracy Automobile</td><td>0.0</td></tr><tr><td>Accuracy Bird</td><td>0.26044</td></tr><tr><td>Accuracy Cat</td><td>0.02846</td></tr><tr><td>Accuracy Deer</td><td>0.28081</td></tr><tr><td>Accuracy Dog</td><td>0.24756</td></tr><tr><td>Accuracy Frog</td><td>0.08061</td></tr><tr><td>Accuracy Horse</td><td>0.0</td></tr><tr><td>Accuracy Ship</td><td>0.02419</td></tr><tr><td>Accuracy Truck</td><td>0.0</td></tr><tr><td>accuracy</td><td>0.0968</td></tr><tr><td>loss_test</td><td>2.37177</td></tr><tr><td>loss_train</td><td>2.32666</td></tr></table><br/></div></div>"
            ]
          },
          "metadata": {}
        },
        {
          "output_type": "display_data",
          "data": {
            "text/plain": [
              "<IPython.core.display.HTML object>"
            ],
            "text/html": [
              " View run <strong style=\"color:#cdcd00\">pretrained model</strong> at: <a href='https://wandb.ai/saurabhyd/pytorch-wandb-tutorial/runs/qs8tjx4p' target=\"_blank\">https://wandb.ai/saurabhyd/pytorch-wandb-tutorial/runs/qs8tjx4p</a><br/> View job at <a href='https://wandb.ai/saurabhyd/pytorch-wandb-tutorial/jobs/QXJ0aWZhY3RDb2xsZWN0aW9uOjEzMTgwNjYyMQ==/version_details/v8' target=\"_blank\">https://wandb.ai/saurabhyd/pytorch-wandb-tutorial/jobs/QXJ0aWZhY3RDb2xsZWN0aW9uOjEzMTgwNjYyMQ==/version_details/v8</a><br/>Synced 5 W&B file(s), 0 media file(s), 14 artifact file(s) and 1 other file(s)"
            ]
          },
          "metadata": {}
        },
        {
          "output_type": "display_data",
          "data": {
            "text/plain": [
              "<IPython.core.display.HTML object>"
            ],
            "text/html": [
              "Find logs at: <code>./wandb/run-20240124_141613-qs8tjx4p/logs</code>"
            ]
          },
          "metadata": {}
        }
      ]
    },
    {
      "cell_type": "code",
      "source": [],
      "metadata": {
        "id": "ZUCnx_8ZaC72"
      },
      "execution_count": null,
      "outputs": []
    }
  ]
}