{
  "cells": [
    {
      "cell_type": "markdown",
      "metadata": {
        "id": "ZxWD9yljtNHM"
      },
      "source": [
        "#**Basic Pytorch**"
      ]
    },
    {
      "cell_type": "markdown",
      "source": [
        "**Resources**: https://pytorch.org/tutorials/"
      ],
      "metadata": {
        "id": "ybVlKuTKtr1C"
      }
    },
    {
      "cell_type": "markdown",
      "metadata": {
        "id": "d4Y6GdO2GF-J"
      },
      "source": [
        "## **1. Tensor**"
      ]
    },
    {
      "cell_type": "markdown",
      "metadata": {
        "id": "9m-PqhLYlQfE"
      },
      "source": [
        "Tensor is a multi-dimensional matrix containing elements of a single data type. They are backed by the accelerator memory like GPU, unlike NumPy arrays."
      ]
    },
    {
      "cell_type": "markdown",
      "source": [
        "#### Import pytorch library"
      ],
      "metadata": {
        "id": "Z-kUVtkEVFHL"
      }
    },
    {
      "cell_type": "code",
      "execution_count": null,
      "metadata": {
        "id": "Xnasr_RzEuWs"
      },
      "outputs": [],
      "source": [
        "import torch"
      ]
    },
    {
      "cell_type": "markdown",
      "source": [
        "#### Creating Empty Tensor"
      ],
      "metadata": {
        "id": "qfNuHPLwVKcu"
      }
    },
    {
      "cell_type": "code",
      "execution_count": null,
      "metadata": {
        "id": "yjxEqJ8SFI9H",
        "colab": {
          "base_uri": "https://localhost:8080/"
        },
        "outputId": "3315ab1e-2982-452e-d31f-120b5c55c6c8"
      },
      "outputs": [
        {
          "output_type": "stream",
          "name": "stdout",
          "text": [
            "tensor([-1.0963e-07,  4.4505e-41, -1.0963e-07,  4.4505e-41])\n"
          ]
        }
      ],
      "source": [
        "x = torch.empty(4) # vector, 1D\n",
        "print(x)"
      ]
    },
    {
      "cell_type": "code",
      "execution_count": null,
      "metadata": {
        "id": "KbvjWp1PFKtp",
        "colab": {
          "base_uri": "https://localhost:8080/"
        },
        "outputId": "7b774174-687c-4964-a4d4-71f6f920dc89"
      },
      "outputs": [
        {
          "output_type": "stream",
          "name": "stdout",
          "text": [
            "tensor([[-1.0963e-07,  4.4505e-41,  5.6100e+00],\n",
            "        [ 3.1318e-41,  4.4842e-44,  0.0000e+00]])\n"
          ]
        }
      ],
      "source": [
        "x = torch.empty(2,3) # matrix, 2D\n",
        "print(x)"
      ]
    },
    {
      "cell_type": "code",
      "execution_count": null,
      "metadata": {
        "id": "dHNtACYLFKrO",
        "colab": {
          "base_uri": "https://localhost:8080/"
        },
        "outputId": "fc623473-2e72-4a41-a787-962e5b73033e"
      },
      "outputs": [
        {
          "output_type": "stream",
          "name": "stdout",
          "text": [
            "tensor([[[[-1.0963e-07,  4.4505e-41, -1.0963e-07],\n",
            "          [ 4.4505e-41,  4.4842e-44,  0.0000e+00]],\n",
            "\n",
            "         [[ 8.9683e-44,  0.0000e+00,  1.3760e-07],\n",
            "          [ 3.1311e-41,  6.2413e+00,  3.1318e-41]]],\n",
            "\n",
            "\n",
            "        [[[ 1.9618e-44,  1.4074e+14,  6.2414e+00],\n",
            "          [ 3.1318e-41,  1.5456e-42,  1.0063e+22]],\n",
            "\n",
            "         [[ 6.2413e+00,  3.1318e-41,  1.9618e-44],\n",
            "          [ 3.2041e-05,  9.1084e-44,  0.0000e+00]]]])\n"
          ]
        }
      ],
      "source": [
        "x = torch.empty(2,2,2,3) # tensor, 4 dimensions\n",
        "print(x)"
      ]
    },
    {
      "cell_type": "markdown",
      "source": [
        "#### Creating Tensor directly from data\n",
        "\n"
      ],
      "metadata": {
        "id": "rr7MymwiVXU-"
      }
    },
    {
      "cell_type": "code",
      "execution_count": null,
      "metadata": {
        "id": "lycJOPS1FKol",
        "colab": {
          "base_uri": "https://localhost:8080/"
        },
        "outputId": "fb1e9d82-a210-48d8-8721-8f1197dfaa56"
      },
      "outputs": [
        {
          "output_type": "stream",
          "name": "stdout",
          "text": [
            "tensor([[1, 2],\n",
            "        [3, 4]])\n"
          ]
        }
      ],
      "source": [
        "data = [[1, 2],[3, 4]]\n",
        "x = torch.tensor(data)\n",
        "print(x)"
      ]
    },
    {
      "cell_type": "markdown",
      "source": [
        "#### Creating Tensor initialized with Zeros and Ones"
      ],
      "metadata": {
        "id": "Ia6N55l-VdEO"
      }
    },
    {
      "cell_type": "code",
      "execution_count": null,
      "metadata": {
        "id": "SCNjethgFKmE",
        "colab": {
          "base_uri": "https://localhost:8080/"
        },
        "outputId": "2173fcf7-9dd1-4b33-8cf4-df96bc1786ee"
      },
      "outputs": [
        {
          "output_type": "stream",
          "name": "stdout",
          "text": [
            "tensor([[0.],\n",
            "        [0.]])\n",
            "tensor([[0.],\n",
            "        [0.]], dtype=torch.float16)\n",
            "tensor([[1., 1., 1.],\n",
            "        [1., 1., 1.],\n",
            "        [1., 1., 1.],\n",
            "        [1., 1., 1.],\n",
            "        [1., 1., 1.]])\n"
          ]
        }
      ],
      "source": [
        "x_0 = torch.zeros(2, 1) # fill with 0\n",
        "x_0_float = torch.zeros(2, 1, dtype=torch.float16)  # specify types, float32 default\n",
        "x_1 =torch.ones(5, 3)   # fill with 1\n",
        "\n",
        "print(x_0)\n",
        "print(x_0_float)\n",
        "print(x_1)"
      ]
    },
    {
      "cell_type": "markdown",
      "source": [
        "#### Determining shape and type of Tensor"
      ],
      "metadata": {
        "id": "EigK8TxUVhyC"
      }
    },
    {
      "cell_type": "code",
      "execution_count": null,
      "metadata": {
        "id": "0jH68ByDFKjn",
        "colab": {
          "base_uri": "https://localhost:8080/"
        },
        "outputId": "ba4c4e4f-6993-4278-8ad2-4d2d3a6d96a3"
      },
      "outputs": [
        {
          "output_type": "stream",
          "name": "stdout",
          "text": [
            "torch.Size([2, 2])\n",
            "torch.int64\n",
            "torch.float32\n",
            "torch.float16\n"
          ]
        }
      ],
      "source": [
        "# check size\n",
        "print(x.size())\n",
        "\n",
        "# check data type\n",
        "print(x.dtype)\n",
        "print(x_0.dtype)\n",
        "print(x_0_float.dtype)"
      ]
    },
    {
      "cell_type": "markdown",
      "source": [
        "#### requires_grad\n",
        "\n"
      ],
      "metadata": {
        "id": "CbCgJkWEVuce"
      }
    },
    {
      "cell_type": "code",
      "execution_count": null,
      "metadata": {
        "id": "mK5DY_3xFKg4",
        "colab": {
          "base_uri": "https://localhost:8080/"
        },
        "outputId": "7db29707-2e8d-4c4e-99fb-176fde24ad02"
      },
      "outputs": [
        {
          "output_type": "stream",
          "name": "stdout",
          "text": [
            "tensor([[5.5000, 3.0000],\n",
            "        [1.2000, 9.1000]], requires_grad=True)\n"
          ]
        }
      ],
      "source": [
        "# requires_grad argument\n",
        "# This will tell pytorch that it will need to calculate the gradients for this tensor\n",
        "# later in your optimization steps\n",
        "# i.e. this is a variable in your model that you want to optimize\n",
        "x = torch.tensor([[5.5, 3], [1.2, 9.1]], requires_grad=True)\n",
        "print(x)"
      ]
    },
    {
      "cell_type": "markdown",
      "source": [
        "###**Operations**"
      ],
      "metadata": {
        "id": "UGBHVL0Mt9IG"
      }
    },
    {
      "cell_type": "code",
      "execution_count": null,
      "metadata": {
        "id": "282BC6Q5FKed",
        "colab": {
          "base_uri": "https://localhost:8080/"
        },
        "outputId": "8f2f0e38-3df5-4a7b-d37b-2365ef0df17f"
      },
      "outputs": [
        {
          "output_type": "stream",
          "name": "stdout",
          "text": [
            "tensor([[0.1848, 0.0879],\n",
            "        [0.7372, 0.6731]])\n",
            "tensor([[0.3538, 0.2431],\n",
            "        [0.4788, 0.3140]])\n"
          ]
        }
      ],
      "source": [
        "# Operations\n",
        "y = torch.rand(2, 2)    # torch.rand(size): random numbers [0, 1]\n",
        "x = torch.rand(2, 2)\n",
        "\n",
        "print(x)\n",
        "print(y)"
      ]
    },
    {
      "cell_type": "markdown",
      "source": [
        "#### Elementwise Addition"
      ],
      "metadata": {
        "id": "PHE5JNw-WMp6"
      }
    },
    {
      "cell_type": "code",
      "execution_count": null,
      "metadata": {
        "id": "WSA97542SCh-",
        "colab": {
          "base_uri": "https://localhost:8080/"
        },
        "outputId": "526418ef-69b8-485f-e489-ffb50838c9d8"
      },
      "outputs": [
        {
          "output_type": "stream",
          "name": "stdout",
          "text": [
            "tensor([[0.5385, 0.3310],\n",
            "        [1.2161, 0.9871]])\n"
          ]
        }
      ],
      "source": [
        "# elementwise addition\n",
        "# z = x + y\n",
        "z = torch.add(x,y)\n",
        "print(z)"
      ]
    },
    {
      "cell_type": "markdown",
      "source": [
        "#### Elementwise Subtraction"
      ],
      "metadata": {
        "id": "vVHjDLx2Wbhz"
      }
    },
    {
      "cell_type": "code",
      "source": [
        "# substraction\n",
        "z = x - y\n",
        "# z = torch.sub(x, y)"
      ],
      "metadata": {
        "id": "aj7Xgb5UWd1T"
      },
      "execution_count": null,
      "outputs": []
    },
    {
      "cell_type": "markdown",
      "source": [
        "#### Elementwise Multiplication"
      ],
      "metadata": {
        "id": "mAXnwFuhWgTc"
      }
    },
    {
      "cell_type": "code",
      "source": [
        "# multiplication elementwise ; use @ for matrix mul\n",
        "z = x @ y\n",
        "print(z)\n",
        "# z = torch.mul(x,y)"
      ],
      "metadata": {
        "id": "vB3K9zwiWi7Z",
        "colab": {
          "base_uri": "https://localhost:8080/"
        },
        "outputId": "661a8120-d545-4c91-a532-a9fbc6d9a557"
      },
      "execution_count": null,
      "outputs": [
        {
          "output_type": "stream",
          "name": "stdout",
          "text": [
            "tensor([[0.1075, 0.0725],\n",
            "        [0.5831, 0.3906]])\n"
          ]
        }
      ]
    },
    {
      "cell_type": "markdown",
      "source": [
        "#### Elementwise Division"
      ],
      "metadata": {
        "id": "5oVRQUDbWllz"
      }
    },
    {
      "cell_type": "code",
      "source": [
        "# Division\n",
        "z = x / y\n",
        "# z = torch.div(x,y)\n",
        "print(z)"
      ],
      "metadata": {
        "id": "xzNMOnXbWntT",
        "colab": {
          "base_uri": "https://localhost:8080/"
        },
        "outputId": "63afbed5-5471-4070-9263-41384ac17479"
      },
      "execution_count": null,
      "outputs": [
        {
          "output_type": "stream",
          "name": "stdout",
          "text": [
            "tensor([[0.5222, 0.3617],\n",
            "        [1.5396, 2.1435]])\n"
          ]
        }
      ]
    },
    {
      "cell_type": "markdown",
      "source": [
        "#### Inplace operation"
      ],
      "metadata": {
        "id": "Vnzi8GrfWq0h"
      }
    },
    {
      "cell_type": "code",
      "execution_count": null,
      "metadata": {
        "id": "W-cY9VTGSOnN",
        "colab": {
          "base_uri": "https://localhost:8080/"
        },
        "outputId": "471ca6b8-a48a-4b3c-f9db-9fbd261af677"
      },
      "outputs": [
        {
          "output_type": "stream",
          "name": "stdout",
          "text": [
            "tensor([[0.5385, 0.3310],\n",
            "        [1.2161, 0.9871]])\n"
          ]
        }
      ],
      "source": [
        "# in place addition, everythin with a trailing underscore is an inplace operation (make changes directly without making a copy)\n",
        "# i.e. it will modify the variable\n",
        "y.add_(x)\n",
        "print(y)\n",
        "# other operations\n"
      ]
    },
    {
      "cell_type": "markdown",
      "source": [
        "#### Slicing Tensors"
      ],
      "metadata": {
        "id": "QNsVVbhCWxUz"
      }
    },
    {
      "cell_type": "code",
      "execution_count": null,
      "metadata": {
        "id": "E97b9yVxFKbi",
        "colab": {
          "base_uri": "https://localhost:8080/"
        },
        "outputId": "59fc49b6-571c-4979-ef28-bc0a43827695"
      },
      "outputs": [
        {
          "output_type": "stream",
          "name": "stdout",
          "text": [
            "tensor([[0.1482, 0.9413, 0.2012],\n",
            "        [0.8249, 0.8269, 0.2712],\n",
            "        [0.9245, 0.0989, 0.5343],\n",
            "        [0.3550, 0.6953, 0.0056],\n",
            "        [0.7299, 0.9187, 0.6035]])\n"
          ]
        }
      ],
      "source": [
        "# Slicing (same as numpy arrays)\n",
        "x = torch.rand(5, 3)\n",
        "print(x)"
      ]
    },
    {
      "cell_type": "code",
      "execution_count": null,
      "metadata": {
        "id": "aAeZvtNIR8f5",
        "colab": {
          "base_uri": "https://localhost:8080/"
        },
        "outputId": "3b580ed1-db81-4203-c481-44c88b2de50a"
      },
      "outputs": [
        {
          "output_type": "stream",
          "name": "stdout",
          "text": [
            "tensor([0.2012, 0.2712, 0.5343, 0.0056, 0.6035])\n"
          ]
        }
      ],
      "source": [
        "print(x[ : , 2]) # all rows, column 0"
      ]
    },
    {
      "cell_type": "code",
      "execution_count": null,
      "metadata": {
        "id": "bxF6cqXXSJFa",
        "colab": {
          "base_uri": "https://localhost:8080/"
        },
        "outputId": "f7476ab3-b59f-424f-d70a-899bd150d64e"
      },
      "outputs": [
        {
          "output_type": "stream",
          "name": "stdout",
          "text": [
            "tensor(0.8269)\n",
            "0.8249004483222961\n"
          ]
        }
      ],
      "source": [
        "print(x[1,1]) # element at 1, 1\n",
        "\n",
        "# # Get the actual value if only 1 element in your tensor\n",
        "print(x[1,0].item())"
      ]
    },
    {
      "cell_type": "markdown",
      "source": [
        "###**Tensor <--> Numpy**"
      ],
      "metadata": {
        "id": "bsxpzEMzuIRE"
      }
    },
    {
      "cell_type": "code",
      "execution_count": null,
      "metadata": {
        "id": "ADIGdUuVSgfQ",
        "colab": {
          "base_uri": "https://localhost:8080/"
        },
        "outputId": "0e5777af-a74f-4e9d-e8bf-f4ed622bd6d9"
      },
      "outputs": [
        {
          "output_type": "stream",
          "name": "stdout",
          "text": [
            "tensor([1., 1., 1., 1., 1.])\n",
            "[1. 1. 1. 1. 1.]\n",
            "b:  <class 'numpy.ndarray'> a:  <class 'torch.Tensor'>\n",
            "c:  <class 'torch.Tensor'>\n"
          ]
        }
      ],
      "source": [
        "# Numpy\n",
        "# Converting a Torch Tensor to a NumPy array and vice versa is very easy\n",
        "a = torch.ones(5)\n",
        "print(a)\n",
        "\n",
        "# torch to numpy with .numpy()\n",
        "b = a.numpy()\n",
        "print(b)\n",
        "print(\"b: \", type(b) , \"a: \", type(a))\n",
        "\n",
        "c= torch.from_numpy(b)\n",
        "print(\"c: \", type(c))"
      ]
    },
    {
      "cell_type": "code",
      "execution_count": null,
      "metadata": {
        "id": "8c_MuQK4FKZE",
        "colab": {
          "base_uri": "https://localhost:8080/"
        },
        "outputId": "09ccea37-052c-4926-dbee-f8c8b91092de"
      },
      "outputs": [
        {
          "output_type": "stream",
          "name": "stdout",
          "text": [
            "tensor([1., 1., 1., 1., 1.])\n",
            "[1. 1. 1. 1. 1.]\n",
            "-\n",
            "tensor([2., 2., 2., 2., 2.])\n",
            "[2. 2. 2. 2. 2.]\n"
          ]
        }
      ],
      "source": [
        "print(a)\n",
        "print(b)\n",
        "print(\"-\")\n",
        "a.add_(1)\n",
        "print(a)\n",
        "print(b)"
      ]
    },
    {
      "cell_type": "markdown",
      "source": [
        "#### To check if CUDA is currently available."
      ],
      "metadata": {
        "id": "yTncFoSfW265"
      }
    },
    {
      "cell_type": "code",
      "execution_count": null,
      "metadata": {
        "id": "08E0fyJaz25B",
        "colab": {
          "base_uri": "https://localhost:8080/"
        },
        "outputId": "07397bdb-5d75-4160-f258-a0629f6afd66"
      },
      "outputs": [
        {
          "output_type": "execute_result",
          "data": {
            "text/plain": [
              "True"
            ]
          },
          "metadata": {},
          "execution_count": 20
        }
      ],
      "source": [
        "torch.cuda.is_available()"
      ]
    },
    {
      "cell_type": "code",
      "execution_count": null,
      "metadata": {
        "id": "lV16hSy-FKRR"
      },
      "outputs": [],
      "source": [
        "# by default all tensors are created on the CPU,\n",
        "# but you can also move them to the GPU (only if it's available )\n",
        "if torch.cuda.is_available():\n",
        "    device = torch.device(\"cuda\")          # a CUDA device object\n",
        "    y = torch.ones_like(x, device=device)  # directly create a tensor on GPU\n",
        "    x = x.to(device)                       # or just use strings ``.to(\"cuda\")``\n",
        "    z = x + y\n",
        "    # z = z.numpy() # not possible because numpy cannot handle GPU tenors\n",
        "    # move to CPU again\n",
        "    # z.to(\"cpu\")       # ``.to`` can also change dtype together!\n",
        "    # z = z.numpy()"
      ]
    },
    {
      "cell_type": "code",
      "source": [
        "z"
      ],
      "metadata": {
        "colab": {
          "base_uri": "https://localhost:8080/"
        },
        "id": "SYuIehzucbEo",
        "outputId": "58fde975-91c8-4230-e723-53d48345aba4"
      },
      "execution_count": null,
      "outputs": [
        {
          "output_type": "execute_result",
          "data": {
            "text/plain": [
              "tensor([[1.1482, 1.9413, 1.2012],\n",
              "        [1.8249, 1.8269, 1.2712],\n",
              "        [1.9245, 1.0989, 1.5343],\n",
              "        [1.3550, 1.6953, 1.0056],\n",
              "        [1.7299, 1.9187, 1.6035]], device='cuda:0')"
            ]
          },
          "metadata": {},
          "execution_count": 22
        }
      ]
    },
    {
      "cell_type": "code",
      "execution_count": null,
      "metadata": {
        "id": "Vd9gDe8ytUGk",
        "colab": {
          "base_uri": "https://localhost:8080/"
        },
        "outputId": "f261aae8-a526-454e-86aa-2316059bb163"
      },
      "outputs": [
        {
          "output_type": "stream",
          "name": "stdout",
          "text": [
            "[[1.1481677 1.9412621 1.2012143]\n",
            " [1.8249004 1.8269005 1.2711599]\n",
            " [1.924509  1.0989223 1.5342618]\n",
            " [1.3550403 1.6953081 1.0055891]\n",
            " [1.7298503 1.9187369 1.6034758]]\n"
          ]
        }
      ],
      "source": [
        "# z.to('cpu')\n",
        "z = z.cpu().numpy()\n",
        "print(z)"
      ]
    },
    {
      "cell_type": "markdown",
      "metadata": {
        "id": "vGUNUC3IWHQH"
      },
      "source": [
        "## **2. Backpropogation via Autograd**"
      ]
    },
    {
      "cell_type": "markdown",
      "source": [
        "[Tensors, Functions and Computational graph](https://pytorch.org/tutorials/beginner/basics/autogradqs_tutorial.html#tensors-functions-and-computational-graph)"
      ],
      "metadata": {
        "id": "GVm6wMe-nF5L"
      }
    },
    {
      "cell_type": "code",
      "execution_count": null,
      "metadata": {
        "id": "I-SKER6jFKOp"
      },
      "outputs": [],
      "source": [
        "# Autograd does automatic differentiation on \"tensors\"\n",
        "# requires_grad = True -> tracks all operations on the tensor.\n",
        "x = torch.randn(3, requires_grad=True)\n",
        "y = x + 2"
      ]
    },
    {
      "cell_type": "markdown",
      "metadata": {
        "id": "_yNi-x2TW_d3"
      },
      "source": [
        "![image.png](data:image/png;base64,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)"
      ]
    },
    {
      "cell_type": "code",
      "execution_count": null,
      "metadata": {
        "id": "DZve1befFKML",
        "colab": {
          "base_uri": "https://localhost:8080/"
        },
        "outputId": "95878d24-0f6b-414c-cb15-d7bdcb9c868b"
      },
      "outputs": [
        {
          "output_type": "stream",
          "name": "stdout",
          "text": [
            "tensor([-0.0946,  1.1633, -0.4682], requires_grad=True)\n",
            "tensor([1.9054, 3.1633, 1.5318], grad_fn=<AddBackward0>)\n"
          ]
        }
      ],
      "source": [
        "# y was created as a result of an operation, so it has a grad_fn attribute.\n",
        "print(x) # created by the user -> grad_fn is None\n",
        "print(y)"
      ]
    },
    {
      "cell_type": "code",
      "execution_count": null,
      "metadata": {
        "colab": {
          "base_uri": "https://localhost:8080/"
        },
        "id": "hxhbw1nOURSD",
        "outputId": "0b0fa8e7-e807-419e-d696-1ef48525ae4b"
      },
      "outputs": [
        {
          "output_type": "stream",
          "name": "stdout",
          "text": [
            "<MulBackward0 object at 0x7c109a10cee0>\n",
            "tensor([-0.1892,  2.3265, -0.9363], grad_fn=<MulBackward0>)\n"
          ]
        }
      ],
      "source": [
        "# squaring opertaion\n",
        "y=x*2\n",
        "print(y.grad_fn) # y=x+2\n",
        "print(y)"
      ]
    },
    {
      "cell_type": "code",
      "execution_count": null,
      "metadata": {
        "colab": {
          "base_uri": "https://localhost:8080/"
        },
        "id": "ABxoQ2VFFKJr",
        "outputId": "7448eb82-3919-4189-dff4-fa82e646c73a"
      },
      "outputs": [
        {
          "output_type": "stream",
          "name": "stdout",
          "text": [
            "tensor([ 0.1074, 16.2383,  2.6302], grad_fn=<MulBackward0>)\n",
            "tensor(6.3253, grad_fn=<MeanBackward0>)\n"
          ]
        }
      ],
      "source": [
        "# Do more operations on y\n",
        "z = y * y * 3\n",
        "print(z)\n",
        "z = z.mean()\n",
        "print(z)"
      ]
    },
    {
      "cell_type": "code",
      "execution_count": null,
      "metadata": {
        "id": "9rtrj8I-FKG-"
      },
      "outputs": [],
      "source": [
        "# Let's compute the gradients with backpropagation\n",
        "# When we finish our computation we can call .backward() and have all the gradients computed automatically.\n",
        "# The gradient for this tensor will be accumulated into .grad attribute.\n",
        "# It is the partial derivate of the function w.r.t. the tensor\n",
        "\n",
        "# z.backward() #compute gradients with respect to all var\n",
        "# print(x.grad) # dz/dx"
      ]
    },
    {
      "cell_type": "code",
      "source": [
        "print(x.grad)"
      ],
      "metadata": {
        "colab": {
          "base_uri": "https://localhost:8080/"
        },
        "id": "4iJ8Yi9COaz_",
        "outputId": "499144b1-0bc3-44b7-df6c-b983b70d755d"
      },
      "execution_count": null,
      "outputs": [
        {
          "output_type": "stream",
          "name": "stdout",
          "text": [
            "None\n"
          ]
        }
      ]
    },
    {
      "cell_type": "code",
      "source": [
        "# y.backward()"
      ],
      "metadata": {
        "id": "CylmLyztAcgI"
      },
      "execution_count": null,
      "outputs": []
    },
    {
      "cell_type": "code",
      "execution_count": null,
      "metadata": {
        "tags": [],
        "id": "6Bm6UHTGTeet",
        "colab": {
          "base_uri": "https://localhost:8080/"
        },
        "outputId": "30484e97-b35f-4ad4-dfaf-527caead0d07"
      },
      "outputs": [
        {
          "output_type": "stream",
          "name": "stdout",
          "text": [
            "tensor([2.0000e-01, 2.0000e+00, 2.0000e-04])\n"
          ]
        }
      ],
      "source": [
        "v = torch.tensor([0.1, 1.0, 0.0001], dtype=torch.float32)\n",
        "y.backward(v, retain_graph=True) # gradient of vector is not allowed, so we convert it into scaler : 0.1*x1+1*x2+0.0001*x3\n",
        "print(x.grad)"
      ]
    },
    {
      "cell_type": "code",
      "execution_count": null,
      "metadata": {
        "colab": {
          "base_uri": "https://localhost:8080/"
        },
        "id": "-kZgbK6GFJ_n",
        "outputId": "3ce9292b-a1f9-4cb3-bd8f-e9116e67ffc9"
      },
      "outputs": [
        {
          "output_type": "stream",
          "name": "stdout",
          "text": [
            "False\n",
            "None\n",
            "True\n",
            "True\n",
            "<SumBackward0 object at 0x7c109a10cdc0>\n"
          ]
        }
      ],
      "source": [
        "# -------------\n",
        "# Stop a tensor from tracking history:\n",
        "# For example during our training loop when we want to update our weights\n",
        "# then this update operation should not be part of the gradient computation\n",
        "# - x.requires_grad_(False)\n",
        "# - x.detach()\n",
        "# - wrap in 'with torch.no_grad():'\n",
        "\n",
        "# .requires_grad_(...) changes an existing flag in-place.\n",
        "a = torch.randn(2, 2)\n",
        "print(a.requires_grad)  #False\n",
        "b = ((a * 3) / (a - 1))\n",
        "print(b.grad_fn)  #None\n",
        "\n",
        "\n",
        "a.requires_grad_(True)\n",
        "print(a.requires_grad)  #True\n",
        "b = (a * a).sum()\n",
        "print(b.requires_grad)  #True\n",
        "print(b.grad_fn)"
      ]
    },
    {
      "cell_type": "code",
      "execution_count": null,
      "metadata": {
        "colab": {
          "base_uri": "https://localhost:8080/"
        },
        "id": "FVgXQUYBFJ9B",
        "outputId": "b925cf98-c64e-4aeb-b3e9-df8f33fae290"
      },
      "outputs": [
        {
          "output_type": "stream",
          "name": "stdout",
          "text": [
            "True\n",
            "False\n"
          ]
        }
      ],
      "source": [
        "# .detach(): get a new Tensor with the same content but no gradient computation:\n",
        "a = torch.randn(2, 2, requires_grad=True)\n",
        "print(a.requires_grad)  #True\n",
        "b = a.detach()\n",
        "print(b.requires_grad)  #False"
      ]
    },
    {
      "cell_type": "code",
      "execution_count": null,
      "metadata": {
        "colab": {
          "base_uri": "https://localhost:8080/"
        },
        "id": "KietthVXFJ6d",
        "outputId": "13fe7cad-f35b-447d-839f-3b2966095540"
      },
      "outputs": [
        {
          "output_type": "stream",
          "name": "stdout",
          "text": [
            "True\n",
            "False\n"
          ]
        }
      ],
      "source": [
        "# wrap in 'with torch.no_grad():'\n",
        "a = torch.randn(2, 2, requires_grad=True)\n",
        "print(a.requires_grad)  #True\n",
        "with torch.no_grad():\n",
        "    print((a ** 2).requires_grad) #False\n"
      ]
    },
    {
      "cell_type": "code",
      "execution_count": null,
      "metadata": {
        "colab": {
          "base_uri": "https://localhost:8080/"
        },
        "id": "FTAEIhLHWf9g",
        "outputId": "5fa4e163-3c16-45a2-d927-0334bbe3291d"
      },
      "outputs": [
        {
          "output_type": "stream",
          "name": "stdout",
          "text": [
            "tensor(12., grad_fn=<SumBackward0>)\n",
            "tensor([3., 3., 3., 3.])\n",
            "tensor([0., 0., 0., 0.])\n",
            "tensor([0.7000, 0.7000, 0.7000, 0.7000], requires_grad=True)\n",
            "tensor(12., grad_fn=<SumBackward0>)\n"
          ]
        }
      ],
      "source": [
        "# -------------\n",
        "# backward() accumulates the gradient for this tensor into .grad attribute.\n",
        "# !!! We need to be careful during optimization !!!\n",
        "# Use .zero_() to empty the gradients before a new optimization step!\n",
        "weights = torch.ones(4, requires_grad=True)\n",
        "\n",
        "for epoch in range(1):\n",
        "    model_output = (weights*3).sum()\n",
        "    print(model_output)\n",
        "    model_output.backward() #computes gradient of model_output wrt var(weights)\n",
        "    print(weights.grad)\n",
        "\n",
        "    # optimize model, i.e. adjust weights...\n",
        "    with torch.no_grad():\n",
        "        weights -= 0.1 * weights.grad\n",
        "\n",
        "    # this is important! It affects the final weights & output\n",
        "    weights.grad.zero_()  # ensures that the gradients don't accumulate across multiple iterations.\n",
        "    print(weights.grad)\n",
        "\n",
        "print(weights)\n",
        "print(model_output)"
      ]
    },
    {
      "cell_type": "markdown",
      "metadata": {
        "id": "BDwFUpINb7Bt"
      },
      "source": [
        "##**4.Integrating [Weights & Biases](https://wandb.ai/site)**"
      ]
    },
    {
      "cell_type": "code",
      "execution_count": null,
      "metadata": {
        "colab": {
          "base_uri": "https://localhost:8080/"
        },
        "id": "SPhiNSB3yOXn",
        "outputId": "55a652ce-9e69-4885-af49-c0bfacd3a5d1"
      },
      "outputs": [
        {
          "output_type": "stream",
          "name": "stdout",
          "text": [
            "Collecting wandb\n",
            "  Downloading wandb-0.16.2-py3-none-any.whl (2.2 MB)\n",
            "\u001b[2K     \u001b[90m━━━━━━━━━━━━━━━━━━━━━━━━━━━━━━━━━━━━━━━━\u001b[0m \u001b[32m2.2/2.2 MB\u001b[0m \u001b[31m11.0 MB/s\u001b[0m eta \u001b[36m0:00:00\u001b[0m\n",
            "\u001b[?25hRequirement already satisfied: Click!=8.0.0,>=7.1 in /usr/local/lib/python3.10/dist-packages (from wandb) (8.1.7)\n",
            "Collecting GitPython!=3.1.29,>=1.0.0 (from wandb)\n",
            "  Downloading GitPython-3.1.41-py3-none-any.whl (196 kB)\n",
            "\u001b[2K     \u001b[90m━━━━━━━━━━━━━━━━━━━━━━━━━━━━━━━━━━━━━━━━\u001b[0m \u001b[32m196.4/196.4 kB\u001b[0m \u001b[31m12.9 MB/s\u001b[0m eta \u001b[36m0:00:00\u001b[0m\n",
            "\u001b[?25hRequirement already satisfied: requests<3,>=2.0.0 in /usr/local/lib/python3.10/dist-packages (from wandb) (2.31.0)\n",
            "Requirement already satisfied: psutil>=5.0.0 in /usr/local/lib/python3.10/dist-packages (from wandb) (5.9.5)\n",
            "Collecting sentry-sdk>=1.0.0 (from wandb)\n",
            "  Downloading sentry_sdk-1.39.2-py2.py3-none-any.whl (254 kB)\n",
            "\u001b[2K     \u001b[90m━━━━━━━━━━━━━━━━━━━━━━━━━━━━━━━━━━━━━━━━\u001b[0m \u001b[32m254.1/254.1 kB\u001b[0m \u001b[31m15.1 MB/s\u001b[0m eta \u001b[36m0:00:00\u001b[0m\n",
            "\u001b[?25hCollecting docker-pycreds>=0.4.0 (from wandb)\n",
            "  Downloading docker_pycreds-0.4.0-py2.py3-none-any.whl (9.0 kB)\n",
            "Requirement already satisfied: PyYAML in /usr/local/lib/python3.10/dist-packages (from wandb) (6.0.1)\n",
            "Collecting setproctitle (from wandb)\n",
            "  Downloading setproctitle-1.3.3-cp310-cp310-manylinux_2_5_x86_64.manylinux1_x86_64.manylinux_2_17_x86_64.manylinux2014_x86_64.whl (30 kB)\n",
            "Requirement already satisfied: setuptools in /usr/local/lib/python3.10/dist-packages (from wandb) (67.7.2)\n",
            "Requirement already satisfied: appdirs>=1.4.3 in /usr/local/lib/python3.10/dist-packages (from wandb) (1.4.4)\n",
            "Requirement already satisfied: protobuf!=4.21.0,<5,>=3.19.0 in /usr/local/lib/python3.10/dist-packages (from wandb) (3.20.3)\n",
            "Requirement already satisfied: six>=1.4.0 in /usr/local/lib/python3.10/dist-packages (from docker-pycreds>=0.4.0->wandb) (1.16.0)\n",
            "Collecting gitdb<5,>=4.0.1 (from GitPython!=3.1.29,>=1.0.0->wandb)\n",
            "  Downloading gitdb-4.0.11-py3-none-any.whl (62 kB)\n",
            "\u001b[2K     \u001b[90m━━━━━━━━━━━━━━━━━━━━━━━━━━━━━━━━━━━━━━━━\u001b[0m \u001b[32m62.7/62.7 kB\u001b[0m \u001b[31m7.0 MB/s\u001b[0m eta \u001b[36m0:00:00\u001b[0m\n",
            "\u001b[?25hRequirement already satisfied: charset-normalizer<4,>=2 in /usr/local/lib/python3.10/dist-packages (from requests<3,>=2.0.0->wandb) (3.3.2)\n",
            "Requirement already satisfied: idna<4,>=2.5 in /usr/local/lib/python3.10/dist-packages (from requests<3,>=2.0.0->wandb) (3.6)\n",
            "Requirement already satisfied: urllib3<3,>=1.21.1 in /usr/local/lib/python3.10/dist-packages (from requests<3,>=2.0.0->wandb) (2.0.7)\n",
            "Requirement already satisfied: certifi>=2017.4.17 in /usr/local/lib/python3.10/dist-packages (from requests<3,>=2.0.0->wandb) (2023.11.17)\n",
            "Collecting smmap<6,>=3.0.1 (from gitdb<5,>=4.0.1->GitPython!=3.1.29,>=1.0.0->wandb)\n",
            "  Downloading smmap-5.0.1-py3-none-any.whl (24 kB)\n",
            "Installing collected packages: smmap, setproctitle, sentry-sdk, docker-pycreds, gitdb, GitPython, wandb\n",
            "Successfully installed GitPython-3.1.41 docker-pycreds-0.4.0 gitdb-4.0.11 sentry-sdk-1.39.2 setproctitle-1.3.3 smmap-5.0.1 wandb-0.16.2\n"
          ]
        }
      ],
      "source": [
        "!pip install wandb"
      ]
    },
    {
      "cell_type": "code",
      "execution_count": null,
      "metadata": {
        "id": "8aJ5O3gJb-mU"
      },
      "outputs": [],
      "source": [
        "#Steps for basic configurations:\n",
        "#1. wandb login\n",
        "#2. import wandb\n",
        "#   wandb.init(project=\"my-awesome-project\")\n",
        "#3. wandb.log({'accuracy': train_acc, 'loss': train_loss})"
      ]
    },
    {
      "cell_type": "code",
      "source": [
        "import wandb"
      ],
      "metadata": {
        "id": "fWM7ap7BClod"
      },
      "execution_count": null,
      "outputs": []
    },
    {
      "cell_type": "markdown",
      "source": [
        "##**5. DL Model Training with weights & Biases**"
      ],
      "metadata": {
        "id": "fBZf2QcC1t6e"
      }
    },
    {
      "cell_type": "code",
      "source": [
        "wandb.login()"
      ],
      "metadata": {
        "colab": {
          "base_uri": "https://localhost:8080/",
          "height": 121
        },
        "id": "UdnQ77t_JQ52",
        "outputId": "dea295ca-0cab-4f99-b24c-fe41412af1a9"
      },
      "execution_count": null,
      "outputs": [
        {
          "output_type": "display_data",
          "data": {
            "text/plain": [
              "<IPython.core.display.Javascript object>"
            ],
            "application/javascript": [
              "\n",
              "        window._wandbApiKey = new Promise((resolve, reject) => {\n",
              "            function loadScript(url) {\n",
              "            return new Promise(function(resolve, reject) {\n",
              "                let newScript = document.createElement(\"script\");\n",
              "                newScript.onerror = reject;\n",
              "                newScript.onload = resolve;\n",
              "                document.body.appendChild(newScript);\n",
              "                newScript.src = url;\n",
              "            });\n",
              "            }\n",
              "            loadScript(\"https://cdn.jsdelivr.net/npm/postmate/build/postmate.min.js\").then(() => {\n",
              "            const iframe = document.createElement('iframe')\n",
              "            iframe.style.cssText = \"width:0;height:0;border:none\"\n",
              "            document.body.appendChild(iframe)\n",
              "            const handshake = new Postmate({\n",
              "                container: iframe,\n",
              "                url: 'https://wandb.ai/authorize'\n",
              "            });\n",
              "            const timeout = setTimeout(() => reject(\"Couldn't auto authenticate\"), 5000)\n",
              "            handshake.then(function(child) {\n",
              "                child.on('authorize', data => {\n",
              "                    clearTimeout(timeout)\n",
              "                    resolve(data)\n",
              "                });\n",
              "            });\n",
              "            })\n",
              "        });\n",
              "    "
            ]
          },
          "metadata": {}
        },
        {
          "output_type": "stream",
          "name": "stderr",
          "text": [
            "\u001b[34m\u001b[1mwandb\u001b[0m: Logging into wandb.ai. (Learn how to deploy a W&B server locally: https://wandb.me/wandb-server)\n",
            "\u001b[34m\u001b[1mwandb\u001b[0m: You can find your API key in your browser here: https://wandb.ai/authorize\n",
            "wandb: Paste an API key from your profile and hit enter, or press ctrl+c to quit:"
          ]
        },
        {
          "name": "stdout",
          "output_type": "stream",
          "text": [
            " ··········\n"
          ]
        },
        {
          "output_type": "stream",
          "name": "stderr",
          "text": [
            "\u001b[34m\u001b[1mwandb\u001b[0m: Appending key for api.wandb.ai to your netrc file: /root/.netrc\n"
          ]
        },
        {
          "output_type": "execute_result",
          "data": {
            "text/plain": [
              "True"
            ]
          },
          "metadata": {},
          "execution_count": 39
        }
      ]
    },
    {
      "cell_type": "code",
      "execution_count": null,
      "metadata": {
        "id": "a9xNStPsTeev",
        "colab": {
          "base_uri": "https://localhost:8080/",
          "height": 141
        },
        "outputId": "b8fb691e-38f1-46e8-a9e6-691e6bd53491"
      },
      "outputs": [
        {
          "output_type": "stream",
          "name": "stderr",
          "text": [
            "\u001b[34m\u001b[1mwandb\u001b[0m: Currently logged in as: \u001b[33msaurabhyd\u001b[0m. Use \u001b[1m`wandb login --relogin`\u001b[0m to force relogin\n"
          ]
        },
        {
          "output_type": "display_data",
          "data": {
            "text/plain": [
              "<IPython.core.display.HTML object>"
            ],
            "text/html": [
              "Tracking run with wandb version 0.16.2"
            ]
          },
          "metadata": {}
        },
        {
          "output_type": "display_data",
          "data": {
            "text/plain": [
              "<IPython.core.display.HTML object>"
            ],
            "text/html": [
              "Run data is saved locally in <code>/content/wandb/run-20240124_115001-0pcyst8w</code>"
            ]
          },
          "metadata": {}
        },
        {
          "output_type": "display_data",
          "data": {
            "text/plain": [
              "<IPython.core.display.HTML object>"
            ],
            "text/html": [
              "Syncing run <strong><a href='https://wandb.ai/saurabhyd/pytorch-wandb-tutorial/runs/0pcyst8w' target=\"_blank\">fashion-mnist</a></strong> to <a href='https://wandb.ai/saurabhyd/pytorch-wandb-tutorial' target=\"_blank\">Weights & Biases</a> (<a href='https://wandb.me/run' target=\"_blank\">docs</a>)<br/>"
            ]
          },
          "metadata": {}
        },
        {
          "output_type": "display_data",
          "data": {
            "text/plain": [
              "<IPython.core.display.HTML object>"
            ],
            "text/html": [
              " View project at <a href='https://wandb.ai/saurabhyd/pytorch-wandb-tutorial' target=\"_blank\">https://wandb.ai/saurabhyd/pytorch-wandb-tutorial</a>"
            ]
          },
          "metadata": {}
        },
        {
          "output_type": "display_data",
          "data": {
            "text/plain": [
              "<IPython.core.display.HTML object>"
            ],
            "text/html": [
              " View run at <a href='https://wandb.ai/saurabhyd/pytorch-wandb-tutorial/runs/0pcyst8w' target=\"_blank\">https://wandb.ai/saurabhyd/pytorch-wandb-tutorial/runs/0pcyst8w</a>"
            ]
          },
          "metadata": {}
        },
        {
          "output_type": "execute_result",
          "data": {
            "text/html": [
              "<button onClick=\"this.nextSibling.style.display='block';this.style.display='none';\">Display W&B run</button><iframe src='https://wandb.ai/saurabhyd/pytorch-wandb-tutorial/runs/0pcyst8w?jupyter=true' style='border:none;width:100%;height:420px;display:none;'></iframe>"
            ],
            "text/plain": [
              "<wandb.sdk.wandb_run.Run at 0x7c0f9650e4d0>"
            ]
          },
          "metadata": {},
          "execution_count": 40
        }
      ],
      "source": [
        "import torch\n",
        "import torch.nn as nn\n",
        "import torchvision.transforms as transforms\n",
        "import torchvision.datasets as dsets\n",
        "from torch.autograd import Variable\n",
        "import torch.nn.functional as F\n",
        "import wandb\n",
        "\n",
        "hyperparameter_defaults = dict(\n",
        "    dropout = 0.5,\n",
        "    channels_one = 16,\n",
        "    channels_two = 32,\n",
        "    batch_size = 100,\n",
        "    learning_rate = 0.001,\n",
        "    epochs = 2,\n",
        "    )\n",
        "\n",
        "# tell wandb to get started\n",
        "wandb.init(config=hyperparameter_defaults, project=\"pytorch-wandb-tutorial\", name = \"fashion-mnist\")"
      ]
    },
    {
      "cell_type": "markdown",
      "source": [
        "###**Model Definition**"
      ],
      "metadata": {
        "id": "VOLpd_Gm2FjC"
      }
    },
    {
      "cell_type": "code",
      "execution_count": null,
      "metadata": {
        "id": "FkDj6U5lb22v"
      },
      "outputs": [],
      "source": [
        "\n",
        "# access all HPs through wandb.config\n",
        "config = wandb.config\n",
        "\n",
        "#create model class\n",
        "class CNNModel(nn.Module):\n",
        "    def __init__(self):\n",
        "        super(CNNModel, self).__init__()\n",
        "\n",
        "        # Convolution 1\n",
        "        self.cnn1 = nn.Conv2d(in_channels=1, out_channels=config.channels_one, kernel_size=5, stride=1, padding=0)\n",
        "        self.relu1 = nn.ReLU()\n",
        "        # Max pool 1\n",
        "        self.maxpool1 = nn.MaxPool2d(kernel_size=2)\n",
        "\n",
        "        # Convolution 2\n",
        "        self.cnn2 = nn.Conv2d(in_channels=config.channels_one, out_channels=config.channels_two, kernel_size=5, stride=1, padding=0)\n",
        "        self.relu2 = nn.ReLU()\n",
        "\n",
        "        # Max pool 2\n",
        "        self.maxpool2 = nn.MaxPool2d(kernel_size=2)\n",
        "\n",
        "        self.dropout = nn.Dropout(p=config.dropout)\n",
        "\n",
        "        # Fully connected 1 (readout)\n",
        "        self.fc1 = nn.Linear(config.channels_two*4*4, 10)\n",
        "\n",
        "    def forward(self, x):\n",
        "        # Convolution 1\n",
        "        out = self.cnn1(x)\n",
        "        out = self.relu1(out)\n",
        "\n",
        "        # Max pool 1\n",
        "        out = self.maxpool1(out)\n",
        "\n",
        "        # Convolution 2\n",
        "        out = self.cnn2(out)\n",
        "        out = self.relu2(out)\n",
        "\n",
        "        # Max pool 2\n",
        "        out = self.maxpool2(out)\n",
        "\n",
        "        # Resize\n",
        "        # Original size: (100, 32, 7, 7)\n",
        "        # out.size(0): 100\n",
        "        # New out size: (100, 32*7*7)\n",
        "        out = out.view(out.size(0), -1)\n",
        "        out = self.dropout(out)\n",
        "        # Linear function (readout)\n",
        "        out = self.fc1(out)\n",
        "\n",
        "        return out\n"
      ]
    },
    {
      "cell_type": "markdown",
      "metadata": {
        "id": "EnNcwdYMehng"
      },
      "source": [
        "###**Dataloader**\n",
        "It represents a Python iterable over a dataset."
      ]
    },
    {
      "cell_type": "code",
      "execution_count": null,
      "metadata": {
        "id": "YRwpmmcqrdmz",
        "colab": {
          "base_uri": "https://localhost:8080/"
        },
        "outputId": "25815ac2-05ed-43e3-9245-b755d1702543"
      },
      "outputs": [
        {
          "output_type": "stream",
          "name": "stdout",
          "text": [
            "Downloading http://fashion-mnist.s3-website.eu-central-1.amazonaws.com/train-images-idx3-ubyte.gz\n",
            "Downloading http://fashion-mnist.s3-website.eu-central-1.amazonaws.com/train-images-idx3-ubyte.gz to data/FashionMNIST/raw/train-images-idx3-ubyte.gz\n"
          ]
        },
        {
          "output_type": "stream",
          "name": "stderr",
          "text": [
            "100%|██████████| 26421880/26421880 [00:02<00:00, 11673820.27it/s]\n"
          ]
        },
        {
          "output_type": "stream",
          "name": "stdout",
          "text": [
            "Extracting data/FashionMNIST/raw/train-images-idx3-ubyte.gz to data/FashionMNIST/raw\n",
            "\n",
            "Downloading http://fashion-mnist.s3-website.eu-central-1.amazonaws.com/train-labels-idx1-ubyte.gz\n",
            "Downloading http://fashion-mnist.s3-website.eu-central-1.amazonaws.com/train-labels-idx1-ubyte.gz to data/FashionMNIST/raw/train-labels-idx1-ubyte.gz\n"
          ]
        },
        {
          "output_type": "stream",
          "name": "stderr",
          "text": [
            "100%|██████████| 29515/29515 [00:00<00:00, 193654.32it/s]\n"
          ]
        },
        {
          "output_type": "stream",
          "name": "stdout",
          "text": [
            "Extracting data/FashionMNIST/raw/train-labels-idx1-ubyte.gz to data/FashionMNIST/raw\n",
            "\n",
            "Downloading http://fashion-mnist.s3-website.eu-central-1.amazonaws.com/t10k-images-idx3-ubyte.gz\n",
            "Downloading http://fashion-mnist.s3-website.eu-central-1.amazonaws.com/t10k-images-idx3-ubyte.gz to data/FashionMNIST/raw/t10k-images-idx3-ubyte.gz\n"
          ]
        },
        {
          "output_type": "stream",
          "name": "stderr",
          "text": [
            "100%|██████████| 4422102/4422102 [00:01<00:00, 3689726.00it/s]\n"
          ]
        },
        {
          "output_type": "stream",
          "name": "stdout",
          "text": [
            "Extracting data/FashionMNIST/raw/t10k-images-idx3-ubyte.gz to data/FashionMNIST/raw\n",
            "\n",
            "Downloading http://fashion-mnist.s3-website.eu-central-1.amazonaws.com/t10k-labels-idx1-ubyte.gz\n",
            "Downloading http://fashion-mnist.s3-website.eu-central-1.amazonaws.com/t10k-labels-idx1-ubyte.gz to data/FashionMNIST/raw/t10k-labels-idx1-ubyte.gz\n"
          ]
        },
        {
          "output_type": "stream",
          "name": "stderr",
          "text": [
            "100%|██████████| 5148/5148 [00:00<00:00, 4778109.54it/s]\n"
          ]
        },
        {
          "output_type": "stream",
          "name": "stdout",
          "text": [
            "Extracting data/FashionMNIST/raw/t10k-labels-idx1-ubyte.gz to data/FashionMNIST/raw\n",
            "\n"
          ]
        }
      ],
      "source": [
        "import torch\n",
        "from torch.utils.data import Dataset\n",
        "from torchvision import datasets\n",
        "from torch.autograd import Variable\n",
        "import torch.nn.functional as F\n",
        "import os\n",
        "\n",
        "normalize = transforms.Normalize(mean=[x/255.0 for x in [125.3, 123.0, 113.9]],\n",
        "                                    std=[x/255.0 for x in [63.0, 62.1, 66.7]])  #change pixel intensity range\n",
        "\n",
        "transform = transforms.Compose([transforms.ToTensor(),\n",
        "                              transforms.Normalize((0.1307,), (0.3081,))])\n",
        "\n",
        "training_data = datasets.FashionMNIST(\n",
        "    root=\"data\",\n",
        "    train=True,\n",
        "    download=True,\n",
        "    transform=transform\n",
        ")\n",
        "\n",
        "test_data = datasets.FashionMNIST(\n",
        "    root=\"data\",\n",
        "    train=False,\n",
        "    download=True,\n",
        "    transform=transform\n",
        ")"
      ]
    },
    {
      "cell_type": "code",
      "source": [
        "from torch.utils.data import random_split\n",
        "\n",
        "val_size = len(test_data) // 2\n",
        "test_size = len(test_data) - val_size\n",
        "test_data, val_data = random_split(test_data, [test_size, val_size])\n",
        "\n",
        "len(val_data), len(test_data)"
      ],
      "metadata": {
        "colab": {
          "base_uri": "https://localhost:8080/"
        },
        "id": "sk-2NbgIHroO",
        "outputId": "e2bf9586-03f4-4079-dec2-9f18358bf78f"
      },
      "execution_count": null,
      "outputs": [
        {
          "output_type": "execute_result",
          "data": {
            "text/plain": [
              "(5000, 5000)"
            ]
          },
          "metadata": {},
          "execution_count": 43
        }
      ]
    },
    {
      "cell_type": "code",
      "execution_count": null,
      "metadata": {
        "id": "SBaybDsaegl5"
      },
      "outputs": [],
      "source": [
        "\n",
        "label_names = [\n",
        "  \"T-shirt or top\",\n",
        "  \"Trouser\",\n",
        "  \"Pullover\",\n",
        "  \"Dress\",\n",
        "  \"Coat\",\n",
        "  \"Sandal\",\n",
        "  \"Shirt\",\n",
        "  \"Sneaker\",\n",
        "  \"Bag\",\n",
        "  \"Boot\"]\n",
        "\n",
        "train_loader = torch.utils.data.DataLoader(dataset=training_data,\n",
        "                                          batch_size=config.batch_size,\n",
        "                                          shuffle=True)\n",
        "\n",
        "val_loader = torch.utils.data.DataLoader(dataset=val_data,\n",
        "                                        batch_size=config.batch_size,\n",
        "                                        shuffle=False)\n",
        "\n",
        "test_loader = torch.utils.data.DataLoader(dataset=test_data,\n",
        "                                        batch_size=config.batch_size,\n",
        "                                        shuffle=False)"
      ]
    },
    {
      "cell_type": "code",
      "source": [
        "for X, y in test_loader:\n",
        "    print(f\"Shape of X [N, C, H, W]: {X.shape}\")\n",
        "    print(f\"Shape of y: {y.shape} {y.dtype}\")\n",
        "    break"
      ],
      "metadata": {
        "colab": {
          "base_uri": "https://localhost:8080/"
        },
        "id": "1xkmoVqVG7M1",
        "outputId": "c6ab0779-e967-4cd7-b5b0-0a6b55af763b"
      },
      "execution_count": null,
      "outputs": [
        {
          "output_type": "stream",
          "name": "stdout",
          "text": [
            "Shape of X [N, C, H, W]: torch.Size([100, 1, 28, 28])\n",
            "Shape of y: torch.Size([100]) torch.int64\n"
          ]
        }
      ]
    },
    {
      "cell_type": "code",
      "source": [
        "import matplotlib.pyplot as plt\n",
        "import numpy as np\n",
        "\n",
        "def show_img(img):\n",
        "      plt.figure(figsize=(5, 5))\n",
        "      img = img / 2 + 0.5     # unnormalize\n",
        "      npimg = img.numpy()\n",
        "      plt.imshow(np.transpose(npimg, (1, 2, 0)))\n",
        "      plt.show()\n",
        "\n",
        "for i, (images, labels) in enumerate(train_loader):\n",
        "\n",
        "  for i in range(10):\n",
        "    show_img(images[i])\n",
        "    print(labels[i])\n",
        "  break"
      ],
      "metadata": {
        "colab": {
          "base_uri": "https://localhost:8080/",
          "height": 1000
        },
        "id": "doCN8NAxGqrq",
        "outputId": "001a7596-7c74-4e9b-cb33-3c672d87dd3d"
      },
      "execution_count": null,
      "outputs": [
        {
          "output_type": "display_data",
          "data": {
            "text/plain": [
              "<Figure size 500x500 with 1 Axes>"
            ],
            "image/png": "[encoded data removed]"
          },
          "metadata": {}
        },
        {
          "output_type": "stream",
          "name": "stdout",
          "text": [
            "tensor(4)\n"
          ]
        },
        {
          "output_type": "display_data",
          "data": {
            "text/plain": [
              "<Figure size 500x500 with 1 Axes>"
            ],
            "image/png": "[encoded data removed]"
          },
          "metadata": {}
        },
        {
          "output_type": "stream",
          "name": "stdout",
          "text": [
            "tensor(9)\n"
          ]
        },
        {
          "output_type": "display_data",
          "data": {
            "text/plain": [
              "<Figure size 500x500 with 1 Axes>"
            ],
            "image/png": "[encoded data removed]"
          },
          "metadata": {}
        },
        {
          "output_type": "stream",
          "name": "stdout",
          "text": [
            "tensor(4)\n"
          ]
        },
        {
          "output_type": "display_data",
          "data": {
            "text/plain": [
              "<Figure size 500x500 with 1 Axes>"
            ],
            "image/png": "[encoded data removed]"
          },
          "metadata": {}
        },
        {
          "output_type": "stream",
          "name": "stdout",
          "text": [
            "tensor(4)\n"
          ]
        },
        {
          "output_type": "display_data",
          "data": {
            "text/plain": [
              "<Figure size 500x500 with 1 Axes>"
            ],
            "image/png": "[encoded data removed]"
          },
          "metadata": {}
        },
        {
          "output_type": "stream",
          "name": "stdout",
          "text": [
            "tensor(3)\n"
          ]
        },
        {
          "output_type": "display_data",
          "data": {
            "text/plain": [
              "<Figure size 500x500 with 1 Axes>"
            ],
            "image/png": "[encoded data removed]"
          },
          "metadata": {}
        },
        {
          "output_type": "stream",
          "name": "stdout",
          "text": [
            "tensor(2)\n"
          ]
        },
        {
          "output_type": "display_data",
          "data": {
            "text/plain": [
              "<Figure size 500x500 with 1 Axes>"
            ],
            "image/png": "[encoded data removed]"
          },
          "metadata": {}
        },
        {
          "output_type": "stream",
          "name": "stdout",
          "text": [
            "tensor(0)\n"
          ]
        },
        {
          "output_type": "display_data",
          "data": {
            "text/plain": [
              "<Figure size 500x500 with 1 Axes>"
            ],
            "image/png": "[encoded data removed]"
          },
          "metadata": {}
        },
        {
          "output_type": "stream",
          "name": "stdout",
          "text": [
            "tensor(6)\n"
          ]
        },
        {
          "output_type": "display_data",
          "data": {
            "text/plain": [
              "<Figure size 500x500 with 1 Axes>"
            ],
            "image/png": "[encoded data removed]"
          },
          "metadata": {}
        },
        {
          "output_type": "stream",
          "name": "stdout",
          "text": [
            "tensor(6)\n"
          ]
        },
        {
          "output_type": "display_data",
          "data": {
            "text/plain": [
              "<Figure size 500x500 with 1 Axes>"
            ],
            "image/png": "[encoded data removed]"
          },
          "metadata": {}
        },
        {
          "output_type": "stream",
          "name": "stdout",
          "text": [
            "tensor(6)\n"
          ]
        }
      ]
    },
    {
      "cell_type": "markdown",
      "metadata": {
        "id": "WzwAZqnTezCE"
      },
      "source": [
        "###**Train**"
      ]
    },
    {
      "cell_type": "code",
      "execution_count": null,
      "metadata": {
        "id": "6I35LvJHez7x"
      },
      "outputs": [],
      "source": [
        "model = CNNModel()\n",
        "#track gradients\n",
        "# wandb.watch(model)\n",
        "#loss\n",
        "criterion = nn.CrossEntropyLoss()\n",
        "# Tell wandb to watch what the model gets up to: gradients, weights, and more!\n",
        "wandb.watch(model, criterion, log=\"all\", log_freq=10)\n",
        "\n",
        "#optimizer\n",
        "optimizer = torch.optim.Adam(model.parameters(), lr=config.learning_rate)\n",
        "\n",
        "iter = 0"
      ]
    },
    {
      "cell_type": "code",
      "execution_count": null,
      "metadata": {
        "id": "N_Gzb3MUe2CW",
        "colab": {
          "base_uri": "https://localhost:8080/",
          "height": 471
        },
        "outputId": "f7b6af59-f79b-4d90-b8e0-ee7c71509810"
      },
      "outputs": [
        {
          "output_type": "stream",
          "name": "stdout",
          "text": [
            "Iteration: 1300 Loss_train: 0.29 Loss_test: 0.29 Accuracy: 0.38\n",
            "Iteration: 1400 Loss_train: 0.37 Loss_test: 0.37 Accuracy: 0.33\n",
            "Iteration: 1500 Loss_train: 0.40 Loss_test: 0.40 Accuracy: 0.36\n",
            "Iteration: 1600 Loss_train: 0.61 Loss_test: 0.61 Accuracy: 0.37\n",
            "Iteration: 1700 Loss_train: 0.46 Loss_test: 0.46 Accuracy: 0.36\n",
            "Iteration: 1800 Loss_train: 0.32 Loss_test: 0.32 Accuracy: 0.35\n"
          ]
        },
        {
          "output_type": "error",
          "ename": "RuntimeError",
          "evalue": "Boolean value of Tensor with more than one value is ambiguous",
          "traceback": [
            "\u001b[0;31m---------------------------------------------------------------------------\u001b[0m",
            "\u001b[0;31mRuntimeError\u001b[0m                              Traceback (most recent call last)",
            "\u001b[0;32m<ipython-input-50-3d7dd3a66a41>\u001b[0m in \u001b[0;36m<cell line: 4>\u001b[0;34m()\u001b[0m\n\u001b[1;32m     79\u001b[0m \u001b[0;34m\u001b[0m\u001b[0m\n\u001b[1;32m     80\u001b[0m         \u001b[0mbatch_loss_val\u001b[0m \u001b[0;34m+=\u001b[0m \u001b[0mloss_val\u001b[0m\u001b[0;34m.\u001b[0m\u001b[0mitem\u001b[0m\u001b[0;34m(\u001b[0m\u001b[0;34m)\u001b[0m\u001b[0;34m\u001b[0m\u001b[0;34m\u001b[0m\u001b[0m\n\u001b[0;32m---> 81\u001b[0;31m         \u001b[0moutputs\u001b[0m \u001b[0;34m=\u001b[0m \u001b[0;34m[\u001b[0m\u001b[0;36m1\u001b[0m \u001b[0;32mif\u001b[0m \u001b[0mx\u001b[0m\u001b[0;34m>\u001b[0m\u001b[0;36m0.5\u001b[0m \u001b[0;32melse\u001b[0m \u001b[0;36m0\u001b[0m \u001b[0;32mfor\u001b[0m \u001b[0mx\u001b[0m \u001b[0;32min\u001b[0m \u001b[0moutputs\u001b[0m\u001b[0;34m]\u001b[0m\u001b[0;34m\u001b[0m\u001b[0;34m\u001b[0m\u001b[0m\n\u001b[0m\u001b[1;32m     82\u001b[0m         \u001b[0moutputs\u001b[0m \u001b[0;34m=\u001b[0m \u001b[0mtorch\u001b[0m\u001b[0;34m.\u001b[0m\u001b[0mTensor\u001b[0m\u001b[0;34m(\u001b[0m\u001b[0moutputs\u001b[0m\u001b[0;34m)\u001b[0m\u001b[0;34m\u001b[0m\u001b[0;34m\u001b[0m\u001b[0m\n\u001b[1;32m     83\u001b[0m \u001b[0;34m\u001b[0m\u001b[0m\n",
            "\u001b[0;32m<ipython-input-50-3d7dd3a66a41>\u001b[0m in \u001b[0;36m<listcomp>\u001b[0;34m(.0)\u001b[0m\n\u001b[1;32m     79\u001b[0m \u001b[0;34m\u001b[0m\u001b[0m\n\u001b[1;32m     80\u001b[0m         \u001b[0mbatch_loss_val\u001b[0m \u001b[0;34m+=\u001b[0m \u001b[0mloss_val\u001b[0m\u001b[0;34m.\u001b[0m\u001b[0mitem\u001b[0m\u001b[0;34m(\u001b[0m\u001b[0;34m)\u001b[0m\u001b[0;34m\u001b[0m\u001b[0;34m\u001b[0m\u001b[0m\n\u001b[0;32m---> 81\u001b[0;31m         \u001b[0moutputs\u001b[0m \u001b[0;34m=\u001b[0m \u001b[0;34m[\u001b[0m\u001b[0;36m1\u001b[0m \u001b[0;32mif\u001b[0m \u001b[0mx\u001b[0m\u001b[0;34m>\u001b[0m\u001b[0;36m0.5\u001b[0m \u001b[0;32melse\u001b[0m \u001b[0;36m0\u001b[0m \u001b[0;32mfor\u001b[0m \u001b[0mx\u001b[0m \u001b[0;32min\u001b[0m \u001b[0moutputs\u001b[0m\u001b[0;34m]\u001b[0m\u001b[0;34m\u001b[0m\u001b[0;34m\u001b[0m\u001b[0m\n\u001b[0m\u001b[1;32m     82\u001b[0m         \u001b[0moutputs\u001b[0m \u001b[0;34m=\u001b[0m \u001b[0mtorch\u001b[0m\u001b[0;34m.\u001b[0m\u001b[0mTensor\u001b[0m\u001b[0;34m(\u001b[0m\u001b[0moutputs\u001b[0m\u001b[0;34m)\u001b[0m\u001b[0;34m\u001b[0m\u001b[0;34m\u001b[0m\u001b[0m\n\u001b[1;32m     83\u001b[0m \u001b[0;34m\u001b[0m\u001b[0m\n",
            "\u001b[0;31mRuntimeError\u001b[0m: Boolean value of Tensor with more than one value is ambiguous"
          ]
        }
      ],
      "source": [
        "total_loss_train = []\n",
        "total_loss_validation = []\n",
        "\n",
        "for epoch in range(config.epochs):\n",
        "  batch_loss_train=0\n",
        "  batch_loss_val=0\n",
        "  num_batches = 0\n",
        "  for i, (images, labels) in enumerate(train_loader):\n",
        "\n",
        "      # Clear gradients w.r.t. parameters\n",
        "      optimizer.zero_grad()\n",
        "\n",
        "      # Forward pass to get output/logits\n",
        "      outputs = model(images)\n",
        "\n",
        "      # Calculate Loss: softmax --> cross entropy loss\n",
        "      loss = criterion(outputs, labels)\n",
        "\n",
        "      # Getting gradients w.r.t. parameters\n",
        "      loss.backward()\n",
        "\n",
        "      # Updating parameters\n",
        "      optimizer.step()\n",
        "\n",
        "      batch_loss_train+=loss.item()\n",
        "\n",
        "      iter += 1\n",
        "      num_batches+=1\n",
        "\n",
        "      if iter % 100 == 0:\n",
        "          # Calculate Accuracy\n",
        "          correct = 0.0\n",
        "          correct_arr = [0.0] * 10\n",
        "          total = 0.0\n",
        "          total_arr = [0.0] * 10\n",
        "\n",
        "          # Iterate through test dataset\n",
        "          for images, labels in test_loader:\n",
        "\n",
        "              # Forward pass only to get logits/output\n",
        "              outputs = model(images)\n",
        "\n",
        "              # Get predictions from the maximum value\n",
        "              _, predicted = torch.max(outputs.data, 1)\n",
        "\n",
        "              # Total number of labels\n",
        "              total += labels.size(0)\n",
        "              correct += (predicted == labels).sum()\n",
        "              loss_test = criterion(outputs, labels)\n",
        "              for label in range(10):\n",
        "                  correct_arr[label] += (((predicted == labels) & (labels==label)).sum())\n",
        "                  total_arr[label] += (labels == label).sum()\n",
        "\n",
        "          accuracy = correct / total\n",
        "\n",
        "          metrics = {'accuracy': accuracy, 'loss_train': loss, 'loss_test': loss_test}\n",
        "          for label in range(10):\n",
        "              metrics['Accuracy ' + label_names[label]] = correct_arr[label] / total_arr[label]   #tells wand to log the metrics defined earlier\n",
        "          wandb.log(metrics)\n",
        "\n",
        "          # Print Loss\n",
        "          print('Iteration: {0} Loss_train: {1:.2f} Loss_test: {1:.2f} Accuracy: {2:.2f}'.format(iter, loss,loss_test, accuracy))\n",
        "\n",
        "  batch_loss_train/=num_batches\n",
        "  total_loss_train.append(batch_loss_train)\n",
        "\n",
        "  correct = 0\n",
        "  total = 0\n",
        "  count = 0\n",
        "  with torch.no_grad():\n",
        "\n",
        "    for data in val_loader:\n",
        "        # print(\"s\")\n",
        "        images, labels = data\n",
        "        outputs = model(images)\n",
        "        total += labels.size(0)\n",
        "        # os.cpu_count+=1\n",
        "        loss_val = criterion(outputs, labels)\n",
        "\n",
        "        batch_loss_val += loss_val.item()\n",
        "        outputs = [1 if x>0.5 else 0 for x in outputs]\n",
        "        outputs = torch.Tensor(outputs)\n",
        "\n",
        "        correct += (outputs == labels).sum().item()\n",
        "    total_loss_validation += [batch_loss_val/count]\n",
        "    print(\"Validation loss is \",batch_loss_val/count)\n",
        "\n",
        "torch.save(model.state_dict(), os.path.join(wandb.run.dir, \"model.pt\"))\n",
        "\n"
      ]
    },
    {
      "cell_type": "code",
      "execution_count": null,
      "metadata": {
        "id": "-mWkuGXAx3uf"
      },
      "outputs": [],
      "source": []
    }
  ],
  "metadata": {
    "accelerator": "GPU",
    "colab": {
      "provenance": [],
      "collapsed_sections": [
        "cz_PUQQkiqgy",
        "8DnM6K-lUxFL"
      ]
    },
    "gpuClass": "standard",
    "kernelspec": {
      "display_name": "Python 3 (ipykernel)",
      "language": "python",
      "name": "python3"
    },
    "language_info": {
      "codemirror_mode": {
        "name": "ipython",
        "version": 3
      },
      "file_extension": ".py",
      "mimetype": "text/x-python",
      "name": "python",
      "nbconvert_exporter": "python",
      "pygments_lexer": "ipython3",
      "version": "3.9.7"
    }
  },
  "nbformat": 4,
  "nbformat_minor": 0
}